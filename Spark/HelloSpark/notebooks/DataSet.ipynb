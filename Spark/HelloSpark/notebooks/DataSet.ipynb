{
 "cells": [
  {
   "cell_type": "code",
   "execution_count": 1,
   "id": "e2515a1c-c4f9-4890-aa6d-641bf419cea6",
   "metadata": {},
   "outputs": [
    {
     "data": {
      "text/plain": [
       "\u001b[32mimport \u001b[39m\u001b[36m$ivy.$                                  \u001b[39m"
      ]
     },
     "execution_count": 1,
     "metadata": {},
     "output_type": "execute_result"
    }
   ],
   "source": [
    "import $ivy.`org.apache.spark::spark-sql:3.3.0`"
   ]
  },
  {
   "cell_type": "code",
   "execution_count": 2,
   "id": "dc99a5fd-2141-4ffe-afb1-4b0a595a75af",
   "metadata": {},
   "outputs": [
    {
     "data": {
      "text/plain": [
       "\u001b[32mimport \u001b[39m\u001b[36morg.apache.log4j.{Level, Logger}\n",
       "\u001b[39m"
      ]
     },
     "execution_count": 2,
     "metadata": {},
     "output_type": "execute_result"
    }
   ],
   "source": [
    "import org.apache.log4j.{Level, Logger}\n",
    "Logger.getLogger(\"org\").setLevel(Level.WARN)"
   ]
  },
  {
   "cell_type": "code",
   "execution_count": 3,
   "id": "49835da8-c4d0-461a-a2c8-3c0959118bb4",
   "metadata": {},
   "outputs": [
    {
     "data": {
      "text/plain": [
       "\u001b[32mimport \u001b[39m\u001b[36morg.apache.spark.sql._\n",
       "\u001b[39m\n",
       "\u001b[32mimport \u001b[39m\u001b[36morg.apache.spark.sql.types._\n",
       "\u001b[39m\n",
       "\u001b[32mimport \u001b[39m\u001b[36morg.apache.spark.sql.functions._\n",
       "\u001b[39m\n",
       "\u001b[32mimport \u001b[39m\u001b[36mjava.sql.Date\n",
       "\u001b[39m\n",
       "\u001b[32mimport \u001b[39m\u001b[36mscala.collection.JavaConverters._\n",
       "\u001b[39m\n",
       "\u001b[32mimport \u001b[39m\u001b[36mscala.collection.immutable.HashSet\u001b[39m"
      ]
     },
     "execution_count": 3,
     "metadata": {},
     "output_type": "execute_result"
    }
   ],
   "source": [
    "import org.apache.spark.sql._\n",
    "import org.apache.spark.sql.types._\n",
    "import org.apache.spark.sql.functions._\n",
    "import java.sql.Date\n",
    "import scala.collection.JavaConverters._\n",
    "import scala.collection.immutable.HashSet"
   ]
  },
  {
   "cell_type": "code",
   "execution_count": 4,
   "id": "7df9de1d-1f63-41b1-999b-69614c723fae",
   "metadata": {},
   "outputs": [
    {
     "name": "stderr",
     "output_type": "stream",
     "text": [
      "Using Spark's default log4j profile: org/apache/spark/log4j2-defaults.properties\n"
     ]
    },
    {
     "name": "stdout",
     "output_type": "stream",
     "text": [
      "22/07/14 15:32:16 INFO SparkContext: Running Spark version 3.3.0\n",
      "22/07/14 15:32:17 INFO ResourceUtils: ==============================================================\n",
      "22/07/14 15:32:17 INFO ResourceUtils: No custom resources configured for spark.driver.\n",
      "22/07/14 15:32:17 INFO ResourceUtils: ==============================================================\n",
      "22/07/14 15:32:17 INFO SparkContext: Submitted application: Hello Spark\n",
      "22/07/14 15:32:17 INFO ResourceProfile: Default ResourceProfile created, executor resources: Map(cores -> name: cores, amount: 1, script: , vendor: , memory -> name: memory, amount: 1024, script: , vendor: , offHeap -> name: offHeap, amount: 0, script: , vendor: ), task resources: Map(cpus -> name: cpus, amount: 1.0)\n",
      "22/07/14 15:32:17 INFO ResourceProfile: Limiting resource is cpu\n",
      "22/07/14 15:32:17 INFO ResourceProfileManager: Added ResourceProfile id: 0\n",
      "22/07/14 15:32:17 INFO SecurityManager: Changing view acls to: vadim\n",
      "22/07/14 15:32:17 INFO SecurityManager: Changing modify acls to: vadim\n",
      "22/07/14 15:32:17 INFO SecurityManager: Changing view acls groups to: \n",
      "22/07/14 15:32:17 INFO SecurityManager: Changing modify acls groups to: \n",
      "22/07/14 15:32:17 INFO SecurityManager: SecurityManager: authentication disabled; ui acls disabled; users  with view permissions: Set(vadim); groups with view permissions: Set(); users  with modify permissions: Set(vadim); groups with modify permissions: Set()\n",
      "22/07/14 15:32:17 INFO Utils: Successfully started service 'sparkDriver' on port 35679.\n",
      "22/07/14 15:32:17 INFO SparkEnv: Registering MapOutputTracker\n",
      "22/07/14 15:32:17 INFO SparkEnv: Registering BlockManagerMaster\n",
      "22/07/14 15:32:17 INFO BlockManagerMasterEndpoint: Using org.apache.spark.storage.DefaultTopologyMapper for getting topology information\n",
      "22/07/14 15:32:17 INFO BlockManagerMasterEndpoint: BlockManagerMasterEndpoint up\n",
      "22/07/14 15:32:17 INFO SparkEnv: Registering BlockManagerMasterHeartbeat\n",
      "22/07/14 15:32:17 INFO DiskBlockManager: Created local directory at /tmp/blockmgr-abe9ca85-a7b3-4938-be86-d3ec931dce2c\n",
      "22/07/14 15:32:17 INFO MemoryStore: MemoryStore started with capacity 4.0 GiB\n",
      "22/07/14 15:32:17 INFO SparkEnv: Registering OutputCommitCoordinator\n",
      "22/07/14 15:32:17 WARN Utils: Service 'SparkUI' could not bind on port 4040. Attempting port 4041.\n",
      "22/07/14 15:32:17 WARN Utils: Service 'SparkUI' could not bind on port 4041. Attempting port 4042.\n",
      "22/07/14 15:32:17 WARN Utils: Service 'SparkUI' could not bind on port 4042. Attempting port 4043.\n",
      "22/07/14 15:32:17 WARN Utils: Service 'SparkUI' could not bind on port 4043. Attempting port 4044.\n",
      "22/07/14 15:32:17 INFO Utils: Successfully started service 'SparkUI' on port 4044.\n",
      "22/07/14 15:32:17 INFO Executor: Starting executor ID driver on host ubuntu\n",
      "22/07/14 15:32:17 INFO Executor: Starting executor with user classpath (userClassPathFirst = false): ''\n",
      "22/07/14 15:32:17 INFO Utils: Successfully started service 'org.apache.spark.network.netty.NettyBlockTransferService' on port 34837.\n",
      "22/07/14 15:32:17 INFO NettyBlockTransferService: Server created on ubuntu:34837\n",
      "22/07/14 15:32:17 INFO BlockManager: Using org.apache.spark.storage.RandomBlockReplicationPolicy for block replication policy\n",
      "22/07/14 15:32:17 INFO BlockManagerMaster: Registering BlockManager BlockManagerId(driver, ubuntu, 34837, None)\n",
      "22/07/14 15:32:17 INFO BlockManagerMasterEndpoint: Registering block manager ubuntu:34837 with 4.0 GiB RAM, BlockManagerId(driver, ubuntu, 34837, None)\n",
      "22/07/14 15:32:17 INFO BlockManagerMaster: Registered BlockManager BlockManagerId(driver, ubuntu, 34837, None)\n",
      "22/07/14 15:32:17 INFO BlockManager: Initialized BlockManager: BlockManagerId(driver, ubuntu, 34837, None)\n"
     ]
    },
    {
     "data": {
      "text/plain": [
       "\u001b[36mspark\u001b[39m: \u001b[32mSparkSession\u001b[39m = org.apache.spark.sql.SparkSession@9309803\n",
       "\u001b[32mimport \u001b[39m\u001b[36mspark.implicits._\n",
       "\u001b[39m"
      ]
     },
     "execution_count": 4,
     "metadata": {},
     "output_type": "execute_result"
    }
   ],
   "source": [
    "val spark = SparkSession\n",
    "                .builder()\n",
    "                .master(\"local[*]\")\n",
    "                .appName(\"Hello Spark\")\n",
    "                .getOrCreate()\n",
    "\n",
    "import spark.implicits._\n",
    "spark.sparkContext.setLogLevel(\"WARN\")"
   ]
  },
  {
   "cell_type": "code",
   "execution_count": 5,
   "id": "59c101c3-900c-4a51-8f5f-bfc0ce535ef9",
   "metadata": {},
   "outputs": [
    {
     "name": "stdout",
     "output_type": "stream",
     "text": [
      "spark.version == 3.3.0\n"
     ]
    }
   ],
   "source": [
    "println(s\"spark.version == ${spark.version}\")"
   ]
  },
  {
   "cell_type": "code",
   "execution_count": 6,
   "id": "3f5b193d-79db-404c-a941-1b3e80949422",
   "metadata": {},
   "outputs": [
    {
     "data": {
      "text/plain": [
       "defined \u001b[32mclass\u001b[39m \u001b[36mPerson\u001b[39m\n",
       "\u001b[36mpersonDS\u001b[39m: \u001b[32mDataset\u001b[39m[\u001b[32mPerson\u001b[39m] = [name: string, age: bigint]"
      ]
     },
     "execution_count": 6,
     "metadata": {},
     "output_type": "execute_result"
    }
   ],
   "source": [
    "case class Person(name: String, age: Long)\n",
    "\n",
    "val personDS = Seq(Person(\"Andy\", 32), Person(\"Mike\", 25), Person(\"Mary\", 18)).toDS()"
   ]
  },
  {
   "cell_type": "code",
   "execution_count": 7,
   "id": "5a63cdb5-ae19-4418-9edb-0e2bc1845438",
   "metadata": {},
   "outputs": [
    {
     "name": "stdout",
     "output_type": "stream",
     "text": [
      "+----+---+\n",
      "|name|age|\n",
      "+----+---+\n",
      "|Andy| 32|\n",
      "|Mike| 25|\n",
      "|Mary| 18|\n",
      "+----+---+\n",
      "\n"
     ]
    }
   ],
   "source": [
    "personDS.show"
   ]
  },
  {
   "cell_type": "code",
   "execution_count": 8,
   "id": "90d98d18-1e28-4d5e-b098-58f4c72c22c2",
   "metadata": {},
   "outputs": [
    {
     "name": "stdout",
     "output_type": "stream",
     "text": [
      "root\n",
      " |-- name: string (nullable = true)\n",
      " |-- age: long (nullable = false)\n",
      "\n"
     ]
    }
   ],
   "source": [
    "personDS.printSchema"
   ]
  },
  {
   "cell_type": "code",
   "execution_count": 9,
   "id": "af3f0b11-3c47-4739-b1c4-9fc6a01e816b",
   "metadata": {},
   "outputs": [
    {
     "name": "stdout",
     "output_type": "stream",
     "text": [
      "+----+---+\n",
      "|name|age|\n",
      "+----+---+\n",
      "|Andy| 32|\n",
      "|Mike| 25|\n",
      "+----+---+\n",
      "\n"
     ]
    }
   ],
   "source": [
    "personDS.filter($\"age\" > 20).show"
   ]
  },
  {
   "cell_type": "code",
   "execution_count": 10,
   "id": "dceaec62-1200-4216-8b76-4f6891a8657b",
   "metadata": {},
   "outputs": [
    {
     "name": "stdout",
     "output_type": "stream",
     "text": [
      "+----+---+\n",
      "|name|age|\n",
      "+----+---+\n",
      "|Andy| 32|\n",
      "|Mike| 25|\n",
      "+----+---+\n",
      "\n"
     ]
    }
   ],
   "source": [
    "personDS.filter(_.age > 20).show"
   ]
  },
  {
   "cell_type": "code",
   "execution_count": 11,
   "id": "6bfaa549-4050-44b8-be8e-964036cd2c90",
   "metadata": {},
   "outputs": [
    {
     "name": "stdout",
     "output_type": "stream",
     "text": [
      "+----+\n",
      "|name|\n",
      "+----+\n",
      "|Andy|\n",
      "|Mike|\n",
      "|Mary|\n",
      "+----+\n",
      "\n"
     ]
    }
   ],
   "source": [
    "personDS.select(col(\"name\")).show"
   ]
  },
  {
   "cell_type": "code",
   "execution_count": 12,
   "id": "a3ba645b-5fcb-41c5-845c-200746b01429",
   "metadata": {},
   "outputs": [
    {
     "name": "stdout",
     "output_type": "stream",
     "text": [
      "+----+\n",
      "|name|\n",
      "+----+\n",
      "|Andy|\n",
      "|Mike|\n",
      "|Mary|\n",
      "+----+\n",
      "\n"
     ]
    }
   ],
   "source": [
    "personDS.select('name).show"
   ]
  },
  {
   "cell_type": "code",
   "execution_count": 13,
   "id": "fccea850-0a40-4904-80c0-327d6c40cee5",
   "metadata": {},
   "outputs": [
    {
     "data": {
      "text/plain": [
       "defined \u001b[32mclass\u001b[39m \u001b[36mPersonCount\u001b[39m"
      ]
     },
     "execution_count": 13,
     "metadata": {},
     "output_type": "execute_result"
    }
   ],
   "source": [
    "case class PersonCount(name: String, count: Long)"
   ]
  },
  {
   "cell_type": "code",
   "execution_count": 17,
   "id": "ec14b6e1-6849-4d62-a253-f2ee303e23e4",
   "metadata": {},
   "outputs": [
    {
     "data": {
      "text/plain": [
       "\u001b[36mres16\u001b[39m: \u001b[32mDataset\u001b[39m[\u001b[32mPersonCount\u001b[39m] = [name: string, count: bigint]"
      ]
     },
     "execution_count": 17,
     "metadata": {},
     "output_type": "execute_result"
    }
   ],
   "source": [
    "personDS.groupBy('name).count.as[PersonCount]"
   ]
  },
  {
   "cell_type": "code",
   "execution_count": 15,
   "id": "ad9ba35d-3ae3-453b-8479-850ef77d04cf",
   "metadata": {},
   "outputs": [
    {
     "data": {
      "text/plain": [
       "\u001b[36mres14\u001b[39m: \u001b[32mDataFrame\u001b[39m = [name: string, count: bigint]"
      ]
     },
     "execution_count": 15,
     "metadata": {},
     "output_type": "execute_result"
    }
   ],
   "source": [
    "personDS.groupBy('name).count"
   ]
  },
  {
   "cell_type": "code",
   "execution_count": null,
   "id": "17457ede-310a-4b9f-b7f4-410b9a8c40cd",
   "metadata": {},
   "outputs": [],
   "source": []
  }
 ],
 "metadata": {
  "kernelspec": {
   "display_name": "Scala",
   "language": "scala",
   "name": "scala"
  },
  "language_info": {
   "codemirror_mode": "text/x-scala",
   "file_extension": ".scala",
   "mimetype": "text/x-scala",
   "name": "scala",
   "nbconvert_exporter": "script",
   "version": "2.12.10"
  }
 },
 "nbformat": 4,
 "nbformat_minor": 5
}

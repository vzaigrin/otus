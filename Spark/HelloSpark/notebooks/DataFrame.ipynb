{
 "cells": [
  {
   "cell_type": "code",
   "execution_count": 1,
   "id": "e2515a1c-c4f9-4890-aa6d-641bf419cea6",
   "metadata": {},
   "outputs": [
    {
     "data": {
      "text/plain": [
       "\u001b[32mimport \u001b[39m\u001b[36m$ivy.$                                  \u001b[39m"
      ]
     },
     "execution_count": 1,
     "metadata": {},
     "output_type": "execute_result"
    }
   ],
   "source": [
    "import $ivy.`org.apache.spark::spark-sql:3.3.2`"
   ]
  },
  {
   "cell_type": "code",
   "execution_count": 2,
   "id": "dc99a5fd-2141-4ffe-afb1-4b0a595a75af",
   "metadata": {},
   "outputs": [
    {
     "data": {
      "text/plain": [
       "\u001b[32mimport \u001b[39m\u001b[36morg.apache.log4j.{Level, Logger}\n",
       "\u001b[39m"
      ]
     },
     "execution_count": 2,
     "metadata": {},
     "output_type": "execute_result"
    }
   ],
   "source": [
    "import org.apache.log4j.{Level, Logger}\n",
    "Logger.getLogger(\"org\").setLevel(Level.WARN)"
   ]
  },
  {
   "cell_type": "code",
   "execution_count": 3,
   "id": "49835da8-c4d0-461a-a2c8-3c0959118bb4",
   "metadata": {},
   "outputs": [
    {
     "data": {
      "text/plain": [
       "\u001b[32mimport \u001b[39m\u001b[36morg.apache.spark.sql._\n",
       "\u001b[39m\n",
       "\u001b[32mimport \u001b[39m\u001b[36morg.apache.spark.sql.types._\n",
       "\u001b[39m\n",
       "\u001b[32mimport \u001b[39m\u001b[36morg.apache.spark.sql.functions._\n",
       "\u001b[39m\n",
       "\u001b[32mimport \u001b[39m\u001b[36mjava.sql.Date\n",
       "\u001b[39m\n",
       "\u001b[32mimport \u001b[39m\u001b[36mscala.collection.JavaConverters._\u001b[39m"
      ]
     },
     "execution_count": 3,
     "metadata": {},
     "output_type": "execute_result"
    }
   ],
   "source": [
    "import org.apache.spark.sql._\n",
    "import org.apache.spark.sql.types._\n",
    "import org.apache.spark.sql.functions._\n",
    "import java.sql.Date\n",
    "import scala.collection.JavaConverters._"
   ]
  },
  {
   "cell_type": "code",
   "execution_count": 4,
   "id": "7df9de1d-1f63-41b1-999b-69614c723fae",
   "metadata": {},
   "outputs": [
    {
     "name": "stderr",
     "output_type": "stream",
     "text": [
      "SLF4J: No SLF4J providers were found.\n",
      "SLF4J: Defaulting to no-operation (NOP) logger implementation\n",
      "SLF4J: See https://www.slf4j.org/codes.html#noProviders for further details.\n",
      "Using Spark's default log4j profile: org/apache/spark/log4j2-defaults.properties\n"
     ]
    },
    {
     "data": {
      "text/plain": [
       "\u001b[36mspark\u001b[39m: \u001b[32mSparkSession\u001b[39m = org.apache.spark.sql.SparkSession@a0d13d3\n",
       "\u001b[32mimport \u001b[39m\u001b[36mspark.implicits._\n",
       "\u001b[39m\n",
       "\u001b[36mres3_2\u001b[39m: \u001b[32mString\u001b[39m = \u001b[32m\"3.3.2\"\u001b[39m"
      ]
     },
     "execution_count": 4,
     "metadata": {},
     "output_type": "execute_result"
    }
   ],
   "source": [
    "val spark = SparkSession\n",
    "                .builder()\n",
    "                .master(\"local[*]\")\n",
    "                .appName(\"Hello Spark\")\n",
    "                .getOrCreate()\n",
    "\n",
    "import spark.implicits._\n",
    "spark.version"
   ]
  },
  {
   "cell_type": "code",
   "execution_count": 5,
   "id": "59c101c3-900c-4a51-8f5f-bfc0ce535ef9",
   "metadata": {},
   "outputs": [
    {
     "name": "stdout",
     "output_type": "stream",
     "text": [
      "spark.version == 3.3.2\n"
     ]
    }
   ],
   "source": [
    "println(s\"spark.version == ${spark.version}\")"
   ]
  },
  {
   "cell_type": "markdown",
   "id": "4c80ad79-0b47-4eb7-9d40-7380dec1d045",
   "metadata": {},
   "source": [
    "# DataFrame"
   ]
  },
  {
   "cell_type": "code",
   "execution_count": 6,
   "id": "11f60a79-f610-4973-a8e1-391f53ff22ce",
   "metadata": {},
   "outputs": [
    {
     "data": {
      "text/plain": [
       "\u001b[36mdf\u001b[39m: \u001b[32mDataFrame\u001b[39m = [_1: int, _2: double ... 2 more fields]\n",
       "\u001b[36mres5_1\u001b[39m: \u001b[32mDataFrame\u001b[39m = [_1: int, _2: double ... 2 more fields]"
      ]
     },
     "execution_count": 6,
     "metadata": {},
     "output_type": "execute_result"
    }
   ],
   "source": [
    "val df = spark.createDataFrame(Array(\n",
    "    (1, 2.0, \"string1\", Date.valueOf(\"2000-01-01\")),\n",
    "    (2, 3.0, \"string2\", Date.valueOf(\"2000-02-01\")),\n",
    "    (3, 4.0, \"string3\", Date.valueOf(\"2000-03-01\"))\n",
    "))\n",
    "df"
   ]
  },
  {
   "cell_type": "code",
   "execution_count": 7,
   "id": "72a3e31b-2095-47dd-8528-1e2995755c6a",
   "metadata": {},
   "outputs": [
    {
     "name": "stdout",
     "output_type": "stream",
     "text": [
      "root\n",
      " |-- _1: integer (nullable = false)\n",
      " |-- _2: double (nullable = false)\n",
      " |-- _3: string (nullable = true)\n",
      " |-- _4: date (nullable = true)\n",
      "\n"
     ]
    }
   ],
   "source": [
    "df.printSchema"
   ]
  },
  {
   "cell_type": "code",
   "execution_count": 8,
   "id": "a4d162fe-1f82-46ef-9805-5ba14928e425",
   "metadata": {},
   "outputs": [
    {
     "data": {
      "text/plain": [
       "\u001b[36mschema\u001b[39m: \u001b[32mStructType\u001b[39m = \u001b[33mStructType\u001b[39m(\n",
       "  \u001b[33mStructField\u001b[39m(\u001b[32m\"a\"\u001b[39m, IntegerType, \u001b[32mtrue\u001b[39m, {}),\n",
       "  \u001b[33mStructField\u001b[39m(\u001b[32m\"b\"\u001b[39m, DoubleType, \u001b[32mtrue\u001b[39m, {}),\n",
       "  \u001b[33mStructField\u001b[39m(\u001b[32m\"c\"\u001b[39m, StringType, \u001b[32mtrue\u001b[39m, {}),\n",
       "  \u001b[33mStructField\u001b[39m(\u001b[32m\"d\"\u001b[39m, DateType, \u001b[32mtrue\u001b[39m, {})\n",
       ")"
      ]
     },
     "execution_count": 8,
     "metadata": {},
     "output_type": "execute_result"
    }
   ],
   "source": [
    "val schema = StructType(\n",
    "    StructField(\"a\", IntegerType, nullable = true) ::\n",
    "    StructField(\"b\", DoubleType, nullable = true) ::\n",
    "    StructField(\"c\", StringType, nullable = true) ::\n",
    "    StructField(\"d\", DateType, nullable = true) ::\n",
    "    Nil)"
   ]
  },
  {
   "cell_type": "code",
   "execution_count": 9,
   "id": "c295eea9-df9c-45c3-841c-4da3be981688",
   "metadata": {},
   "outputs": [
    {
     "data": {
      "text/plain": [
       "\u001b[36msc\u001b[39m: \u001b[32morg\u001b[39m.\u001b[32mapache\u001b[39m.\u001b[32mspark\u001b[39m.\u001b[32mSparkContext\u001b[39m = org.apache.spark.SparkContext@48888eb\n",
       "\u001b[36mdf1\u001b[39m: \u001b[32mDataFrame\u001b[39m = [a: int, b: double ... 2 more fields]\n",
       "\u001b[36mres8_2\u001b[39m: \u001b[32mDataFrame\u001b[39m = [a: int, b: double ... 2 more fields]"
      ]
     },
     "execution_count": 9,
     "metadata": {},
     "output_type": "execute_result"
    }
   ],
   "source": [
    "val sc = spark.sparkContext\n",
    "val df1 = spark.createDataFrame(sc.parallelize(\n",
    "    Seq(\n",
    "        Row(1, 2.0, \"string1\", Date.valueOf(\"2000-01-01\")),\n",
    "        Row(2, 3.0, \"string2\", Date.valueOf(\"2000-02-01\")),\n",
    "        Row(3, 4.0, \"string3\", Date.valueOf(\"2000-03-01\"))\n",
    "    )),\n",
    "    schema)\n",
    "df1"
   ]
  },
  {
   "cell_type": "code",
   "execution_count": 10,
   "id": "ae6ed15e-691a-4286-8560-9799023473e3",
   "metadata": {},
   "outputs": [
    {
     "name": "stdout",
     "output_type": "stream",
     "text": [
      "root\n",
      " |-- a: integer (nullable = true)\n",
      " |-- b: double (nullable = true)\n",
      " |-- c: string (nullable = true)\n",
      " |-- d: date (nullable = true)\n",
      "\n"
     ]
    }
   ],
   "source": [
    "df1.printSchema"
   ]
  },
  {
   "cell_type": "code",
   "execution_count": 11,
   "id": "f0a6f8a2-94d4-40ca-a57c-a8997b6350b7",
   "metadata": {},
   "outputs": [
    {
     "data": {
      "text/plain": [
       "\u001b[36mres10\u001b[39m: \u001b[32mArray\u001b[39m[(\u001b[32mString\u001b[39m, \u001b[32mString\u001b[39m)] = \u001b[33mArray\u001b[39m(\n",
       "  (\u001b[32m\"a\"\u001b[39m, \u001b[32m\"IntegerType\"\u001b[39m),\n",
       "  (\u001b[32m\"b\"\u001b[39m, \u001b[32m\"DoubleType\"\u001b[39m),\n",
       "  (\u001b[32m\"c\"\u001b[39m, \u001b[32m\"StringType\"\u001b[39m),\n",
       "  (\u001b[32m\"d\"\u001b[39m, \u001b[32m\"DateType\"\u001b[39m)\n",
       ")"
      ]
     },
     "execution_count": 11,
     "metadata": {},
     "output_type": "execute_result"
    }
   ],
   "source": [
    "df1.dtypes"
   ]
  },
  {
   "cell_type": "code",
   "execution_count": 12,
   "id": "80d70560-3300-496e-8930-6490da3a7408",
   "metadata": {},
   "outputs": [
    {
     "name": "stdout",
     "output_type": "stream",
     "text": [
      "+---+---+-------+----------+\n",
      "|  a|  b|      c|         d|\n",
      "+---+---+-------+----------+\n",
      "|  1|2.0|string1|2000-01-01|\n",
      "|  2|3.0|string2|2000-02-01|\n",
      "|  3|4.0|string3|2000-03-01|\n",
      "+---+---+-------+----------+\n",
      "\n"
     ]
    }
   ],
   "source": [
    "df1.show()"
   ]
  },
  {
   "cell_type": "code",
   "execution_count": 13,
   "id": "522d3fea-93c8-4ddf-9c9c-8119e923fad8",
   "metadata": {},
   "outputs": [
    {
     "data": {
      "text/plain": [
       "\u001b[36mres12\u001b[39m: \u001b[32mArray\u001b[39m[\u001b[32mString\u001b[39m] = \u001b[33mArray\u001b[39m(\u001b[32m\"a\"\u001b[39m, \u001b[32m\"b\"\u001b[39m, \u001b[32m\"c\"\u001b[39m, \u001b[32m\"d\"\u001b[39m)"
      ]
     },
     "execution_count": 13,
     "metadata": {},
     "output_type": "execute_result"
    }
   ],
   "source": [
    "df1.columns"
   ]
  },
  {
   "cell_type": "code",
   "execution_count": 14,
   "id": "243ebb3f-433e-42bf-a19a-b8d90efdc964",
   "metadata": {},
   "outputs": [
    {
     "name": "stdout",
     "output_type": "stream",
     "text": [
      "+-------+---+---+-------+\n",
      "|summary|  a|  b|      c|\n",
      "+-------+---+---+-------+\n",
      "|  count|  3|  3|      3|\n",
      "|   mean|2.0|3.0|   null|\n",
      "| stddev|1.0|1.0|   null|\n",
      "|    min|  1|2.0|string1|\n",
      "|    max|  3|4.0|string3|\n",
      "+-------+---+---+-------+\n",
      "\n"
     ]
    }
   ],
   "source": [
    "df1.select(\"a\", \"b\", \"c\").describe().show()"
   ]
  },
  {
   "cell_type": "code",
   "execution_count": 15,
   "id": "c95a148f-b769-4da3-a23c-10f8c4b595fe",
   "metadata": {},
   "outputs": [
    {
     "name": "stdout",
     "output_type": "stream",
     "text": [
      "+---+---+-------+----------+-------+\n",
      "|  a|  b|      c|         d|upper_c|\n",
      "+---+---+-------+----------+-------+\n",
      "|  1|2.0|string1|2000-01-01|STRING1|\n",
      "|  2|3.0|string2|2000-02-01|STRING2|\n",
      "|  3|4.0|string3|2000-03-01|STRING3|\n",
      "+---+---+-------+----------+-------+\n",
      "\n"
     ]
    }
   ],
   "source": [
    "df1.withColumn(\"upper_c\", upper($\"c\")).show()"
   ]
  },
  {
   "cell_type": "code",
   "execution_count": 16,
   "id": "36957899-81ab-4705-8c84-c9eb7b858c0c",
   "metadata": {},
   "outputs": [
    {
     "name": "stdout",
     "output_type": "stream",
     "text": [
      "+---+---+-------+----------+\n",
      "|  a|  b|      c|         d|\n",
      "+---+---+-------+----------+\n",
      "|  1|2.0|string1|2000-01-01|\n",
      "+---+---+-------+----------+\n",
      "\n"
     ]
    }
   ],
   "source": [
    "df1.filter($\"a\" === 1).show()"
   ]
  },
  {
   "cell_type": "code",
   "execution_count": 17,
   "id": "e4ecaf5a-5fc4-4ab6-a7bf-f5e27a1df123",
   "metadata": {},
   "outputs": [
    {
     "name": "stdout",
     "output_type": "stream",
     "text": [
      "+-----+------+---+---+\n",
      "|color| fruit| v1| v2|\n",
      "+-----+------+---+---+\n",
      "|  red|banana|  1| 10|\n",
      "| blue|banana|  2| 20|\n",
      "|  red|carrot|  3| 30|\n",
      "| blue| grape|  4| 40|\n",
      "|  red|carrot|  5| 50|\n",
      "|black|carrot|  6| 60|\n",
      "|  red|banana|  7| 70|\n",
      "|  red| grape|  8| 80|\n",
      "+-----+------+---+---+\n",
      "\n"
     ]
    },
    {
     "data": {
      "text/plain": [
       "\u001b[36mdf2\u001b[39m: \u001b[32mDataFrame\u001b[39m = [color: string, fruit: string ... 2 more fields]"
      ]
     },
     "execution_count": 17,
     "metadata": {},
     "output_type": "execute_result"
    }
   ],
   "source": [
    "val df2 = spark.createDataFrame(List(\n",
    "    Row(\"red\", \"banana\", 1, 10),\n",
    "    Row(\"blue\", \"banana\", 2, 20),\n",
    "    Row(\"red\", \"carrot\", 3, 30),\n",
    "    Row(\"blue\", \"grape\", 4, 40),\n",
    "    Row(\"red\", \"carrot\", 5, 50),\n",
    "    Row(\"black\", \"carrot\", 6, 60),\n",
    "    Row(\"red\", \"banana\", 7, 70),\n",
    "    Row(\"red\", \"grape\", 8, 80)).asJava,\n",
    "StructType(Array(\n",
    "    StructField(\"color\", StringType, nullable = true),\n",
    "    StructField(\"fruit\", StringType, nullable = true),\n",
    "    StructField(\"v1\", IntegerType, nullable = true),\n",
    "    StructField(\"v2\", IntegerType, nullable = true)))\n",
    ")\n",
    "\n",
    "df2.show()"
   ]
  },
  {
   "cell_type": "code",
   "execution_count": 18,
   "id": "e4685ed9-6f8e-42fa-a92f-311a8b37203f",
   "metadata": {},
   "outputs": [
    {
     "name": "stdout",
     "output_type": "stream",
     "text": [
      "+-----+-------+-------+\n",
      "|color|avg(v1)|avg(v2)|\n",
      "+-----+-------+-------+\n",
      "|  red|    4.8|   48.0|\n",
      "| blue|    3.0|   30.0|\n",
      "|black|    6.0|   60.0|\n",
      "+-----+-------+-------+\n",
      "\n"
     ]
    }
   ],
   "source": [
    "df2.groupBy(\"color\").avg().show()"
   ]
  },
  {
   "cell_type": "code",
   "execution_count": 19,
   "id": "136ed86b-135b-4a09-b8f2-69fc07cda563",
   "metadata": {},
   "outputs": [
    {
     "name": "stdout",
     "output_type": "stream",
     "text": [
      "+-----+------+---+---+\n",
      "|color| fruit| v1| v2|\n",
      "+-----+------+---+---+\n",
      "|black|carrot|  6| 60|\n",
      "| blue|banana|  2| 20|\n",
      "|  red|carrot|  5| 50|\n",
      "|  red|banana|  7| 70|\n",
      "|  red|banana|  1| 10|\n",
      "| blue| grape|  4| 40|\n",
      "|  red|carrot|  3| 30|\n",
      "|  red| grape|  8| 80|\n",
      "+-----+------+---+---+\n",
      "\n"
     ]
    }
   ],
   "source": [
    "df2.write.mode(\"overwrite\").option(\"header\", \"true\").csv(\"foo.csv\")\n",
    "spark.read.option(\"header\", \"true\").csv(\"foo.csv\").show()"
   ]
  },
  {
   "cell_type": "code",
   "execution_count": 20,
   "id": "541ff0c4-11d5-4909-8434-cc3e70df9ea9",
   "metadata": {},
   "outputs": [
    {
     "name": "stdout",
     "output_type": "stream",
     "text": [
      "+---+---+-------+----------+\n",
      "| _1| _2|     _3|        _4|\n",
      "+---+---+-------+----------+\n",
      "|  1|2.0|string1|2000-01-01|\n",
      "|  2|3.0|string2|2000-02-01|\n",
      "|  3|4.0|string3|2000-03-01|\n",
      "+---+---+-------+----------+\n",
      "\n"
     ]
    }
   ],
   "source": [
    "df.write.mode(\"overwrite\").parquet(\"bar.parquet\")\n",
    "spark.read.parquet(\"bar.parquet\").show()"
   ]
  },
  {
   "cell_type": "code",
   "execution_count": 21,
   "id": "3913ad99-16c4-4b92-9819-e5a082f187a3",
   "metadata": {},
   "outputs": [
    {
     "name": "stdout",
     "output_type": "stream",
     "text": [
      "+---+---+-------+----------+\n",
      "| _1| _2|     _3|        _4|\n",
      "+---+---+-------+----------+\n",
      "|  2|3.0|string2|2000-02-01|\n",
      "|  3|4.0|string3|2000-03-01|\n",
      "|  1|2.0|string1|2000-01-01|\n",
      "+---+---+-------+----------+\n",
      "\n"
     ]
    }
   ],
   "source": [
    "df.write.mode(\"overwrite\").orc(\"zoo.orc\")\n",
    "spark.read.orc(\"zoo.orc\").show()"
   ]
  },
  {
   "cell_type": "code",
   "execution_count": 22,
   "id": "ba32a7e7-0168-433d-8a71-5d21f4f7aec9",
   "metadata": {},
   "outputs": [
    {
     "name": "stdout",
     "output_type": "stream",
     "text": [
      "+--------+\n",
      "|count(1)|\n",
      "+--------+\n",
      "|       8|\n",
      "+--------+\n",
      "\n"
     ]
    }
   ],
   "source": [
    "df2.createOrReplaceTempView(\"tableA\")\n",
    "spark.sql(\"SELECT count(*) from tableA\").show()"
   ]
  },
  {
   "cell_type": "code",
   "execution_count": 23,
   "id": "b8fabf52-2db5-4096-9daa-a1e15257e02e",
   "metadata": {},
   "outputs": [
    {
     "name": "stdout",
     "output_type": "stream",
     "text": [
      "+----------+\n",
      "|add_one_v1|\n",
      "+----------+\n",
      "|        11|\n",
      "|        21|\n",
      "|        31|\n",
      "|        41|\n",
      "|        51|\n",
      "|        61|\n",
      "|        71|\n",
      "|        81|\n",
      "+----------+\n",
      "\n"
     ]
    },
    {
     "data": {
      "text/plain": [
       "\u001b[36madd_one\u001b[39m: \u001b[32mString\u001b[39m => \u001b[32mString\u001b[39m = ammonite.$sess.cmd22$Helper$$Lambda$7160/513813141@5ddd29e4\n",
       "\u001b[36madd_oneUDF\u001b[39m: \u001b[32mexpressions\u001b[39m.\u001b[32mUserDefinedFunction\u001b[39m = \u001b[33mSparkUserDefinedFunction\u001b[39m(\n",
       "  ammonite.$sess.cmd22$Helper$$Lambda$7160/513813141@5ddd29e4,\n",
       "  StringType,\n",
       "  \u001b[33mList\u001b[39m(\n",
       "    \u001b[33mSome\u001b[39m(\n",
       "      \u001b[33mExpressionEncoder\u001b[39m(\n",
       "        \u001b[33mStaticInvoke\u001b[39m(\n",
       "          class org.apache.spark.unsafe.types.UTF8String,\n",
       "          StringType,\n",
       "          \u001b[32m\"fromString\"\u001b[39m,\n",
       "          \u001b[33mList\u001b[39m(\u001b[33mBoundReference\u001b[39m(\u001b[32m0\u001b[39m, \u001b[33mObjectType\u001b[39m(class java.lang.String), \u001b[32mtrue\u001b[39m)),\n",
       "          \u001b[33mList\u001b[39m(),\n",
       "          \u001b[32mtrue\u001b[39m,\n",
       "          \u001b[32mfalse\u001b[39m,\n",
       "          \u001b[32mtrue\u001b[39m\n",
       "        ),\n",
       "        \u001b[33mInvoke\u001b[39m(\n",
       "          \u001b[33mUpCast\u001b[39m(\n",
       "            \u001b[33mGetColumnByOrdinal\u001b[39m(\u001b[32m0\u001b[39m, StringType),\n",
       "            StringType,\n",
       "            \u001b[33mList\u001b[39m(\u001b[32m\"- root class: \\\"java.lang.String\\\"\"\u001b[39m)\n",
       "          ),\n",
       "          \u001b[32m\"toString\"\u001b[39m,\n",
       "          \u001b[33mObjectType\u001b[39m(class java.lang.String),\n",
       "          \u001b[33mList\u001b[39m(),\n",
       "          \u001b[33mList\u001b[39m(),\n",
       "          \u001b[32mtrue\u001b[39m,\n",
       "          \u001b[32mfalse\u001b[39m,\n",
       "          \u001b[32mtrue\u001b[39m\n",
       "        ),\n",
       "        java.lang.String\n",
       "      )\n",
       "    )\n",
       "  ),\n",
       "  \u001b[33mSome\u001b[39m(\n",
       "    \u001b[33mExpressionEncoder\u001b[39m(\n",
       "      \u001b[33mStaticInvoke\u001b[39m(\n",
       "        class org.apache.spark.unsafe.types.UTF8String,\n",
       "        StringType,\n",
       "..."
      ]
     },
     "execution_count": 23,
     "metadata": {},
     "output_type": "execute_result"
    }
   ],
   "source": [
    "val add_one = (a: String) => a + 1\n",
    "val add_oneUDF = udf(add_one)\n",
    "\n",
    "df2.select(add_oneUDF($\"v1\").as(\"add_one_v1\")).show"
   ]
  },
  {
   "cell_type": "code",
   "execution_count": 24,
   "id": "13796678-877a-45e1-8b19-4fef5c7cb135",
   "metadata": {},
   "outputs": [
    {
     "name": "stdout",
     "output_type": "stream",
     "text": [
      "+-----------+\n",
      "|add_one(v1)|\n",
      "+-----------+\n",
      "|         11|\n",
      "|         21|\n",
      "|         31|\n",
      "|         41|\n",
      "|         51|\n",
      "|         61|\n",
      "|         71|\n",
      "|         81|\n",
      "+-----------+\n",
      "\n"
     ]
    },
    {
     "data": {
      "text/plain": [
       "\u001b[36mres23_0\u001b[39m: \u001b[32mexpressions\u001b[39m.\u001b[32mUserDefinedFunction\u001b[39m = \u001b[33mSparkUserDefinedFunction\u001b[39m(\n",
       "  ammonite.$sess.cmd22$Helper$$Lambda$7160/513813141@5ddd29e4,\n",
       "  StringType,\n",
       "  \u001b[33mList\u001b[39m(\n",
       "    \u001b[33mSome\u001b[39m(\n",
       "      \u001b[33mExpressionEncoder\u001b[39m(\n",
       "        \u001b[33mStaticInvoke\u001b[39m(\n",
       "          class org.apache.spark.unsafe.types.UTF8String,\n",
       "          StringType,\n",
       "          \u001b[32m\"fromString\"\u001b[39m,\n",
       "          \u001b[33mList\u001b[39m(\u001b[33mBoundReference\u001b[39m(\u001b[32m0\u001b[39m, \u001b[33mObjectType\u001b[39m(class java.lang.String), \u001b[32mtrue\u001b[39m)),\n",
       "          \u001b[33mList\u001b[39m(),\n",
       "          \u001b[32mtrue\u001b[39m,\n",
       "          \u001b[32mfalse\u001b[39m,\n",
       "          \u001b[32mtrue\u001b[39m\n",
       "        ),\n",
       "        \u001b[33mInvoke\u001b[39m(\n",
       "          \u001b[33mUpCast\u001b[39m(\n",
       "            \u001b[33mGetColumnByOrdinal\u001b[39m(\u001b[32m0\u001b[39m, StringType),\n",
       "            StringType,\n",
       "            \u001b[33mList\u001b[39m(\u001b[32m\"- root class: \\\"java.lang.String\\\"\"\u001b[39m)\n",
       "          ),\n",
       "          \u001b[32m\"toString\"\u001b[39m,\n",
       "          \u001b[33mObjectType\u001b[39m(class java.lang.String),\n",
       "          \u001b[33mList\u001b[39m(),\n",
       "          \u001b[33mList\u001b[39m(),\n",
       "          \u001b[32mtrue\u001b[39m,\n",
       "          \u001b[32mfalse\u001b[39m,\n",
       "          \u001b[32mtrue\u001b[39m\n",
       "        ),\n",
       "        java.lang.String\n",
       "      )\n",
       "    )\n",
       "  ),\n",
       "  \u001b[33mSome\u001b[39m(\n",
       "    \u001b[33mExpressionEncoder\u001b[39m(\n",
       "      \u001b[33mStaticInvoke\u001b[39m(\n",
       "        class org.apache.spark.unsafe.types.UTF8String,\n",
       "        StringType,\n",
       "..."
      ]
     },
     "execution_count": 24,
     "metadata": {},
     "output_type": "execute_result"
    }
   ],
   "source": [
    "spark.udf.register(\"add_one\", add_oneUDF)\n",
    "spark.sql(\"SELECT add_one(v1) FROM tableA\").show()"
   ]
  },
  {
   "cell_type": "code",
   "execution_count": null,
   "id": "17457ede-310a-4b9f-b7f4-410b9a8c40cd",
   "metadata": {},
   "outputs": [],
   "source": []
  }
 ],
 "metadata": {
  "kernelspec": {
   "display_name": "Scala",
   "language": "scala",
   "name": "scala"
  },
  "language_info": {
   "codemirror_mode": "text/x-scala",
   "file_extension": ".sc",
   "mimetype": "text/x-scala",
   "name": "scala",
   "nbconvert_exporter": "script",
   "version": "2.12.17"
  }
 },
 "nbformat": 4,
 "nbformat_minor": 5
}

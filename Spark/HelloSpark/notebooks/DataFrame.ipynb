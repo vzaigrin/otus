{
 "cells": [
  {
   "cell_type": "code",
   "execution_count": 1,
   "id": "e2515a1c-c4f9-4890-aa6d-641bf419cea6",
   "metadata": {},
   "outputs": [
    {
     "data": {
      "text/plain": [
       "\u001b[32mimport \u001b[39m\u001b[36m$ivy.$\u001b[39m\n",
       "\u001b[32mimport \u001b[39m\u001b[36morg.apache.log4j.{Level, Logger}\u001b[39m"
      ]
     },
     "execution_count": 1,
     "metadata": {},
     "output_type": "execute_result"
    }
   ],
   "source": [
    "import $ivy.`org.apache.spark::spark-sql:3.4.1`\n",
    "import org.apache.log4j.{Level, Logger}\n",
    "Logger.getLogger(\"org\").setLevel(Level.OFF)"
   ]
  },
  {
   "cell_type": "code",
   "execution_count": 2,
   "id": "49835da8-c4d0-461a-a2c8-3c0959118bb4",
   "metadata": {},
   "outputs": [
    {
     "data": {
      "text/plain": [
       "\u001b[32mimport \u001b[39m\u001b[36morg.apache.spark.sql._\u001b[39m\n",
       "\u001b[32mimport \u001b[39m\u001b[36morg.apache.spark.sql.types._\u001b[39m\n",
       "\u001b[32mimport \u001b[39m\u001b[36morg.apache.spark.sql.functions._\u001b[39m\n",
       "\u001b[32mimport \u001b[39m\u001b[36mjava.sql.Date\u001b[39m\n",
       "\u001b[32mimport \u001b[39m\u001b[36mscala.collection.JavaConverters._\u001b[39m"
      ]
     },
     "execution_count": 2,
     "metadata": {},
     "output_type": "execute_result"
    }
   ],
   "source": [
    "import org.apache.spark.sql._\n",
    "import org.apache.spark.sql.types._\n",
    "import org.apache.spark.sql.functions._\n",
    "import java.sql.Date\n",
    "import scala.collection.JavaConverters._"
   ]
  },
  {
   "cell_type": "code",
   "execution_count": 3,
   "id": "7df9de1d-1f63-41b1-999b-69614c723fae",
   "metadata": {
    "scrolled": true
   },
   "outputs": [
    {
     "name": "stderr",
     "output_type": "stream",
     "text": [
      "Using Spark's default log4j profile: org/apache/spark/log4j2-defaults.properties\n",
      "23/10/06 18:35:29 INFO SparkContext: Running Spark version 3.4.1\n",
      "23/10/06 18:35:29 WARN NativeCodeLoader: Unable to load native-hadoop library for your platform... using builtin-java classes where applicable\n",
      "23/10/06 18:35:29 INFO ResourceUtils: ==============================================================\n",
      "23/10/06 18:35:29 INFO ResourceUtils: No custom resources configured for spark.driver.\n",
      "23/10/06 18:35:29 INFO ResourceUtils: ==============================================================\n",
      "23/10/06 18:35:29 INFO SparkContext: Submitted application: Hello Spark\n",
      "23/10/06 18:35:29 INFO ResourceProfile: Default ResourceProfile created, executor resources: Map(cores -> name: cores, amount: 1, script: , vendor: , memory -> name: memory, amount: 1024, script: , vendor: , offHeap -> name: offHeap, amount: 0, script: , vendor: ), task resources: Map(cpus -> name: cpus, amount: 1.0)\n",
      "23/10/06 18:35:29 INFO ResourceProfile: Limiting resource is cpu\n",
      "23/10/06 18:35:29 INFO ResourceProfileManager: Added ResourceProfile id: 0\n",
      "23/10/06 18:35:29 INFO SecurityManager: Changing view acls to: vadim\n",
      "23/10/06 18:35:29 INFO SecurityManager: Changing modify acls to: vadim\n",
      "23/10/06 18:35:29 INFO SecurityManager: Changing view acls groups to: \n",
      "23/10/06 18:35:29 INFO SecurityManager: Changing modify acls groups to: \n",
      "23/10/06 18:35:29 INFO SecurityManager: SecurityManager: authentication disabled; ui acls disabled; users with view permissions: vadim; groups with view permissions: EMPTY; users with modify permissions: vadim; groups with modify permissions: EMPTY\n",
      "23/10/06 18:35:29 INFO Utils: Successfully started service 'sparkDriver' on port 58055.\n",
      "23/10/06 18:35:29 INFO SparkEnv: Registering MapOutputTracker\n",
      "23/10/06 18:35:29 INFO SparkEnv: Registering BlockManagerMaster\n",
      "23/10/06 18:35:29 INFO BlockManagerMasterEndpoint: Using org.apache.spark.storage.DefaultTopologyMapper for getting topology information\n",
      "23/10/06 18:35:29 INFO BlockManagerMasterEndpoint: BlockManagerMasterEndpoint up\n",
      "23/10/06 18:35:29 INFO SparkEnv: Registering BlockManagerMasterHeartbeat\n",
      "23/10/06 18:35:29 INFO DiskBlockManager: Created local directory at /private/var/folders/kz/dn9t1wpd407b4v0vzjyyrbjm0000gn/T/blockmgr-06bdfedc-85e9-4394-b4fb-06cd99a1ced1\n",
      "23/10/06 18:35:29 INFO MemoryStore: MemoryStore started with capacity 2004.6 MiB\n",
      "23/10/06 18:35:29 INFO SparkEnv: Registering OutputCommitCoordinator\n",
      "23/10/06 18:35:30 INFO JettyUtils: Start Jetty 0.0.0.0:4040 for SparkUI\n",
      "23/10/06 18:35:30 INFO Utils: Successfully started service 'SparkUI' on port 4040.\n",
      "23/10/06 18:35:30 INFO Executor: Starting executor ID driver on host Air.local\n",
      "23/10/06 18:35:30 INFO Executor: Starting executor with user classpath (userClassPathFirst = false): ''\n",
      "23/10/06 18:35:30 INFO Utils: Successfully started service 'org.apache.spark.network.netty.NettyBlockTransferService' on port 58057.\n",
      "23/10/06 18:35:30 INFO NettyBlockTransferService: Server created on Air.local:58057\n",
      "23/10/06 18:35:30 INFO BlockManager: Using org.apache.spark.storage.RandomBlockReplicationPolicy for block replication policy\n",
      "23/10/06 18:35:30 INFO BlockManagerMaster: Registering BlockManager BlockManagerId(driver, Air.local, 58057, None)\n",
      "23/10/06 18:35:30 INFO BlockManagerMasterEndpoint: Registering block manager Air.local:58057 with 2004.6 MiB RAM, BlockManagerId(driver, Air.local, 58057, None)\n",
      "23/10/06 18:35:30 INFO BlockManagerMaster: Registered BlockManager BlockManagerId(driver, Air.local, 58057, None)\n",
      "23/10/06 18:35:30 INFO BlockManager: Initialized BlockManager: BlockManagerId(driver, Air.local, 58057, None)\n"
     ]
    },
    {
     "data": {
      "text/plain": [
       "\u001b[36mspark\u001b[39m: \u001b[32mSparkSession\u001b[39m = org.apache.spark.sql.SparkSession@351f67c8\n",
       "\u001b[32mimport \u001b[39m\u001b[36mspark.implicits._\u001b[39m"
      ]
     },
     "execution_count": 3,
     "metadata": {},
     "output_type": "execute_result"
    }
   ],
   "source": [
    "val spark = SparkSession\n",
    "                .builder()\n",
    "                .master(\"local[*]\")\n",
    "                .appName(\"Hello Spark\")\n",
    "                .getOrCreate()\n",
    "\n",
    "import spark.implicits._"
   ]
  },
  {
   "cell_type": "code",
   "execution_count": 4,
   "id": "59c101c3-900c-4a51-8f5f-bfc0ce535ef9",
   "metadata": {},
   "outputs": [
    {
     "name": "stdout",
     "output_type": "stream",
     "text": [
      "spark.version == 3.4.1\n"
     ]
    },
    {
     "data": {
      "text/plain": [
       "\u001b[36msc\u001b[39m: \u001b[32morg\u001b[39m.\u001b[32mapache\u001b[39m.\u001b[32mspark\u001b[39m.\u001b[32mSparkContext\u001b[39m = org.apache.spark.SparkContext@593f6c53"
      ]
     },
     "execution_count": 4,
     "metadata": {},
     "output_type": "execute_result"
    }
   ],
   "source": [
    "println(s\"spark.version == ${spark.version}\")\n",
    "val sc= spark.sparkContext"
   ]
  },
  {
   "cell_type": "code",
   "execution_count": 5,
   "id": "01db9bcd-f0e8-4ae1-89ab-fde0e1cee320",
   "metadata": {},
   "outputs": [
    {
     "data": {
      "text/plain": [
       "defined \u001b[32mclass\u001b[39m \u001b[36mPerson\u001b[39m\n",
       "\u001b[36mrdd\u001b[39m: \u001b[32morg\u001b[39m.\u001b[32mapache\u001b[39m.\u001b[32mspark\u001b[39m.\u001b[32mrdd\u001b[39m.\u001b[32mRDD\u001b[39m[\u001b[32mPerson\u001b[39m] = ParallelCollectionRDD[0] at parallelize at cell5.sc:2"
      ]
     },
     "execution_count": 5,
     "metadata": {},
     "output_type": "execute_result"
    }
   ],
   "source": [
    "case class Person(id: Int, name: String, age: Int)\n",
    "val rdd = sc.parallelize(List(Person(1, \"Name1\", 20), Person(2, \"Name2\", 30), Person(3, \"Name3\", 40)))"
   ]
  },
  {
   "cell_type": "code",
   "execution_count": 6,
   "id": "0cd1266f-9045-4d2f-9036-6c2be466b518",
   "metadata": {},
   "outputs": [
    {
     "name": "stderr",
     "output_type": "stream",
     "text": [
      "23/10/06 18:36:46 INFO SharedState: Setting hive.metastore.warehouse.dir ('null') to the value of spark.sql.warehouse.dir.\n",
      "23/10/06 18:36:46 INFO SharedState: Warehouse path is 'file:/Users/vadim/Projects/otus/Spark/HelloSpark/notebooks/spark-warehouse'.\n"
     ]
    },
    {
     "ename": "org.apache.spark.sql.AnalysisException",
     "evalue": "Unable to generate an encoder for inner class `ammonite.$sess.cell5$Helper$Person` without access to the scope that this class was defined in.\nTry moving this class out of its parent class.",
     "output_type": "error",
     "traceback": [
      "\u001b[31morg.apache.spark.sql.AnalysisException: Unable to generate an encoder for inner class `ammonite.$sess.cell5$Helper$Person` without access to the scope that this class was defined in.\nTry moving this class out of its parent class.\u001b[39m",
      "  org.apache.spark.sql.errors.QueryCompilationErrors$.outerScopeFailureForNewInstanceError(\u001b[32mQueryCompilationErrors.scala\u001b[39m:\u001b[32m292\u001b[39m)",
      "  org.apache.spark.sql.catalyst.analysis.Analyzer$ResolveNewInstance$$anonfun$apply$55$$anonfun$applyOrElse$232.applyOrElse(\u001b[32mAnalyzer.scala\u001b[39m:\u001b[32m3610\u001b[39m)",
      "  org.apache.spark.sql.catalyst.analysis.Analyzer$ResolveNewInstance$$anonfun$apply$55$$anonfun$applyOrElse$232.applyOrElse(\u001b[32mAnalyzer.scala\u001b[39m:\u001b[32m3606\u001b[39m)",
      "  org.apache.spark.sql.catalyst.trees.TreeNode.$anonfun$transformUpWithPruning$2(\u001b[32mTreeNode.scala\u001b[39m:\u001b[32m566\u001b[39m)",
      "  org.apache.spark.sql.catalyst.trees.CurrentOrigin$.withOrigin(\u001b[32mTreeNode.scala\u001b[39m:\u001b[32m104\u001b[39m)",
      "  org.apache.spark.sql.catalyst.trees.TreeNode.transformUpWithPruning(\u001b[32mTreeNode.scala\u001b[39m:\u001b[32m566\u001b[39m)",
      "  org.apache.spark.sql.catalyst.plans.QueryPlan.$anonfun$transformExpressionsUpWithPruning$1(\u001b[32mQueryPlan.scala\u001b[39m:\u001b[32m195\u001b[39m)",
      "  org.apache.spark.sql.catalyst.plans.QueryPlan.$anonfun$mapExpressions$1(\u001b[32mQueryPlan.scala\u001b[39m:\u001b[32m207\u001b[39m)",
      "  org.apache.spark.sql.catalyst.trees.CurrentOrigin$.withOrigin(\u001b[32mTreeNode.scala\u001b[39m:\u001b[32m104\u001b[39m)",
      "  org.apache.spark.sql.catalyst.plans.QueryPlan.transformExpression$1(\u001b[32mQueryPlan.scala\u001b[39m:\u001b[32m207\u001b[39m)",
      "  org.apache.spark.sql.catalyst.plans.QueryPlan.recursiveTransform$1(\u001b[32mQueryPlan.scala\u001b[39m:\u001b[32m218\u001b[39m)",
      "  org.apache.spark.sql.catalyst.plans.QueryPlan.$anonfun$mapExpressions$4(\u001b[32mQueryPlan.scala\u001b[39m:\u001b[32m228\u001b[39m)",
      "  org.apache.spark.sql.catalyst.trees.TreeNode.mapProductIterator(\u001b[32mTreeNode.scala\u001b[39m:\u001b[32m355\u001b[39m)",
      "  org.apache.spark.sql.catalyst.plans.QueryPlan.mapExpressions(\u001b[32mQueryPlan.scala\u001b[39m:\u001b[32m228\u001b[39m)",
      "  org.apache.spark.sql.catalyst.plans.QueryPlan.transformExpressionsUpWithPruning(\u001b[32mQueryPlan.scala\u001b[39m:\u001b[32m195\u001b[39m)",
      "  org.apache.spark.sql.catalyst.analysis.Analyzer$ResolveNewInstance$$anonfun$apply$55.applyOrElse(\u001b[32mAnalyzer.scala\u001b[39m:\u001b[32m3606\u001b[39m)",
      "  org.apache.spark.sql.catalyst.analysis.Analyzer$ResolveNewInstance$$anonfun$apply$55.applyOrElse(\u001b[32mAnalyzer.scala\u001b[39m:\u001b[32m3602\u001b[39m)",
      "  org.apache.spark.sql.catalyst.plans.logical.AnalysisHelper.$anonfun$resolveOperatorsUpWithPruning$3(\u001b[32mAnalysisHelper.scala\u001b[39m:\u001b[32m138\u001b[39m)",
      "  org.apache.spark.sql.catalyst.trees.CurrentOrigin$.withOrigin(\u001b[32mTreeNode.scala\u001b[39m:\u001b[32m104\u001b[39m)",
      "  org.apache.spark.sql.catalyst.plans.logical.AnalysisHelper.$anonfun$resolveOperatorsUpWithPruning$1(\u001b[32mAnalysisHelper.scala\u001b[39m:\u001b[32m138\u001b[39m)",
      "  org.apache.spark.sql.catalyst.plans.logical.AnalysisHelper$.allowInvokingTransformsInAnalyzer(\u001b[32mAnalysisHelper.scala\u001b[39m:\u001b[32m323\u001b[39m)",
      "  org.apache.spark.sql.catalyst.plans.logical.AnalysisHelper.resolveOperatorsUpWithPruning(\u001b[32mAnalysisHelper.scala\u001b[39m:\u001b[32m134\u001b[39m)",
      "  org.apache.spark.sql.catalyst.plans.logical.AnalysisHelper.resolveOperatorsUpWithPruning$(\u001b[32mAnalysisHelper.scala\u001b[39m:\u001b[32m130\u001b[39m)",
      "  org.apache.spark.sql.catalyst.plans.logical.LogicalPlan.resolveOperatorsUpWithPruning(\u001b[32mLogicalPlan.scala\u001b[39m:\u001b[32m31\u001b[39m)",
      "  org.apache.spark.sql.catalyst.analysis.Analyzer$ResolveNewInstance$.apply(\u001b[32mAnalyzer.scala\u001b[39m:\u001b[32m3602\u001b[39m)",
      "  org.apache.spark.sql.catalyst.analysis.Analyzer$ResolveNewInstance$.apply(\u001b[32mAnalyzer.scala\u001b[39m:\u001b[32m3600\u001b[39m)",
      "  org.apache.spark.sql.catalyst.rules.RuleExecutor.$anonfun$execute$2(\u001b[32mRuleExecutor.scala\u001b[39m:\u001b[32m222\u001b[39m)",
      "  scala.collection.LinearSeqOptimized.foldLeft(\u001b[32mLinearSeqOptimized.scala\u001b[39m:\u001b[32m126\u001b[39m)",
      "  scala.collection.LinearSeqOptimized.foldLeft$(\u001b[32mLinearSeqOptimized.scala\u001b[39m:\u001b[32m122\u001b[39m)",
      "  scala.collection.immutable.List.foldLeft(\u001b[32mList.scala\u001b[39m:\u001b[32m91\u001b[39m)",
      "  org.apache.spark.sql.catalyst.rules.RuleExecutor.$anonfun$execute$1(\u001b[32mRuleExecutor.scala\u001b[39m:\u001b[32m219\u001b[39m)",
      "  org.apache.spark.sql.catalyst.rules.RuleExecutor.$anonfun$execute$1$adapted(\u001b[32mRuleExecutor.scala\u001b[39m:\u001b[32m211\u001b[39m)",
      "  scala.collection.immutable.List.foreach(\u001b[32mList.scala\u001b[39m:\u001b[32m431\u001b[39m)",
      "  org.apache.spark.sql.catalyst.rules.RuleExecutor.execute(\u001b[32mRuleExecutor.scala\u001b[39m:\u001b[32m211\u001b[39m)",
      "  org.apache.spark.sql.catalyst.analysis.Analyzer.org$apache$spark$sql$catalyst$analysis$Analyzer$$executeSameContext(\u001b[32mAnalyzer.scala\u001b[39m:\u001b[32m228\u001b[39m)",
      "  org.apache.spark.sql.catalyst.analysis.Analyzer.$anonfun$execute$1(\u001b[32mAnalyzer.scala\u001b[39m:\u001b[32m224\u001b[39m)",
      "  org.apache.spark.sql.catalyst.analysis.AnalysisContext$.withNewAnalysisContext(\u001b[32mAnalyzer.scala\u001b[39m:\u001b[32m173\u001b[39m)",
      "  org.apache.spark.sql.catalyst.analysis.Analyzer.execute(\u001b[32mAnalyzer.scala\u001b[39m:\u001b[32m224\u001b[39m)",
      "  org.apache.spark.sql.catalyst.encoders.ExpressionEncoder.resolveAndBind(\u001b[32mExpressionEncoder.scala\u001b[39m:\u001b[32m339\u001b[39m)",
      "  org.apache.spark.sql.Dataset.resolvedEnc$lzycompute(\u001b[32mDataset.scala\u001b[39m:\u001b[32m239\u001b[39m)",
      "  org.apache.spark.sql.Dataset.org$apache$spark$sql$Dataset$$resolvedEnc(\u001b[32mDataset.scala\u001b[39m:\u001b[32m238\u001b[39m)",
      "  org.apache.spark.sql.Dataset$.apply(\u001b[32mDataset.scala\u001b[39m:\u001b[32m82\u001b[39m)",
      "  org.apache.spark.sql.SparkSession.createDataset(\u001b[32mSparkSession.scala\u001b[39m:\u001b[32m497\u001b[39m)",
      "  org.apache.spark.sql.SQLContext.createDataset(\u001b[32mSQLContext.scala\u001b[39m:\u001b[32m367\u001b[39m)",
      "  org.apache.spark.sql.SQLImplicits.rddToDatasetHolder(\u001b[32mSQLImplicits.scala\u001b[39m:\u001b[32m236\u001b[39m)",
      "  ammonite.$sess.cell6$Helper.<init>(\u001b[32mcell6.sc\u001b[39m:\u001b[32m1\u001b[39m)",
      "  ammonite.$sess.cell6$.<init>(\u001b[32mcell6.sc\u001b[39m:\u001b[32m7\u001b[39m)",
      "  ammonite.$sess.cell6$.<clinit>(\u001b[32mcell6.sc\u001b[39m:\u001b[32m-1\u001b[39m)"
     ]
    }
   ],
   "source": [
    "val df = rdd.toDF"
   ]
  },
  {
   "cell_type": "code",
   "execution_count": 6,
   "id": "0344921e-67ed-4626-a3b6-ee08cc3ec791",
   "metadata": {},
   "outputs": [
    {
     "name": "stderr",
     "output_type": "stream",
     "text": [
      "cell7.sc:1: not found: value df\n",
      "val res7 = df.printSchema\n",
      "           ^\n",
      "Compilation Failed"
     ]
    }
   ],
   "source": [
    "df.printSchema"
   ]
  },
  {
   "cell_type": "code",
   "execution_count": null,
   "id": "66249f47-173b-43ec-9c42-c994352a004e",
   "metadata": {},
   "outputs": [],
   "source": [
    "df.show"
   ]
  },
  {
   "cell_type": "markdown",
   "id": "4c80ad79-0b47-4eb7-9d40-7380dec1d045",
   "metadata": {},
   "source": [
    "# DataFrame"
   ]
  },
  {
   "cell_type": "code",
   "execution_count": 7,
   "id": "11f60a79-f610-4973-a8e1-391f53ff22ce",
   "metadata": {},
   "outputs": [
    {
     "data": {
      "text/plain": [
       "\u001b[36mdf\u001b[39m: \u001b[32mDataFrame\u001b[39m = [_1: int, _2: double ... 2 more fields]\n",
       "\u001b[36mres7_1\u001b[39m: \u001b[32mDataFrame\u001b[39m = [_1: int, _2: double ... 2 more fields]"
      ]
     },
     "execution_count": 7,
     "metadata": {},
     "output_type": "execute_result"
    }
   ],
   "source": [
    "val df = spark.createDataFrame(Array(\n",
    "    (1, 2.0, \"string1\", Date.valueOf(\"2000-01-01\")),\n",
    "    (2, 3.0, \"string2\", Date.valueOf(\"2000-02-01\")),\n",
    "    (3, 4.0, \"string3\", Date.valueOf(\"2000-03-01\"))\n",
    "))\n",
    "df"
   ]
  },
  {
   "cell_type": "code",
   "execution_count": 8,
   "id": "72a3e31b-2095-47dd-8528-1e2995755c6a",
   "metadata": {},
   "outputs": [
    {
     "name": "stdout",
     "output_type": "stream",
     "text": [
      "root\n",
      " |-- _1: integer (nullable = false)\n",
      " |-- _2: double (nullable = false)\n",
      " |-- _3: string (nullable = true)\n",
      " |-- _4: date (nullable = true)\n",
      "\n"
     ]
    }
   ],
   "source": [
    "df.printSchema"
   ]
  },
  {
   "cell_type": "code",
   "execution_count": 9,
   "id": "a4d162fe-1f82-46ef-9805-5ba14928e425",
   "metadata": {},
   "outputs": [
    {
     "data": {
      "text/plain": [
       "\u001b[36mschema\u001b[39m: \u001b[32mStructType\u001b[39m = \u001b[33mStructType\u001b[39m(\n",
       "  \u001b[33mStructField\u001b[39m(\u001b[32m\"a\"\u001b[39m, IntegerType, \u001b[32mtrue\u001b[39m, {}),\n",
       "  \u001b[33mStructField\u001b[39m(\u001b[32m\"b\"\u001b[39m, DoubleType, \u001b[32mtrue\u001b[39m, {}),\n",
       "  \u001b[33mStructField\u001b[39m(\u001b[32m\"c\"\u001b[39m, StringType, \u001b[32mtrue\u001b[39m, {}),\n",
       "  \u001b[33mStructField\u001b[39m(\u001b[32m\"d\"\u001b[39m, DateType, \u001b[32mtrue\u001b[39m, {})\n",
       ")"
      ]
     },
     "execution_count": 9,
     "metadata": {},
     "output_type": "execute_result"
    }
   ],
   "source": [
    "val schema = StructType(\n",
    "    StructField(\"a\", IntegerType, nullable = true) ::\n",
    "    StructField(\"b\", DoubleType, nullable = true) ::\n",
    "    StructField(\"c\", StringType, nullable = true) ::\n",
    "    StructField(\"d\", DateType, nullable = true) ::\n",
    "    Nil)"
   ]
  },
  {
   "cell_type": "code",
   "execution_count": 10,
   "id": "c295eea9-df9c-45c3-841c-4da3be981688",
   "metadata": {},
   "outputs": [
    {
     "data": {
      "text/plain": [
       "\u001b[36msc\u001b[39m: \u001b[32morg\u001b[39m.\u001b[32mapache\u001b[39m.\u001b[32mspark\u001b[39m.\u001b[32mSparkContext\u001b[39m = org.apache.spark.SparkContext@593f6c53\n",
       "\u001b[36mdf1\u001b[39m: \u001b[32mDataFrame\u001b[39m = [a: int, b: double ... 2 more fields]\n",
       "\u001b[36mres10_2\u001b[39m: \u001b[32mDataFrame\u001b[39m = [a: int, b: double ... 2 more fields]"
      ]
     },
     "execution_count": 10,
     "metadata": {},
     "output_type": "execute_result"
    }
   ],
   "source": [
    "val sc = spark.sparkContext\n",
    "val df1 = spark.createDataFrame(sc.parallelize(\n",
    "    Seq(\n",
    "        Row(1, 2.0, \"string1\", Date.valueOf(\"2000-01-01\")),\n",
    "        Row(2, 3.0, \"string2\", Date.valueOf(\"2000-02-01\")),\n",
    "        Row(3, 4.0, \"string3\", Date.valueOf(\"2000-03-01\"))\n",
    "    )),\n",
    "    schema)\n",
    "df1"
   ]
  },
  {
   "cell_type": "code",
   "execution_count": 11,
   "id": "ae6ed15e-691a-4286-8560-9799023473e3",
   "metadata": {},
   "outputs": [
    {
     "name": "stdout",
     "output_type": "stream",
     "text": [
      "root\n",
      " |-- a: integer (nullable = true)\n",
      " |-- b: double (nullable = true)\n",
      " |-- c: string (nullable = true)\n",
      " |-- d: date (nullable = true)\n",
      "\n"
     ]
    }
   ],
   "source": [
    "df1.printSchema"
   ]
  },
  {
   "cell_type": "code",
   "execution_count": 12,
   "id": "f0a6f8a2-94d4-40ca-a57c-a8997b6350b7",
   "metadata": {},
   "outputs": [
    {
     "data": {
      "text/plain": [
       "\u001b[36mres12\u001b[39m: \u001b[32mArray\u001b[39m[(\u001b[32mString\u001b[39m, \u001b[32mString\u001b[39m)] = \u001b[33mArray\u001b[39m(\n",
       "  (\u001b[32m\"a\"\u001b[39m, \u001b[32m\"IntegerType\"\u001b[39m),\n",
       "  (\u001b[32m\"b\"\u001b[39m, \u001b[32m\"DoubleType\"\u001b[39m),\n",
       "  (\u001b[32m\"c\"\u001b[39m, \u001b[32m\"StringType\"\u001b[39m),\n",
       "  (\u001b[32m\"d\"\u001b[39m, \u001b[32m\"DateType\"\u001b[39m)\n",
       ")"
      ]
     },
     "execution_count": 12,
     "metadata": {},
     "output_type": "execute_result"
    }
   ],
   "source": [
    "df1.dtypes"
   ]
  },
  {
   "cell_type": "code",
   "execution_count": null,
   "id": "80d70560-3300-496e-8930-6490da3a7408",
   "metadata": {},
   "outputs": [],
   "source": [
    "df1.show()"
   ]
  },
  {
   "cell_type": "code",
   "execution_count": null,
   "id": "522d3fea-93c8-4ddf-9c9c-8119e923fad8",
   "metadata": {},
   "outputs": [],
   "source": [
    "df1.columns"
   ]
  },
  {
   "cell_type": "code",
   "execution_count": null,
   "id": "243ebb3f-433e-42bf-a19a-b8d90efdc964",
   "metadata": {},
   "outputs": [],
   "source": [
    "df1.select(\"a\", \"b\", \"c\").describe().show()"
   ]
  },
  {
   "cell_type": "code",
   "execution_count": null,
   "id": "c95a148f-b769-4da3-a23c-10f8c4b595fe",
   "metadata": {},
   "outputs": [],
   "source": [
    "df1.withColumn(\"upper_c\", upper($\"c\")).show()"
   ]
  },
  {
   "cell_type": "code",
   "execution_count": null,
   "id": "36957899-81ab-4705-8c84-c9eb7b858c0c",
   "metadata": {},
   "outputs": [],
   "source": [
    "df1.filter($\"a\" === 1).show()"
   ]
  },
  {
   "cell_type": "code",
   "execution_count": null,
   "id": "e4ecaf5a-5fc4-4ab6-a7bf-f5e27a1df123",
   "metadata": {},
   "outputs": [],
   "source": [
    "val df2 = spark.createDataFrame(List(\n",
    "    Row(\"red\", \"banana\", 1, 10),\n",
    "    Row(\"blue\", \"banana\", 2, 20),\n",
    "    Row(\"red\", \"carrot\", 3, 30),\n",
    "    Row(\"blue\", \"grape\", 4, 40),\n",
    "    Row(\"red\", \"carrot\", 5, 50),\n",
    "    Row(\"black\", \"carrot\", 6, 60),\n",
    "    Row(\"red\", \"banana\", 7, 70),\n",
    "    Row(\"red\", \"grape\", 8, 80)).asJava,\n",
    "StructType(Array(\n",
    "    StructField(\"color\", StringType, nullable = true),\n",
    "    StructField(\"fruit\", StringType, nullable = true),\n",
    "    StructField(\"v1\", IntegerType, nullable = true),\n",
    "    StructField(\"v2\", IntegerType, nullable = true)))\n",
    ")\n",
    "\n",
    "df2.show()"
   ]
  },
  {
   "cell_type": "code",
   "execution_count": null,
   "id": "e4685ed9-6f8e-42fa-a92f-311a8b37203f",
   "metadata": {},
   "outputs": [],
   "source": [
    "df2.groupBy(\"color\").avg().show()"
   ]
  },
  {
   "cell_type": "code",
   "execution_count": null,
   "id": "136ed86b-135b-4a09-b8f2-69fc07cda563",
   "metadata": {},
   "outputs": [],
   "source": [
    "df2.write.mode(\"overwrite\").option(\"header\", \"true\").csv(\"foo.csv\")\n",
    "spark.read.option(\"header\", \"true\").csv(\"foo.csv\").show()"
   ]
  },
  {
   "cell_type": "code",
   "execution_count": null,
   "id": "541ff0c4-11d5-4909-8434-cc3e70df9ea9",
   "metadata": {},
   "outputs": [],
   "source": [
    "df.write.mode(\"overwrite\").parquet(\"bar.parquet\")\n",
    "spark.read.parquet(\"bar.parquet\").show()"
   ]
  },
  {
   "cell_type": "code",
   "execution_count": null,
   "id": "3913ad99-16c4-4b92-9819-e5a082f187a3",
   "metadata": {},
   "outputs": [],
   "source": [
    "df.write.mode(\"overwrite\").orc(\"zoo.orc\")\n",
    "spark.read.orc(\"zoo.orc\").show()"
   ]
  },
  {
   "cell_type": "code",
   "execution_count": null,
   "id": "ba32a7e7-0168-433d-8a71-5d21f4f7aec9",
   "metadata": {},
   "outputs": [],
   "source": [
    "df2.createOrReplaceTempView(\"tableA\")\n",
    "spark.sql(\"SELECT count(*) from tableA\").show()"
   ]
  },
  {
   "cell_type": "code",
   "execution_count": null,
   "id": "b8fabf52-2db5-4096-9daa-a1e15257e02e",
   "metadata": {},
   "outputs": [],
   "source": [
    "val add_one = (a: String) => a + 1\n",
    "val add_oneUDF = udf(add_one)\n",
    "\n",
    "df2.select(add_oneUDF($\"v1\").as(\"add_one_v1\")).show"
   ]
  },
  {
   "cell_type": "code",
   "execution_count": null,
   "id": "13796678-877a-45e1-8b19-4fef5c7cb135",
   "metadata": {},
   "outputs": [],
   "source": [
    "spark.udf.register(\"add_one\", add_oneUDF)\n",
    "spark.sql(\"SELECT add_one(v1) FROM tableA\").show()"
   ]
  },
  {
   "cell_type": "code",
   "execution_count": null,
   "id": "17457ede-310a-4b9f-b7f4-410b9a8c40cd",
   "metadata": {},
   "outputs": [],
   "source": []
  }
 ],
 "metadata": {
  "kernelspec": {
   "display_name": "Scala",
   "language": "scala",
   "name": "scala"
  },
  "language_info": {
   "codemirror_mode": "text/x-scala",
   "file_extension": ".sc",
   "mimetype": "text/x-scala",
   "name": "scala",
   "nbconvert_exporter": "script",
   "version": "2.12.17"
  }
 },
 "nbformat": 4,
 "nbformat_minor": 5
}

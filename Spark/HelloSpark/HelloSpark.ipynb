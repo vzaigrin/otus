{
 "cells": [
  {
   "cell_type": "code",
   "execution_count": 11,
   "id": "e2515a1c-c4f9-4890-aa6d-641bf419cea6",
   "metadata": {},
   "outputs": [
    {
     "data": {
      "text/plain": [
       "\u001b[32mimport \u001b[39m\u001b[36m$ivy.$                                  \u001b[39m"
      ]
     },
     "execution_count": 11,
     "metadata": {},
     "output_type": "execute_result"
    }
   ],
   "source": [
    "import $ivy.`org.apache.spark::spark-sql:3.1.2`"
   ]
  },
  {
   "cell_type": "code",
   "execution_count": 12,
   "id": "dc99a5fd-2141-4ffe-afb1-4b0a595a75af",
   "metadata": {},
   "outputs": [
    {
     "data": {
      "text/plain": [
       "\u001b[32mimport \u001b[39m\u001b[36morg.apache.log4j.{Level, Logger}\n",
       "\u001b[39m"
      ]
     },
     "execution_count": 12,
     "metadata": {},
     "output_type": "execute_result"
    }
   ],
   "source": [
    "import org.apache.log4j.{Level, Logger}\n",
    "Logger.getLogger(\"org\").setLevel(Level.WARN)"
   ]
  },
  {
   "cell_type": "markdown",
   "id": "78ab7dc3-9173-4d9e-9a91-97256abb3a30",
   "metadata": {},
   "source": [
    "# Start"
   ]
  },
  {
   "cell_type": "code",
   "execution_count": 13,
   "id": "49835da8-c4d0-461a-a2c8-3c0959118bb4",
   "metadata": {},
   "outputs": [
    {
     "data": {
      "text/plain": [
       "\u001b[32mimport \u001b[39m\u001b[36morg.apache.spark.sql._\n",
       "\u001b[39m\n",
       "\u001b[32mimport \u001b[39m\u001b[36morg.apache.spark.sql.functions._\u001b[39m"
      ]
     },
     "execution_count": 13,
     "metadata": {},
     "output_type": "execute_result"
    }
   ],
   "source": [
    "import org.apache.spark.sql._\n",
    "import org.apache.spark.sql.functions._"
   ]
  },
  {
   "cell_type": "code",
   "execution_count": 14,
   "id": "7df9de1d-1f63-41b1-999b-69614c723fae",
   "metadata": {},
   "outputs": [
    {
     "name": "stderr",
     "output_type": "stream",
     "text": [
      "21/10/12 21:27:53 WARN Utils: Service 'SparkUI' could not bind on port 4040. Attempting port 4041.\n"
     ]
    },
    {
     "data": {
      "text/plain": [
       "\u001b[36mspark\u001b[39m: \u001b[32mSparkSession\u001b[39m = org.apache.spark.sql.SparkSession@bf6b677\n",
       "\u001b[32mimport \u001b[39m\u001b[36mspark.implicits._\u001b[39m"
      ]
     },
     "execution_count": 14,
     "metadata": {},
     "output_type": "execute_result"
    }
   ],
   "source": [
    "val spark = SparkSession\n",
    "                .builder()\n",
    "                .master(\"local[*]\")\n",
    "                .appName(\"Hello Spark\")\n",
    "                .getOrCreate()\n",
    "\n",
    "import spark.implicits._"
   ]
  },
  {
   "cell_type": "code",
   "execution_count": 15,
   "id": "59c101c3-900c-4a51-8f5f-bfc0ce535ef9",
   "metadata": {},
   "outputs": [
    {
     "name": "stdout",
     "output_type": "stream",
     "text": [
      "spark.version == 3.1.2\n"
     ]
    }
   ],
   "source": [
    "println(s\"spark.version == ${spark.version}\")"
   ]
  },
  {
   "cell_type": "markdown",
   "id": "e700d74a-1eb0-44a9-8cef-c6943934a290",
   "metadata": {},
   "source": [
    "## DataSet"
   ]
  },
  {
   "cell_type": "code",
   "execution_count": 16,
   "id": "3f5b193d-79db-404c-a941-1b3e80949422",
   "metadata": {},
   "outputs": [
    {
     "data": {
      "text/plain": [
       "defined \u001b[32mclass\u001b[39m \u001b[36mPerson\u001b[39m\n",
       "\u001b[36mcaseClassDS\u001b[39m: \u001b[32mDataset\u001b[39m[\u001b[32mPerson\u001b[39m] = [name: string, age: bigint]"
      ]
     },
     "execution_count": 16,
     "metadata": {},
     "output_type": "execute_result"
    }
   ],
   "source": [
    "case class Person(name: String, age: Long)\n",
    "\n",
    "val caseClassDS = Seq(Person(\"Andy\", 32), Person(\"Mike\", 25), Person(\"Mary\", 18)).toDS()"
   ]
  },
  {
   "cell_type": "code",
   "execution_count": 19,
   "id": "5a63cdb5-ae19-4418-9edb-0e2bc1845438",
   "metadata": {},
   "outputs": [
    {
     "name": "stdout",
     "output_type": "stream",
     "text": [
      "+----+---+\n",
      "|name|age|\n",
      "+----+---+\n",
      "|Andy| 32|\n",
      "|Mike| 25|\n",
      "|Mary| 18|\n",
      "+----+---+\n",
      "\n"
     ]
    }
   ],
   "source": [
    "caseClassDS.show"
   ]
  },
  {
   "cell_type": "code",
   "execution_count": 24,
   "id": "af3f0b11-3c47-4739-b1c4-9fc6a01e816b",
   "metadata": {},
   "outputs": [
    {
     "name": "stdout",
     "output_type": "stream",
     "text": [
      "+----+---+\n",
      "|name|age|\n",
      "+----+---+\n",
      "|Andy| 32|\n",
      "|Mike| 25|\n",
      "+----+---+\n",
      "\n"
     ]
    }
   ],
   "source": [
    "caseClassDS.filter($\"age\" > 20).show"
   ]
  },
  {
   "cell_type": "code",
   "execution_count": 21,
   "id": "dceaec62-1200-4216-8b76-4f6891a8657b",
   "metadata": {},
   "outputs": [
    {
     "name": "stdout",
     "output_type": "stream",
     "text": [
      "+----+---+\n",
      "|name|age|\n",
      "+----+---+\n",
      "|Andy| 32|\n",
      "|Mike| 25|\n",
      "+----+---+\n",
      "\n"
     ]
    }
   ],
   "source": [
    "caseClassDS.filter(_.age > 20).show"
   ]
  },
  {
   "cell_type": "code",
   "execution_count": 25,
   "id": "6bfaa549-4050-44b8-be8e-964036cd2c90",
   "metadata": {},
   "outputs": [
    {
     "name": "stdout",
     "output_type": "stream",
     "text": [
      "+----+\n",
      "|name|\n",
      "+----+\n",
      "|Andy|\n",
      "|Mike|\n",
      "|Mary|\n",
      "+----+\n",
      "\n"
     ]
    }
   ],
   "source": [
    "caseClassDS.select(col(\"name\")).show"
   ]
  },
  {
   "cell_type": "code",
   "execution_count": 27,
   "id": "fccea850-0a40-4904-80c0-327d6c40cee5",
   "metadata": {},
   "outputs": [
    {
     "data": {
      "text/plain": [
       "defined \u001b[32mclass\u001b[39m \u001b[36mPersonCount\u001b[39m"
      ]
     },
     "execution_count": 27,
     "metadata": {},
     "output_type": "execute_result"
    }
   ],
   "source": [
    "case class PersonCount(name: String, count: Long)"
   ]
  },
  {
   "cell_type": "code",
   "execution_count": 28,
   "id": "ec14b6e1-6849-4d62-a253-f2ee303e23e4",
   "metadata": {},
   "outputs": [
    {
     "data": {
      "text/plain": [
       "\u001b[36mres27\u001b[39m: \u001b[32mDataset\u001b[39m[\u001b[32mPersonCount\u001b[39m] = [name: string, count: bigint]"
      ]
     },
     "execution_count": 28,
     "metadata": {},
     "output_type": "execute_result"
    }
   ],
   "source": [
    "caseClassDS.groupBy(col(\"name\")).count.as[PersonCount]"
   ]
  },
  {
   "cell_type": "code",
   "execution_count": 29,
   "id": "c0479a0f-3e3f-4d40-9cb7-7fd46ee3548e",
   "metadata": {},
   "outputs": [],
   "source": [
    "spark.stop()"
   ]
  },
  {
   "cell_type": "code",
   "execution_count": null,
   "id": "17457ede-310a-4b9f-b7f4-410b9a8c40cd",
   "metadata": {},
   "outputs": [],
   "source": []
  }
 ],
 "metadata": {
  "kernelspec": {
   "display_name": "Scala",
   "language": "scala",
   "name": "scala"
  },
  "language_info": {
   "codemirror_mode": "text/x-scala",
   "file_extension": ".scala",
   "mimetype": "text/x-scala",
   "name": "scala",
   "nbconvert_exporter": "script",
   "version": "2.12.10"
  }
 },
 "nbformat": 4,
 "nbformat_minor": 5
}

{
 "cells": [
  {
   "cell_type": "code",
   "execution_count": 1,
   "id": "e2515a1c-c4f9-4890-aa6d-641bf419cea6",
   "metadata": {},
   "outputs": [
    {
     "data": {
      "text/plain": [
       "\u001b[32mimport \u001b[39m\u001b[36m$ivy.$                                  \u001b[39m"
      ]
     },
     "execution_count": 1,
     "metadata": {},
     "output_type": "execute_result"
    }
   ],
   "source": [
    "import $ivy.`org.apache.spark::spark-sql:3.2.0`"
   ]
  },
  {
   "cell_type": "code",
   "execution_count": 2,
   "id": "dc99a5fd-2141-4ffe-afb1-4b0a595a75af",
   "metadata": {},
   "outputs": [
    {
     "data": {
      "text/plain": [
       "\u001b[32mimport \u001b[39m\u001b[36morg.apache.log4j.{Level, Logger}\n",
       "\u001b[39m"
      ]
     },
     "execution_count": 2,
     "metadata": {},
     "output_type": "execute_result"
    }
   ],
   "source": [
    "import org.apache.log4j.{Level, Logger}\n",
    "Logger.getLogger(\"org\").setLevel(Level.WARN)"
   ]
  },
  {
   "cell_type": "code",
   "execution_count": 3,
   "id": "49835da8-c4d0-461a-a2c8-3c0959118bb4",
   "metadata": {},
   "outputs": [
    {
     "data": {
      "text/plain": [
       "\u001b[32mimport \u001b[39m\u001b[36morg.apache.spark.sql._\n",
       "\u001b[39m\n",
       "\u001b[32mimport \u001b[39m\u001b[36morg.apache.spark.sql.types._\n",
       "\u001b[39m\n",
       "\u001b[32mimport \u001b[39m\u001b[36morg.apache.spark.sql.functions._\n",
       "\u001b[39m\n",
       "\u001b[32mimport \u001b[39m\u001b[36mjava.sql.Date\n",
       "\u001b[39m\n",
       "\u001b[32mimport \u001b[39m\u001b[36mscala.collection.JavaConverters._\u001b[39m"
      ]
     },
     "execution_count": 3,
     "metadata": {},
     "output_type": "execute_result"
    }
   ],
   "source": [
    "import org.apache.spark.sql._\n",
    "import org.apache.spark.sql.types._\n",
    "import org.apache.spark.sql.functions._\n",
    "import java.sql.Date\n",
    "import scala.collection.JavaConverters._"
   ]
  },
  {
   "cell_type": "code",
   "execution_count": 4,
   "id": "7df9de1d-1f63-41b1-999b-69614c723fae",
   "metadata": {},
   "outputs": [
    {
     "name": "stderr",
     "output_type": "stream",
     "text": [
      "Using Spark's default log4j profile: org/apache/spark/log4j-defaults.properties\n"
     ]
    },
    {
     "data": {
      "text/plain": [
       "\u001b[36mspark\u001b[39m: \u001b[32mSparkSession\u001b[39m = org.apache.spark.sql.SparkSession@5b8170e\n",
       "\u001b[32mimport \u001b[39m\u001b[36mspark.implicits._\n",
       "\u001b[39m\n",
       "\u001b[36mres3_2\u001b[39m: \u001b[32mString\u001b[39m = \u001b[32m\"3.2.0\"\u001b[39m"
      ]
     },
     "execution_count": 4,
     "metadata": {},
     "output_type": "execute_result"
    }
   ],
   "source": [
    "val spark = SparkSession\n",
    "                .builder()\n",
    "                .master(\"local[*]\")\n",
    "                .appName(\"Hello Spark\")\n",
    "                .getOrCreate()\n",
    "\n",
    "import spark.implicits._\n",
    "spark.version"
   ]
  },
  {
   "cell_type": "code",
   "execution_count": 5,
   "id": "59c101c3-900c-4a51-8f5f-bfc0ce535ef9",
   "metadata": {},
   "outputs": [
    {
     "name": "stdout",
     "output_type": "stream",
     "text": [
      "spark.version == 3.2.0\n"
     ]
    }
   ],
   "source": [
    "println(s\"spark.version == ${spark.version}\")"
   ]
  },
  {
   "cell_type": "markdown",
   "id": "18a4be31-50c0-4cd8-9654-8c1bf3c47558",
   "metadata": {},
   "source": [
    "# RDD"
   ]
  },
  {
   "cell_type": "code",
   "execution_count": 6,
   "id": "b396c6b8-beb5-40da-b83e-b88e1ec3cd43",
   "metadata": {},
   "outputs": [
    {
     "data": {
      "text/plain": [
       "\u001b[36msc\u001b[39m: \u001b[32morg\u001b[39m.\u001b[32mapache\u001b[39m.\u001b[32mspark\u001b[39m.\u001b[32mSparkContext\u001b[39m = org.apache.spark.SparkContext@12b3e70d"
      ]
     },
     "execution_count": 6,
     "metadata": {},
     "output_type": "execute_result"
    }
   ],
   "source": [
    "val sc = spark.sparkContext"
   ]
  },
  {
   "cell_type": "code",
   "execution_count": 7,
   "id": "91d7407b-c144-45b0-bc07-bc93cc649180",
   "metadata": {},
   "outputs": [
    {
     "data": {
      "text/plain": [
       "\u001b[36mdata\u001b[39m: \u001b[32mArray\u001b[39m[\u001b[32mInt\u001b[39m] = \u001b[33mArray\u001b[39m(\u001b[32m1\u001b[39m, \u001b[32m2\u001b[39m, \u001b[32m3\u001b[39m, \u001b[32m4\u001b[39m, \u001b[32m5\u001b[39m)\n",
       "\u001b[36mdistData\u001b[39m: \u001b[32morg\u001b[39m.\u001b[32mapache\u001b[39m.\u001b[32mspark\u001b[39m.\u001b[32mrdd\u001b[39m.\u001b[32mRDD\u001b[39m[\u001b[32mInt\u001b[39m] = ParallelCollectionRDD[0] at parallelize at cmd6.sc:2"
      ]
     },
     "execution_count": 7,
     "metadata": {},
     "output_type": "execute_result"
    }
   ],
   "source": [
    "val data = Array(1, 2, 3, 4, 5)\n",
    "val distData = sc.parallelize(data)"
   ]
  },
  {
   "cell_type": "code",
   "execution_count": 8,
   "id": "d0ff7935-e146-4d23-b4ed-4caada01d248",
   "metadata": {},
   "outputs": [
    {
     "data": {
      "text/plain": [
       "\u001b[36mlines\u001b[39m: \u001b[32morg\u001b[39m.\u001b[32mapache\u001b[39m.\u001b[32mspark\u001b[39m.\u001b[32mrdd\u001b[39m.\u001b[32mRDD\u001b[39m[\u001b[32mString\u001b[39m] = MapPartitionsRDD[3] at flatMap at cmd7.sc:1"
      ]
     },
     "execution_count": 8,
     "metadata": {},
     "output_type": "execute_result"
    }
   ],
   "source": [
    "val lines = sc.textFile(\"/opt/spark/README.md\").flatMap(_.split(\" \"))"
   ]
  },
  {
   "cell_type": "code",
   "execution_count": 9,
   "id": "b6e5bc3e-6f3b-4b8a-aadc-40cc92b0a36e",
   "metadata": {},
   "outputs": [
    {
     "data": {
      "text/plain": [
       "\u001b[36mlineLengths\u001b[39m: \u001b[32morg\u001b[39m.\u001b[32mapache\u001b[39m.\u001b[32mspark\u001b[39m.\u001b[32mrdd\u001b[39m.\u001b[32mRDD\u001b[39m[\u001b[32mInt\u001b[39m] = MapPartitionsRDD[4] at map at cmd8.sc:1\n",
       "\u001b[36mtotalLength\u001b[39m: \u001b[32mInt\u001b[39m = \u001b[32m3941\u001b[39m"
      ]
     },
     "execution_count": 9,
     "metadata": {},
     "output_type": "execute_result"
    }
   ],
   "source": [
    "val lineLengths = lines.map(s => s.length)\n",
    "val totalLength = lineLengths.reduce((a, b) => a + b)"
   ]
  },
  {
   "cell_type": "code",
   "execution_count": 10,
   "id": "653b6343-344c-4a95-a5da-7ac7411087cc",
   "metadata": {},
   "outputs": [
    {
     "data": {
      "text/plain": [
       "\u001b[36mpairs\u001b[39m: \u001b[32morg\u001b[39m.\u001b[32mapache\u001b[39m.\u001b[32mspark\u001b[39m.\u001b[32mrdd\u001b[39m.\u001b[32mRDD\u001b[39m[(\u001b[32mString\u001b[39m, \u001b[32mInt\u001b[39m)] = MapPartitionsRDD[5] at map at cmd9.sc:1\n",
       "\u001b[36mcounts\u001b[39m: \u001b[32morg\u001b[39m.\u001b[32mapache\u001b[39m.\u001b[32mspark\u001b[39m.\u001b[32mrdd\u001b[39m.\u001b[32mRDD\u001b[39m[(\u001b[32mString\u001b[39m, \u001b[32mInt\u001b[39m)] = ShuffledRDD[6] at reduceByKey at cmd9.sc:2\n",
       "\u001b[36mres9_2\u001b[39m: \u001b[32mArray\u001b[39m[(\u001b[32mString\u001b[39m, \u001b[32mInt\u001b[39m)] = \u001b[33mArray\u001b[39m(\n",
       "  (\u001b[32m\"package\"\u001b[39m, \u001b[32m1\u001b[39m),\n",
       "  (\u001b[32m\"this\"\u001b[39m, \u001b[32m1\u001b[39m),\n",
       "  (\u001b[32m\"integration\"\u001b[39m, \u001b[32m1\u001b[39m),\n",
       "  (\u001b[32m\"Python\"\u001b[39m, \u001b[32m2\u001b[39m),\n",
       "  (\u001b[32m\"cluster.\"\u001b[39m, \u001b[32m1\u001b[39m),\n",
       "  (\u001b[32m\"its\"\u001b[39m, \u001b[32m1\u001b[39m),\n",
       "  (\u001b[32m\"[run\"\u001b[39m, \u001b[32m1\u001b[39m),\n",
       "  (\u001b[32m\"There\"\u001b[39m, \u001b[32m1\u001b[39m),\n",
       "  (\u001b[32m\"general\"\u001b[39m, \u001b[32m2\u001b[39m),\n",
       "  (\u001b[32m\"have\"\u001b[39m, \u001b[32m1\u001b[39m)\n",
       ")"
      ]
     },
     "execution_count": 10,
     "metadata": {},
     "output_type": "execute_result"
    }
   ],
   "source": [
    "val pairs = lines.map(s => (s, 1))\n",
    "val counts = pairs.reduceByKey((a, b) => a + b)\n",
    "counts.take(10)"
   ]
  },
  {
   "cell_type": "markdown",
   "id": "4c80ad79-0b47-4eb7-9d40-7380dec1d045",
   "metadata": {},
   "source": [
    "# DataFrame"
   ]
  },
  {
   "cell_type": "code",
   "execution_count": 11,
   "id": "11f60a79-f610-4973-a8e1-391f53ff22ce",
   "metadata": {},
   "outputs": [
    {
     "data": {
      "text/plain": [
       "\u001b[36mdf\u001b[39m: \u001b[32mDataFrame\u001b[39m = [_1: int, _2: double ... 2 more fields]\n",
       "\u001b[36mres10_1\u001b[39m: \u001b[32mDataFrame\u001b[39m = [_1: int, _2: double ... 2 more fields]"
      ]
     },
     "execution_count": 11,
     "metadata": {},
     "output_type": "execute_result"
    }
   ],
   "source": [
    "val df = spark.createDataFrame(Array(\n",
    "    (1, 2.0, \"string1\", Date.valueOf(\"2000-01-01\")),\n",
    "    (2, 3.0, \"string2\", Date.valueOf(\"2000-02-01\")),\n",
    "    (3, 4.0, \"string3\", Date.valueOf(\"2000-03-01\"))\n",
    "))\n",
    "df"
   ]
  },
  {
   "cell_type": "code",
   "execution_count": 12,
   "id": "72a3e31b-2095-47dd-8528-1e2995755c6a",
   "metadata": {},
   "outputs": [
    {
     "name": "stdout",
     "output_type": "stream",
     "text": [
      "root\n",
      " |-- _1: integer (nullable = false)\n",
      " |-- _2: double (nullable = false)\n",
      " |-- _3: string (nullable = true)\n",
      " |-- _4: date (nullable = true)\n",
      "\n"
     ]
    }
   ],
   "source": [
    "df.printSchema"
   ]
  },
  {
   "cell_type": "code",
   "execution_count": 13,
   "id": "a4d162fe-1f82-46ef-9805-5ba14928e425",
   "metadata": {},
   "outputs": [
    {
     "data": {
      "text/plain": [
       "\u001b[36mschema\u001b[39m: \u001b[32mStructType\u001b[39m = \u001b[33mStructType\u001b[39m(\n",
       "  \u001b[33mStructField\u001b[39m(\u001b[32m\"a\"\u001b[39m, IntegerType, true, {}),\n",
       "  \u001b[33mStructField\u001b[39m(\u001b[32m\"b\"\u001b[39m, DoubleType, true, {}),\n",
       "  \u001b[33mStructField\u001b[39m(\u001b[32m\"c\"\u001b[39m, StringType, true, {}),\n",
       "  \u001b[33mStructField\u001b[39m(\u001b[32m\"d\"\u001b[39m, DateType, true, {})\n",
       ")"
      ]
     },
     "execution_count": 13,
     "metadata": {},
     "output_type": "execute_result"
    }
   ],
   "source": [
    "val schema = StructType(\n",
    "    StructField(\"a\", IntegerType, nullable = true) ::\n",
    "    StructField(\"b\", DoubleType, nullable = true) ::\n",
    "    StructField(\"c\", StringType, nullable = true) ::\n",
    "    StructField(\"d\", DateType, nullable = true) ::\n",
    "    Nil)"
   ]
  },
  {
   "cell_type": "code",
   "execution_count": 14,
   "id": "c295eea9-df9c-45c3-841c-4da3be981688",
   "metadata": {},
   "outputs": [
    {
     "data": {
      "text/plain": [
       "\u001b[36mdf1\u001b[39m: \u001b[32mDataFrame\u001b[39m = [a: int, b: double ... 2 more fields]\n",
       "\u001b[36mres13_1\u001b[39m: \u001b[32mDataFrame\u001b[39m = [a: int, b: double ... 2 more fields]"
      ]
     },
     "execution_count": 14,
     "metadata": {},
     "output_type": "execute_result"
    }
   ],
   "source": [
    "val df1 = spark.createDataFrame(sc.parallelize(\n",
    "    Seq(\n",
    "        Row(1, 2.0, \"string1\", Date.valueOf(\"2000-01-01\")),\n",
    "        Row(2, 3.0, \"string2\", Date.valueOf(\"2000-02-01\")),\n",
    "        Row(3, 4.0, \"string3\", Date.valueOf(\"2000-03-01\"))\n",
    "    )),\n",
    "    schema)\n",
    "df1"
   ]
  },
  {
   "cell_type": "code",
   "execution_count": 15,
   "id": "ae6ed15e-691a-4286-8560-9799023473e3",
   "metadata": {},
   "outputs": [
    {
     "name": "stdout",
     "output_type": "stream",
     "text": [
      "root\n",
      " |-- a: integer (nullable = true)\n",
      " |-- b: double (nullable = true)\n",
      " |-- c: string (nullable = true)\n",
      " |-- d: date (nullable = true)\n",
      "\n"
     ]
    }
   ],
   "source": [
    "df1.printSchema"
   ]
  },
  {
   "cell_type": "code",
   "execution_count": 16,
   "id": "f0a6f8a2-94d4-40ca-a57c-a8997b6350b7",
   "metadata": {},
   "outputs": [
    {
     "data": {
      "text/plain": [
       "\u001b[36mres15\u001b[39m: \u001b[32mArray\u001b[39m[(\u001b[32mString\u001b[39m, \u001b[32mString\u001b[39m)] = \u001b[33mArray\u001b[39m(\n",
       "  (\u001b[32m\"a\"\u001b[39m, \u001b[32m\"IntegerType\"\u001b[39m),\n",
       "  (\u001b[32m\"b\"\u001b[39m, \u001b[32m\"DoubleType\"\u001b[39m),\n",
       "  (\u001b[32m\"c\"\u001b[39m, \u001b[32m\"StringType\"\u001b[39m),\n",
       "  (\u001b[32m\"d\"\u001b[39m, \u001b[32m\"DateType\"\u001b[39m)\n",
       ")"
      ]
     },
     "execution_count": 16,
     "metadata": {},
     "output_type": "execute_result"
    }
   ],
   "source": [
    "df1.dtypes"
   ]
  },
  {
   "cell_type": "code",
   "execution_count": 17,
   "id": "80d70560-3300-496e-8930-6490da3a7408",
   "metadata": {},
   "outputs": [
    {
     "name": "stdout",
     "output_type": "stream",
     "text": [
      "+---+---+-------+----------+\n",
      "|  a|  b|      c|         d|\n",
      "+---+---+-------+----------+\n",
      "|  1|2.0|string1|2000-01-01|\n",
      "|  2|3.0|string2|2000-02-01|\n",
      "|  3|4.0|string3|2000-03-01|\n",
      "+---+---+-------+----------+\n",
      "\n"
     ]
    }
   ],
   "source": [
    "df1.show()"
   ]
  },
  {
   "cell_type": "code",
   "execution_count": 18,
   "id": "522d3fea-93c8-4ddf-9c9c-8119e923fad8",
   "metadata": {},
   "outputs": [
    {
     "data": {
      "text/plain": [
       "\u001b[36mres17\u001b[39m: \u001b[32mArray\u001b[39m[\u001b[32mString\u001b[39m] = \u001b[33mArray\u001b[39m(\u001b[32m\"a\"\u001b[39m, \u001b[32m\"b\"\u001b[39m, \u001b[32m\"c\"\u001b[39m, \u001b[32m\"d\"\u001b[39m)"
      ]
     },
     "execution_count": 18,
     "metadata": {},
     "output_type": "execute_result"
    }
   ],
   "source": [
    "df1.columns"
   ]
  },
  {
   "cell_type": "code",
   "execution_count": 19,
   "id": "243ebb3f-433e-42bf-a19a-b8d90efdc964",
   "metadata": {},
   "outputs": [
    {
     "name": "stdout",
     "output_type": "stream",
     "text": [
      "+-------+---+---+-------+\n",
      "|summary|  a|  b|      c|\n",
      "+-------+---+---+-------+\n",
      "|  count|  3|  3|      3|\n",
      "|   mean|2.0|3.0|   null|\n",
      "| stddev|1.0|1.0|   null|\n",
      "|    min|  1|2.0|string1|\n",
      "|    max|  3|4.0|string3|\n",
      "+-------+---+---+-------+\n",
      "\n"
     ]
    }
   ],
   "source": [
    "df1.select(\"a\", \"b\", \"c\").describe().show()"
   ]
  },
  {
   "cell_type": "code",
   "execution_count": 20,
   "id": "c95a148f-b769-4da3-a23c-10f8c4b595fe",
   "metadata": {},
   "outputs": [
    {
     "name": "stdout",
     "output_type": "stream",
     "text": [
      "+---+---+-------+----------+-------+\n",
      "|  a|  b|      c|         d|upper_c|\n",
      "+---+---+-------+----------+-------+\n",
      "|  1|2.0|string1|2000-01-01|STRING1|\n",
      "|  2|3.0|string2|2000-02-01|STRING2|\n",
      "|  3|4.0|string3|2000-03-01|STRING3|\n",
      "+---+---+-------+----------+-------+\n",
      "\n"
     ]
    }
   ],
   "source": [
    "df1.withColumn(\"upper_c\", upper($\"c\")).show()"
   ]
  },
  {
   "cell_type": "code",
   "execution_count": 21,
   "id": "36957899-81ab-4705-8c84-c9eb7b858c0c",
   "metadata": {},
   "outputs": [
    {
     "name": "stdout",
     "output_type": "stream",
     "text": [
      "+---+---+-------+----------+\n",
      "|  a|  b|      c|         d|\n",
      "+---+---+-------+----------+\n",
      "|  1|2.0|string1|2000-01-01|\n",
      "+---+---+-------+----------+\n",
      "\n"
     ]
    }
   ],
   "source": [
    "df1.filter($\"a\" === 1).show()"
   ]
  },
  {
   "cell_type": "code",
   "execution_count": 22,
   "id": "e4ecaf5a-5fc4-4ab6-a7bf-f5e27a1df123",
   "metadata": {},
   "outputs": [
    {
     "name": "stdout",
     "output_type": "stream",
     "text": [
      "+-----+------+---+---+\n",
      "|color| fruit| v1| v2|\n",
      "+-----+------+---+---+\n",
      "|  red|banana|  1| 10|\n",
      "| blue|banana|  2| 20|\n",
      "|  red|carrot|  3| 30|\n",
      "| blue| grape|  4| 40|\n",
      "|  red|carrot|  5| 50|\n",
      "|black|carrot|  6| 60|\n",
      "|  red|banana|  7| 70|\n",
      "|  red| grape|  8| 80|\n",
      "+-----+------+---+---+\n",
      "\n"
     ]
    },
    {
     "data": {
      "text/plain": [
       "\u001b[36mdf2\u001b[39m: \u001b[32mDataFrame\u001b[39m = [color: string, fruit: string ... 2 more fields]"
      ]
     },
     "execution_count": 22,
     "metadata": {},
     "output_type": "execute_result"
    }
   ],
   "source": [
    "val df2 = spark.createDataFrame(List(\n",
    "    Row(\"red\", \"banana\", 1, 10),\n",
    "    Row(\"blue\", \"banana\", 2, 20),\n",
    "    Row(\"red\", \"carrot\", 3, 30),\n",
    "    Row(\"blue\", \"grape\", 4, 40),\n",
    "    Row(\"red\", \"carrot\", 5, 50),\n",
    "    Row(\"black\", \"carrot\", 6, 60),\n",
    "    Row(\"red\", \"banana\", 7, 70),\n",
    "    Row(\"red\", \"grape\", 8, 80)).asJava,\n",
    "StructType(Array(\n",
    "    StructField(\"color\", StringType, nullable = true),\n",
    "    StructField(\"fruit\", StringType, nullable = true),\n",
    "    StructField(\"v1\", IntegerType, nullable = true),\n",
    "    StructField(\"v2\", IntegerType, nullable = true)))\n",
    ")\n",
    "\n",
    "df2.show()"
   ]
  },
  {
   "cell_type": "code",
   "execution_count": 23,
   "id": "e4685ed9-6f8e-42fa-a92f-311a8b37203f",
   "metadata": {},
   "outputs": [
    {
     "name": "stdout",
     "output_type": "stream",
     "text": [
      "+-----+-------+-------+\n",
      "|color|avg(v1)|avg(v2)|\n",
      "+-----+-------+-------+\n",
      "|  red|    4.8|   48.0|\n",
      "| blue|    3.0|   30.0|\n",
      "|black|    6.0|   60.0|\n",
      "+-----+-------+-------+\n",
      "\n"
     ]
    }
   ],
   "source": [
    "df2.groupBy(\"color\").avg().show()"
   ]
  },
  {
   "cell_type": "code",
   "execution_count": 24,
   "id": "136ed86b-135b-4a09-b8f2-69fc07cda563",
   "metadata": {},
   "outputs": [
    {
     "name": "stdout",
     "output_type": "stream",
     "text": [
      "+-----+------+---+---+\n",
      "|color| fruit| v1| v2|\n",
      "+-----+------+---+---+\n",
      "|black|carrot|  6| 60|\n",
      "| blue|banana|  2| 20|\n",
      "| blue| grape|  4| 40|\n",
      "|  red|carrot|  5| 50|\n",
      "|  red|banana|  7| 70|\n",
      "|  red|banana|  1| 10|\n",
      "|  red|carrot|  3| 30|\n",
      "|  red| grape|  8| 80|\n",
      "+-----+------+---+---+\n",
      "\n"
     ]
    }
   ],
   "source": [
    "df2.write.mode(\"overwrite\").option(\"header\", \"true\").csv(\"foo.csv\")\n",
    "spark.read.option(\"header\", \"true\").csv(\"foo.csv\").show()"
   ]
  },
  {
   "cell_type": "code",
   "execution_count": 25,
   "id": "541ff0c4-11d5-4909-8434-cc3e70df9ea9",
   "metadata": {},
   "outputs": [
    {
     "name": "stdout",
     "output_type": "stream",
     "text": [
      "+---+---+-------+----------+\n",
      "| _1| _2|     _3|        _4|\n",
      "+---+---+-------+----------+\n",
      "|  1|2.0|string1|2000-01-01|\n",
      "|  3|4.0|string3|2000-03-01|\n",
      "|  2|3.0|string2|2000-02-01|\n",
      "+---+---+-------+----------+\n",
      "\n"
     ]
    }
   ],
   "source": [
    "df.write.mode(\"overwrite\").parquet(\"bar.parquet\")\n",
    "spark.read.parquet(\"bar.parquet\").show()"
   ]
  },
  {
   "cell_type": "code",
   "execution_count": 26,
   "id": "3913ad99-16c4-4b92-9819-e5a082f187a3",
   "metadata": {},
   "outputs": [
    {
     "name": "stdout",
     "output_type": "stream",
     "text": [
      "+---+---+-------+----------+\n",
      "| _1| _2|     _3|        _4|\n",
      "+---+---+-------+----------+\n",
      "|  2|3.0|string2|2000-02-01|\n",
      "|  3|4.0|string3|2000-03-01|\n",
      "|  1|2.0|string1|2000-01-01|\n",
      "+---+---+-------+----------+\n",
      "\n"
     ]
    }
   ],
   "source": [
    "df.write.mode(\"overwrite\").orc(\"zoo.orc\")\n",
    "spark.read.orc(\"zoo.orc\").show()"
   ]
  },
  {
   "cell_type": "code",
   "execution_count": 27,
   "id": "ba32a7e7-0168-433d-8a71-5d21f4f7aec9",
   "metadata": {},
   "outputs": [
    {
     "name": "stdout",
     "output_type": "stream",
     "text": [
      "+--------+\n",
      "|count(1)|\n",
      "+--------+\n",
      "|       8|\n",
      "+--------+\n",
      "\n"
     ]
    }
   ],
   "source": [
    "df2.createOrReplaceTempView(\"tableA\")\n",
    "spark.sql(\"SELECT count(*) from tableA\").show()"
   ]
  },
  {
   "cell_type": "code",
   "execution_count": 28,
   "id": "b8fabf52-2db5-4096-9daa-a1e15257e02e",
   "metadata": {},
   "outputs": [
    {
     "name": "stdout",
     "output_type": "stream",
     "text": [
      "+----------+\n",
      "|add_one_v1|\n",
      "+----------+\n",
      "|        11|\n",
      "|        21|\n",
      "|        31|\n",
      "|        41|\n",
      "|        51|\n",
      "|        61|\n",
      "|        71|\n",
      "|        81|\n",
      "+----------+\n",
      "\n"
     ]
    },
    {
     "data": {
      "text/plain": [
       "\u001b[36madd_one\u001b[39m: \u001b[32mString\u001b[39m => \u001b[32mString\u001b[39m = ammonite.$sess.cmd27$Helper$$Lambda$7045/501621666@3da2a059\n",
       "\u001b[36madd_oneUDF\u001b[39m: \u001b[32mexpressions\u001b[39m.\u001b[32mUserDefinedFunction\u001b[39m = \u001b[33mSparkUserDefinedFunction\u001b[39m(\n",
       "  ammonite.$sess.cmd27$Helper$$Lambda$7045/501621666@3da2a059,\n",
       "  StringType,\n",
       "  \u001b[33mList\u001b[39m(\n",
       "    \u001b[33mSome\u001b[39m(\n",
       "      \u001b[33mExpressionEncoder\u001b[39m(\n",
       "        \u001b[33mStaticInvoke\u001b[39m(\n",
       "          class org.apache.spark.unsafe.types.UTF8String,\n",
       "          StringType,\n",
       "          \u001b[32m\"fromString\"\u001b[39m,\n",
       "          \u001b[33mList\u001b[39m(\u001b[33mBoundReference\u001b[39m(\u001b[32m0\u001b[39m, \u001b[33mObjectType\u001b[39m(class java.lang.String), true)),\n",
       "          \u001b[33mList\u001b[39m(),\n",
       "          true,\n",
       "          false\n",
       "        ),\n",
       "        \u001b[33mInvoke\u001b[39m(\n",
       "          \u001b[33mUpCast\u001b[39m(\n",
       "            \u001b[33mGetColumnByOrdinal\u001b[39m(\u001b[32m0\u001b[39m, StringType),\n",
       "            StringType,\n",
       "            \u001b[33mList\u001b[39m(\u001b[32m\"- root class: \\\"java.lang.String\\\"\"\u001b[39m)\n",
       "          ),\n",
       "          \u001b[32m\"toString\"\u001b[39m,\n",
       "          \u001b[33mObjectType\u001b[39m(class java.lang.String),\n",
       "          \u001b[33mList\u001b[39m(),\n",
       "          \u001b[33mList\u001b[39m(),\n",
       "          true,\n",
       "          false\n",
       "        ),\n",
       "        java.lang.String\n",
       "      )\n",
       "    )\n",
       "  ),\n",
       "  \u001b[33mSome\u001b[39m(\n",
       "    \u001b[33mExpressionEncoder\u001b[39m(\n",
       "      \u001b[33mStaticInvoke\u001b[39m(\n",
       "        class org.apache.spark.unsafe.types.UTF8String,\n",
       "        StringType,\n",
       "        \u001b[32m\"fromString\"\u001b[39m,\n",
       "        \u001b[33mList\u001b[39m(\u001b[33mBoundReference\u001b[39m(\u001b[32m0\u001b[39m, \u001b[33mObjectType\u001b[39m(class java.lang.String), true)),\n",
       "..."
      ]
     },
     "execution_count": 28,
     "metadata": {},
     "output_type": "execute_result"
    }
   ],
   "source": [
    "val add_one = (a: String) => a + 1\n",
    "val add_oneUDF = udf(add_one)\n",
    "\n",
    "df2.select(add_oneUDF($\"v1\").as(\"add_one_v1\")).show"
   ]
  },
  {
   "cell_type": "code",
   "execution_count": 29,
   "id": "13796678-877a-45e1-8b19-4fef5c7cb135",
   "metadata": {},
   "outputs": [
    {
     "name": "stdout",
     "output_type": "stream",
     "text": [
      "+-----------+\n",
      "|add_one(v1)|\n",
      "+-----------+\n",
      "|         11|\n",
      "|         21|\n",
      "|         31|\n",
      "|         41|\n",
      "|         51|\n",
      "|         61|\n",
      "|         71|\n",
      "|         81|\n",
      "+-----------+\n",
      "\n"
     ]
    },
    {
     "data": {
      "text/plain": [
       "\u001b[36mres28_0\u001b[39m: \u001b[32mexpressions\u001b[39m.\u001b[32mUserDefinedFunction\u001b[39m = \u001b[33mSparkUserDefinedFunction\u001b[39m(\n",
       "  ammonite.$sess.cmd27$Helper$$Lambda$7045/501621666@3da2a059,\n",
       "  StringType,\n",
       "  \u001b[33mList\u001b[39m(\n",
       "    \u001b[33mSome\u001b[39m(\n",
       "      \u001b[33mExpressionEncoder\u001b[39m(\n",
       "        \u001b[33mStaticInvoke\u001b[39m(\n",
       "          class org.apache.spark.unsafe.types.UTF8String,\n",
       "          StringType,\n",
       "          \u001b[32m\"fromString\"\u001b[39m,\n",
       "          \u001b[33mList\u001b[39m(\u001b[33mBoundReference\u001b[39m(\u001b[32m0\u001b[39m, \u001b[33mObjectType\u001b[39m(class java.lang.String), true)),\n",
       "          \u001b[33mList\u001b[39m(),\n",
       "          true,\n",
       "          false\n",
       "        ),\n",
       "        \u001b[33mInvoke\u001b[39m(\n",
       "          \u001b[33mUpCast\u001b[39m(\n",
       "            \u001b[33mGetColumnByOrdinal\u001b[39m(\u001b[32m0\u001b[39m, StringType),\n",
       "            StringType,\n",
       "            \u001b[33mList\u001b[39m(\u001b[32m\"- root class: \\\"java.lang.String\\\"\"\u001b[39m)\n",
       "          ),\n",
       "          \u001b[32m\"toString\"\u001b[39m,\n",
       "          \u001b[33mObjectType\u001b[39m(class java.lang.String),\n",
       "          \u001b[33mList\u001b[39m(),\n",
       "          \u001b[33mList\u001b[39m(),\n",
       "          true,\n",
       "          false\n",
       "        ),\n",
       "        java.lang.String\n",
       "      )\n",
       "    )\n",
       "  ),\n",
       "  \u001b[33mSome\u001b[39m(\n",
       "    \u001b[33mExpressionEncoder\u001b[39m(\n",
       "      \u001b[33mStaticInvoke\u001b[39m(\n",
       "        class org.apache.spark.unsafe.types.UTF8String,\n",
       "        StringType,\n",
       "        \u001b[32m\"fromString\"\u001b[39m,\n",
       "        \u001b[33mList\u001b[39m(\u001b[33mBoundReference\u001b[39m(\u001b[32m0\u001b[39m, \u001b[33mObjectType\u001b[39m(class java.lang.String), true)),\n",
       "..."
      ]
     },
     "execution_count": 29,
     "metadata": {},
     "output_type": "execute_result"
    }
   ],
   "source": [
    "spark.udf.register(\"add_one\", add_oneUDF)\n",
    "spark.sql(\"SELECT add_one(v1) FROM tableA\").show()"
   ]
  },
  {
   "cell_type": "markdown",
   "id": "e700d74a-1eb0-44a9-8cef-c6943934a290",
   "metadata": {
    "tags": []
   },
   "source": [
    "# DataSet"
   ]
  },
  {
   "cell_type": "code",
   "execution_count": 30,
   "id": "3f5b193d-79db-404c-a941-1b3e80949422",
   "metadata": {},
   "outputs": [
    {
     "data": {
      "text/plain": [
       "defined \u001b[32mclass\u001b[39m \u001b[36mPerson\u001b[39m\n",
       "\u001b[36mpersonDS\u001b[39m: \u001b[32mDataset\u001b[39m[\u001b[32mPerson\u001b[39m] = [name: string, age: bigint]"
      ]
     },
     "execution_count": 30,
     "metadata": {},
     "output_type": "execute_result"
    }
   ],
   "source": [
    "case class Person(name: String, age: Long)\n",
    "\n",
    "val personDS = Seq(Person(\"Andy\", 32), Person(\"Mike\", 25), Person(\"Mary\", 18)).toDS()"
   ]
  },
  {
   "cell_type": "code",
   "execution_count": 31,
   "id": "5a63cdb5-ae19-4418-9edb-0e2bc1845438",
   "metadata": {},
   "outputs": [
    {
     "name": "stdout",
     "output_type": "stream",
     "text": [
      "+----+---+\n",
      "|name|age|\n",
      "+----+---+\n",
      "|Andy| 32|\n",
      "|Mike| 25|\n",
      "|Mary| 18|\n",
      "+----+---+\n",
      "\n"
     ]
    }
   ],
   "source": [
    "personDS.show"
   ]
  },
  {
   "cell_type": "code",
   "execution_count": 32,
   "id": "90d98d18-1e28-4d5e-b098-58f4c72c22c2",
   "metadata": {},
   "outputs": [
    {
     "name": "stdout",
     "output_type": "stream",
     "text": [
      "root\n",
      " |-- name: string (nullable = true)\n",
      " |-- age: long (nullable = false)\n",
      "\n"
     ]
    }
   ],
   "source": [
    "personDS.printSchema"
   ]
  },
  {
   "cell_type": "code",
   "execution_count": 33,
   "id": "af3f0b11-3c47-4739-b1c4-9fc6a01e816b",
   "metadata": {},
   "outputs": [
    {
     "name": "stdout",
     "output_type": "stream",
     "text": [
      "+----+---+\n",
      "|name|age|\n",
      "+----+---+\n",
      "|Andy| 32|\n",
      "|Mike| 25|\n",
      "+----+---+\n",
      "\n"
     ]
    }
   ],
   "source": [
    "personDS.filter($\"age\" > 20).show"
   ]
  },
  {
   "cell_type": "code",
   "execution_count": 34,
   "id": "dceaec62-1200-4216-8b76-4f6891a8657b",
   "metadata": {},
   "outputs": [
    {
     "name": "stdout",
     "output_type": "stream",
     "text": [
      "+----+---+\n",
      "|name|age|\n",
      "+----+---+\n",
      "|Andy| 32|\n",
      "|Mike| 25|\n",
      "+----+---+\n",
      "\n"
     ]
    }
   ],
   "source": [
    "personDS.filter(_.age > 20).show"
   ]
  },
  {
   "cell_type": "code",
   "execution_count": 35,
   "id": "6bfaa549-4050-44b8-be8e-964036cd2c90",
   "metadata": {},
   "outputs": [
    {
     "name": "stdout",
     "output_type": "stream",
     "text": [
      "+----+\n",
      "|name|\n",
      "+----+\n",
      "|Andy|\n",
      "|Mike|\n",
      "|Mary|\n",
      "+----+\n",
      "\n"
     ]
    }
   ],
   "source": [
    "personDS.select(col(\"name\")).show"
   ]
  },
  {
   "cell_type": "code",
   "execution_count": 36,
   "id": "a3ba645b-5fcb-41c5-845c-200746b01429",
   "metadata": {},
   "outputs": [
    {
     "name": "stdout",
     "output_type": "stream",
     "text": [
      "+----+\n",
      "|name|\n",
      "+----+\n",
      "|Andy|\n",
      "|Mike|\n",
      "|Mary|\n",
      "+----+\n",
      "\n"
     ]
    }
   ],
   "source": [
    "personDS.select('name).show"
   ]
  },
  {
   "cell_type": "code",
   "execution_count": 37,
   "id": "fccea850-0a40-4904-80c0-327d6c40cee5",
   "metadata": {},
   "outputs": [
    {
     "data": {
      "text/plain": [
       "defined \u001b[32mclass\u001b[39m \u001b[36mPersonCount\u001b[39m"
      ]
     },
     "execution_count": 37,
     "metadata": {},
     "output_type": "execute_result"
    }
   ],
   "source": [
    "case class PersonCount(name: String, count: Long)"
   ]
  },
  {
   "cell_type": "code",
   "execution_count": 38,
   "id": "ec14b6e1-6849-4d62-a253-f2ee303e23e4",
   "metadata": {},
   "outputs": [
    {
     "data": {
      "text/plain": [
       "\u001b[36mres37\u001b[39m: \u001b[32mDataset\u001b[39m[\u001b[32mPersonCount\u001b[39m] = [name: string, count: bigint]"
      ]
     },
     "execution_count": 38,
     "metadata": {},
     "output_type": "execute_result"
    }
   ],
   "source": [
    "personDS.groupBy('name).count.as[PersonCount]"
   ]
  },
  {
   "cell_type": "code",
   "execution_count": 39,
   "id": "ad9ba35d-3ae3-453b-8479-850ef77d04cf",
   "metadata": {},
   "outputs": [],
   "source": [
    "spark.stop()"
   ]
  },
  {
   "cell_type": "code",
   "execution_count": null,
   "id": "17457ede-310a-4b9f-b7f4-410b9a8c40cd",
   "metadata": {},
   "outputs": [],
   "source": []
  }
 ],
 "metadata": {
  "kernelspec": {
   "display_name": "Scala",
   "language": "scala",
   "name": "scala"
  },
  "language_info": {
   "codemirror_mode": "text/x-scala",
   "file_extension": ".scala",
   "mimetype": "text/x-scala",
   "name": "scala",
   "nbconvert_exporter": "script",
   "version": "2.12.10"
  }
 },
 "nbformat": 4,
 "nbformat_minor": 5
}

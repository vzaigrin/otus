{
 "cells": [
  {
   "cell_type": "code",
   "execution_count": 2,
   "id": "c7cb8a6c-fa02-4f64-b0f5-8e48d5910e8a",
   "metadata": {},
   "outputs": [],
   "source": [
    "from pyspark import SparkContext"
   ]
  },
  {
   "cell_type": "code",
   "execution_count": 3,
   "id": "89e35e8c-5dd6-4638-a6d9-bc0597219ae9",
   "metadata": {},
   "outputs": [],
   "source": [
    "sc = SparkContext()"
   ]
  },
  {
   "cell_type": "code",
   "execution_count": 5,
   "id": "6374be22-8a22-4650-8265-ccaa68a64c8d",
   "metadata": {},
   "outputs": [
    {
     "name": "stdout",
     "output_type": "stream",
     "text": [
      "spark.version == 3.1.2\n"
     ]
    }
   ],
   "source": [
    "print(\"spark.version ==\", sc.version)"
   ]
  },
  {
   "cell_type": "markdown",
   "id": "eb1c967a-462a-439f-8d8e-6ff929e0abdd",
   "metadata": {},
   "source": [
    "# Create Dataset"
   ]
  },
  {
   "cell_type": "code",
   "execution_count": 7,
   "id": "34ab8060-8d2f-436f-b5ad-7ff6937b8257",
   "metadata": {},
   "outputs": [],
   "source": [
    "from datetime import datetime, date\n",
    "\n",
    "rdd = sc.parallelize([\n",
    "    (1, 2., 'string1', date(2000, 1, 1), datetime(2000, 1, 1, 12, 0)),\n",
    "    (2, 3., 'string2', date(2000, 2, 1), datetime(2000, 1, 2, 12, 0)),\n",
    "    (3, 4., 'string3', date(2000, 3, 1), datetime(2000, 1, 3, 12, 0))\n",
    "])"
   ]
  },
  {
   "cell_type": "code",
   "execution_count": 8,
   "id": "b30afbb3-fa17-4e53-951e-3ec663b0e049",
   "metadata": {},
   "outputs": [
    {
     "name": "stderr",
     "output_type": "stream",
     "text": [
      "(3, 4.0, 'string3', datetime.date(2000, 3, 1), datetime.datetime(2000, 1, 3, 12, 0))\n",
      "(1, 2.0, 'string1', datetime.date(2000, 1, 1), datetime.datetime(2000, 1, 1, 12, 0))\n",
      "(2, 3.0, 'string2', datetime.date(2000, 2, 1), datetime.datetime(2000, 1, 2, 12, 0))\n",
      "                                                                                \r"
     ]
    }
   ],
   "source": [
    "rdd.foreach(print)"
   ]
  },
  {
   "cell_type": "code",
   "execution_count": 9,
   "id": "eb499ac6-a40b-4a78-980f-2b1cd096684c",
   "metadata": {},
   "outputs": [
    {
     "name": "stdout",
     "output_type": "stream",
     "text": [
      "(1, 2.0, 'string1', datetime.date(2000, 1, 1), datetime.datetime(2000, 1, 1, 12, 0))\n",
      "(2, 3.0, 'string2', datetime.date(2000, 2, 1), datetime.datetime(2000, 1, 2, 12, 0))\n"
     ]
    }
   ],
   "source": [
    "for r in rdd.take(2):\n",
    "    print(r)"
   ]
  },
  {
   "cell_type": "markdown",
   "id": "519d98ca-3c92-41d5-9657-b55e8576e158",
   "metadata": {},
   "source": [
    "# Word Count"
   ]
  },
  {
   "cell_type": "code",
   "execution_count": 10,
   "id": "a7c89ba8-1ee7-44a2-a401-95751b2afed1",
   "metadata": {},
   "outputs": [],
   "source": [
    "text_file = sc.textFile(\"/opt/spark/README.md\")\n",
    "counts = text_file.flatMap(lambda line: line.split(\" \")) \\\n",
    "             .map(lambda word: (word, 1)) \\\n",
    "             .reduceByKey(lambda a, b: a + b)"
   ]
  },
  {
   "cell_type": "code",
   "execution_count": 20,
   "id": "17261257-802f-4ea5-92a5-0a472271ca39",
   "metadata": {},
   "outputs": [
    {
     "data": {
      "text/plain": [
       "[('#', 1),\n",
       " ('Apache', 1),\n",
       " ('Spark', 14),\n",
       " ('', 73),\n",
       " ('is', 7),\n",
       " ('unified', 1),\n",
       " ('analytics', 1),\n",
       " ('engine', 2),\n",
       " ('It', 2),\n",
       " ('provides', 1)]"
      ]
     },
     "execution_count": 20,
     "metadata": {},
     "output_type": "execute_result"
    }
   ],
   "source": [
    "counts.take(10)"
   ]
  },
  {
   "cell_type": "code",
   "execution_count": null,
   "id": "871baf45-b7ee-409d-9e31-dd7dfc8cd92d",
   "metadata": {},
   "outputs": [],
   "source": []
  }
 ],
 "metadata": {
  "kernelspec": {
   "display_name": "Python 3 (ipykernel)",
   "language": "python",
   "name": "python3"
  },
  "language_info": {
   "codemirror_mode": {
    "name": "ipython",
    "version": 3
   },
   "file_extension": ".py",
   "mimetype": "text/x-python",
   "name": "python",
   "nbconvert_exporter": "python",
   "pygments_lexer": "ipython3",
   "version": "3.8.10"
  }
 },
 "nbformat": 4,
 "nbformat_minor": 5
}

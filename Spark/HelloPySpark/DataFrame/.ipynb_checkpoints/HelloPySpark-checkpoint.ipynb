{
 "cells": [
  {
   "cell_type": "code",
   "execution_count": 1,
   "id": "66157c1b-6a86-416f-8729-bd8bddbfc9ec",
   "metadata": {},
   "outputs": [],
   "source": [
    "from pyspark.sql import SparkSession\n",
    "from pyspark.sql import Column\n",
    "from pyspark.sql.functions import *\n",
    "from datetime import datetime, date"
   ]
  },
  {
   "cell_type": "markdown",
   "id": "1fe12357-9462-4285-97ed-5ec54b5d13dc",
   "metadata": {},
   "source": [
    "# Start"
   ]
  },
  {
   "cell_type": "code",
   "execution_count": 2,
   "id": "89e35e8c-5dd6-4638-a6d9-bc0597219ae9",
   "metadata": {},
   "outputs": [],
   "source": [
    "spark = SparkSession.builder.appName(\"HelloPySpark\").getOrCreate()"
   ]
  },
  {
   "cell_type": "code",
   "execution_count": 3,
   "id": "6374be22-8a22-4650-8265-ccaa68a64c8d",
   "metadata": {},
   "outputs": [
    {
     "name": "stdout",
     "output_type": "stream",
     "text": [
      "spark.version == 3.1.2\n"
     ]
    }
   ],
   "source": [
    "print(\"spark.version ==\", spark.version)"
   ]
  },
  {
   "cell_type": "markdown",
   "id": "78e81399-494a-463a-8ad3-e7182c432bb9",
   "metadata": {},
   "source": [
    "# DataFrame"
   ]
  },
  {
   "cell_type": "code",
   "execution_count": 4,
   "id": "c9bc5e7c-8550-4ea2-833d-d0f8d5167c14",
   "metadata": {},
   "outputs": [],
   "source": [
    "df = spark.createDataFrame([\n",
    "    (1, 2., 'string1', date(2000, 1, 1), datetime(2000, 1, 1, 12, 0)),\n",
    "    (2, 3., 'string2', date(2000, 2, 1), datetime(2000, 1, 2, 12, 0)),\n",
    "    (3, 4., 'string3', date(2000, 3, 1), datetime(2000, 1, 3, 12, 0))\n",
    "], schema='a long, b double, c string, d date, e timestamp')"
   ]
  },
  {
   "cell_type": "code",
   "execution_count": 5,
   "id": "d5732667-fd32-4932-b827-53e9499c861c",
   "metadata": {},
   "outputs": [
    {
     "name": "stderr",
     "output_type": "stream",
     "text": [
      "[Stage 0:>                                                          (0 + 1) / 1]\r"
     ]
    },
    {
     "name": "stdout",
     "output_type": "stream",
     "text": [
      "+---+---+-------+----------+-------------------+\n",
      "|  a|  b|      c|         d|                  e|\n",
      "+---+---+-------+----------+-------------------+\n",
      "|  1|2.0|string1|2000-01-01|2000-01-01 12:00:00|\n",
      "|  2|3.0|string2|2000-02-01|2000-01-02 12:00:00|\n",
      "|  3|4.0|string3|2000-03-01|2000-01-03 12:00:00|\n",
      "+---+---+-------+----------+-------------------+\n",
      "\n"
     ]
    },
    {
     "name": "stderr",
     "output_type": "stream",
     "text": [
      "                                                                                \r"
     ]
    }
   ],
   "source": [
    "df.show()"
   ]
  },
  {
   "cell_type": "code",
   "execution_count": 6,
   "id": "3a46a6a7-7b33-4ccb-8954-892f5cc6ec3d",
   "metadata": {},
   "outputs": [
    {
     "name": "stdout",
     "output_type": "stream",
     "text": [
      "root\n",
      " |-- a: long (nullable = true)\n",
      " |-- b: double (nullable = true)\n",
      " |-- c: string (nullable = true)\n",
      " |-- d: date (nullable = true)\n",
      " |-- e: timestamp (nullable = true)\n",
      "\n"
     ]
    }
   ],
   "source": [
    "df.printSchema()"
   ]
  },
  {
   "cell_type": "code",
   "execution_count": 7,
   "id": "e2f7298b-8e46-4a3e-a87e-e2e90a07cbd4",
   "metadata": {},
   "outputs": [
    {
     "data": {
      "text/plain": [
       "[('a', 'bigint'),\n",
       " ('b', 'double'),\n",
       " ('c', 'string'),\n",
       " ('d', 'date'),\n",
       " ('e', 'timestamp')]"
      ]
     },
     "execution_count": 7,
     "metadata": {},
     "output_type": "execute_result"
    }
   ],
   "source": [
    "df.dtypes"
   ]
  },
  {
   "cell_type": "markdown",
   "id": "d658f926-5ccc-46cb-84a9-a3d042382d42",
   "metadata": {},
   "source": [
    "## Selecting and Accessing"
   ]
  },
  {
   "cell_type": "code",
   "execution_count": 8,
   "id": "147c2c2c-d231-4439-8bae-6ee1221f95d9",
   "metadata": {},
   "outputs": [],
   "source": [
    "df3 = df.withColumn('upper_c', upper(df.c))"
   ]
  },
  {
   "cell_type": "code",
   "execution_count": 9,
   "id": "6d8b3ce8-978a-4aa0-a18c-0e127d82b723",
   "metadata": {},
   "outputs": [
    {
     "name": "stdout",
     "output_type": "stream",
     "text": [
      "+---+---+-------+----------+-------------------+-------+\n",
      "|  a|  b|      c|         d|                  e|upper_c|\n",
      "+---+---+-------+----------+-------------------+-------+\n",
      "|  1|2.0|string1|2000-01-01|2000-01-01 12:00:00|STRING1|\n",
      "|  2|3.0|string2|2000-02-01|2000-01-02 12:00:00|STRING2|\n",
      "|  3|4.0|string3|2000-03-01|2000-01-03 12:00:00|STRING3|\n",
      "+---+---+-------+----------+-------------------+-------+\n",
      "\n"
     ]
    }
   ],
   "source": [
    "df3.show()"
   ]
  },
  {
   "cell_type": "code",
   "execution_count": 10,
   "id": "0675f19e-f178-4371-81a8-797d166b2f4c",
   "metadata": {},
   "outputs": [
    {
     "name": "stdout",
     "output_type": "stream",
     "text": [
      "+---+---+-------+----------+-------------------+-------+\n",
      "|  a|  b|      c|         d|                  e|upper_c|\n",
      "+---+---+-------+----------+-------------------+-------+\n",
      "|  1|2.0|string1|2000-01-01|2000-01-01 12:00:00|STRING1|\n",
      "|  2|3.0|string2|2000-02-01|2000-01-02 12:00:00|STRING2|\n",
      "|  3|4.0|string3|2000-03-01|2000-01-03 12:00:00|STRING3|\n",
      "+---+---+-------+----------+-------------------+-------+\n",
      "\n"
     ]
    }
   ],
   "source": [
    "df.withColumn('upper_c', upper(df.c)).show()"
   ]
  },
  {
   "cell_type": "code",
   "execution_count": 11,
   "id": "eb48a94f-e8d5-447f-8048-7ac9ead56ad0",
   "metadata": {},
   "outputs": [
    {
     "name": "stdout",
     "output_type": "stream",
     "text": [
      "+---+---+-------+----------+-------------------+\n",
      "|  a|  b|      c|         d|                  e|\n",
      "+---+---+-------+----------+-------------------+\n",
      "|  1|2.0|string1|2000-01-01|2000-01-01 12:00:00|\n",
      "|  2|3.0|string2|2000-02-01|2000-01-02 12:00:00|\n",
      "|  3|4.0|string3|2000-03-01|2000-01-03 12:00:00|\n",
      "+---+---+-------+----------+-------------------+\n",
      "\n"
     ]
    }
   ],
   "source": [
    "df.show()"
   ]
  },
  {
   "cell_type": "code",
   "execution_count": 12,
   "id": "dfc48d90-3e7d-4ec1-8074-ae1a705033dd",
   "metadata": {},
   "outputs": [
    {
     "name": "stdout",
     "output_type": "stream",
     "text": [
      "+-------+\n",
      "|      c|\n",
      "+-------+\n",
      "|string1|\n",
      "|string2|\n",
      "|string3|\n",
      "+-------+\n",
      "\n"
     ]
    }
   ],
   "source": [
    "df.select(col(\"c\")).show()"
   ]
  },
  {
   "cell_type": "code",
   "execution_count": 13,
   "id": "9bf80977-901a-4b54-9a01-5147eb1b8428",
   "metadata": {},
   "outputs": [
    {
     "name": "stdout",
     "output_type": "stream",
     "text": [
      "+---+---+-------+----------+-------------------+\n",
      "|  a|  b|      c|         d|                  e|\n",
      "+---+---+-------+----------+-------------------+\n",
      "|  1|2.0|string1|2000-01-01|2000-01-01 12:00:00|\n",
      "+---+---+-------+----------+-------------------+\n",
      "\n"
     ]
    }
   ],
   "source": [
    "df.filter(df.a == 1).show()"
   ]
  },
  {
   "cell_type": "markdown",
   "id": "d0a1d9be-a4ef-4f1e-9a25-26b79ff07403",
   "metadata": {},
   "source": [
    "## Grouping Data"
   ]
  },
  {
   "cell_type": "code",
   "execution_count": 14,
   "id": "e3e71ee9-c9de-4930-849b-31920f9dc9f0",
   "metadata": {},
   "outputs": [],
   "source": [
    "df2 = spark.createDataFrame([\n",
    "    ['red', 'banana', 1, 10], ['blue', 'banana', 2, 20], ['red', 'carrot', 3, 30],\n",
    "    ['blue', 'grape', 4, 40], ['red', 'carrot', 5, 50], ['black', 'carrot', 6, 60],\n",
    "    ['red', 'banana', 7, 70], ['red', 'grape', 8, 80]], schema=['color', 'fruit', 'v1', 'v2'])"
   ]
  },
  {
   "cell_type": "code",
   "execution_count": 15,
   "id": "cb60f23b-55a7-409b-9527-74ea5e4f3fa7",
   "metadata": {},
   "outputs": [
    {
     "name": "stdout",
     "output_type": "stream",
     "text": [
      "root\n",
      " |-- color: string (nullable = true)\n",
      " |-- fruit: string (nullable = true)\n",
      " |-- v1: long (nullable = true)\n",
      " |-- v2: long (nullable = true)\n",
      "\n"
     ]
    }
   ],
   "source": [
    "df2.printSchema()"
   ]
  },
  {
   "cell_type": "code",
   "execution_count": 16,
   "id": "505328c2-a810-4df5-a2f6-e81e390d8f29",
   "metadata": {},
   "outputs": [
    {
     "name": "stdout",
     "output_type": "stream",
     "text": [
      "+-----+------+---+---+\n",
      "|color| fruit| v1| v2|\n",
      "+-----+------+---+---+\n",
      "|  red|banana|  1| 10|\n",
      "| blue|banana|  2| 20|\n",
      "|  red|carrot|  3| 30|\n",
      "| blue| grape|  4| 40|\n",
      "|  red|carrot|  5| 50|\n",
      "|black|carrot|  6| 60|\n",
      "|  red|banana|  7| 70|\n",
      "|  red| grape|  8| 80|\n",
      "+-----+------+---+---+\n",
      "\n"
     ]
    }
   ],
   "source": [
    "df2.show()"
   ]
  },
  {
   "cell_type": "code",
   "execution_count": 17,
   "id": "e00452e3-d800-4d1a-b5b8-e3c0650c78b2",
   "metadata": {},
   "outputs": [
    {
     "name": "stdout",
     "output_type": "stream",
     "text": [
      "+-----+-------+-------+\n",
      "|color|avg(v1)|avg(v2)|\n",
      "+-----+-------+-------+\n",
      "|  red|    4.8|   48.0|\n",
      "|black|    6.0|   60.0|\n",
      "| blue|    3.0|   30.0|\n",
      "+-----+-------+-------+\n",
      "\n"
     ]
    }
   ],
   "source": [
    "df2.groupBy('color').avg().show()"
   ]
  },
  {
   "cell_type": "markdown",
   "id": "287e636c-a553-4210-91fb-915dc2f872ae",
   "metadata": {},
   "source": [
    "## Word Count"
   ]
  },
  {
   "cell_type": "code",
   "execution_count": 18,
   "id": "6c093a83-9683-42b4-8319-ca927cdd6e74",
   "metadata": {},
   "outputs": [],
   "source": [
    "lines = spark.read.text(\"/opt/spark/README.md\")"
   ]
  },
  {
   "cell_type": "code",
   "execution_count": 19,
   "id": "e6862071-da24-4e58-b2a0-70d66a842838",
   "metadata": {},
   "outputs": [
    {
     "name": "stdout",
     "output_type": "stream",
     "text": [
      "+--------------------+\n",
      "|               value|\n",
      "+--------------------+\n",
      "|      # Apache Spark|\n",
      "|                    |\n",
      "|Spark is a unifie...|\n",
      "|high-level APIs i...|\n",
      "|supports general ...|\n",
      "|rich set of highe...|\n",
      "|MLlib for machine...|\n",
      "|and Structured St...|\n",
      "|                    |\n",
      "|<https://spark.ap...|\n",
      "+--------------------+\n",
      "only showing top 10 rows\n",
      "\n"
     ]
    }
   ],
   "source": [
    "lines.show(10)"
   ]
  },
  {
   "cell_type": "code",
   "execution_count": 20,
   "id": "cbcffa7d-6e14-488f-9502-ac6fbb5b719a",
   "metadata": {},
   "outputs": [],
   "source": [
    "df4 = lines.withColumn(\"words\", split(col(\"value\"), \" \"))"
   ]
  },
  {
   "cell_type": "code",
   "execution_count": 21,
   "id": "ea6c383c-55e2-43c5-acfb-69eb5648357f",
   "metadata": {},
   "outputs": [
    {
     "name": "stdout",
     "output_type": "stream",
     "text": [
      "+--------------------+--------------------+\n",
      "|               value|               words|\n",
      "+--------------------+--------------------+\n",
      "|      # Apache Spark|  [#, Apache, Spark]|\n",
      "|                    |                  []|\n",
      "|Spark is a unifie...|[Spark, is, a, un...|\n",
      "|high-level APIs i...|[high-level, APIs...|\n",
      "|supports general ...|[supports, genera...|\n",
      "+--------------------+--------------------+\n",
      "only showing top 5 rows\n",
      "\n"
     ]
    }
   ],
   "source": [
    "df4.show(5)"
   ]
  },
  {
   "cell_type": "code",
   "execution_count": 22,
   "id": "7511f476-c4e6-4dd3-9110-1f6faf1d18c9",
   "metadata": {},
   "outputs": [
    {
     "name": "stdout",
     "output_type": "stream",
     "text": [
      "root\n",
      " |-- value: string (nullable = true)\n",
      " |-- words: array (nullable = true)\n",
      " |    |-- element: string (containsNull = true)\n",
      "\n"
     ]
    }
   ],
   "source": [
    "df4.printSchema()"
   ]
  },
  {
   "cell_type": "code",
   "execution_count": 23,
   "id": "cc9c0669-d1be-4230-81c7-d479563e9c86",
   "metadata": {},
   "outputs": [
    {
     "name": "stdout",
     "output_type": "stream",
     "text": [
      "+--------------------+--------------------+-----------+\n",
      "|               value|          wordsArray|      words|\n",
      "+--------------------+--------------------+-----------+\n",
      "|      # Apache Spark|  [#, Apache, Spark]|          #|\n",
      "|      # Apache Spark|  [#, Apache, Spark]|     Apache|\n",
      "|      # Apache Spark|  [#, Apache, Spark]|      Spark|\n",
      "|                    |                  []|           |\n",
      "|Spark is a unifie...|[Spark, is, a, un...|      Spark|\n",
      "|Spark is a unifie...|[Spark, is, a, un...|         is|\n",
      "|Spark is a unifie...|[Spark, is, a, un...|          a|\n",
      "|Spark is a unifie...|[Spark, is, a, un...|    unified|\n",
      "|Spark is a unifie...|[Spark, is, a, un...|  analytics|\n",
      "|Spark is a unifie...|[Spark, is, a, un...|     engine|\n",
      "|Spark is a unifie...|[Spark, is, a, un...|        for|\n",
      "|Spark is a unifie...|[Spark, is, a, un...|large-scale|\n",
      "|Spark is a unifie...|[Spark, is, a, un...|       data|\n",
      "|Spark is a unifie...|[Spark, is, a, un...|processing.|\n",
      "|Spark is a unifie...|[Spark, is, a, un...|         It|\n",
      "|Spark is a unifie...|[Spark, is, a, un...|   provides|\n",
      "|high-level APIs i...|[high-level, APIs...| high-level|\n",
      "|high-level APIs i...|[high-level, APIs...|       APIs|\n",
      "|high-level APIs i...|[high-level, APIs...|         in|\n",
      "|high-level APIs i...|[high-level, APIs...|     Scala,|\n",
      "+--------------------+--------------------+-----------+\n",
      "only showing top 20 rows\n",
      "\n"
     ]
    }
   ],
   "source": [
    "words = lines.withColumn(\"wordsArray\", split(col(\"value\"), \" \")).withColumn(\"words\", explode(\"wordsArray\"))\n",
    "words.show()"
   ]
  },
  {
   "cell_type": "code",
   "execution_count": 24,
   "id": "9f292118-daea-41bb-86ac-7d43a0e13c01",
   "metadata": {},
   "outputs": [
    {
     "name": "stdout",
     "output_type": "stream",
     "text": [
      "+---------+-----+\n",
      "|    words|count|\n",
      "+---------+-----+\n",
      "|         |   73|\n",
      "|      the|   23|\n",
      "|       to|   16|\n",
      "|    Spark|   14|\n",
      "|      for|   12|\n",
      "|        a|    9|\n",
      "|      and|    9|\n",
      "|       ##|    9|\n",
      "|      run|    7|\n",
      "|       on|    7|\n",
      "|       is|    7|\n",
      "|      can|    6|\n",
      "|       in|    5|\n",
      "|       of|    5|\n",
      "|     also|    5|\n",
      "|       an|    4|\n",
      "|        *|    4|\n",
      "|   Please|    4|\n",
      "|      you|    4|\n",
      "|including|    4|\n",
      "+---------+-----+\n",
      "only showing top 20 rows\n",
      "\n"
     ]
    }
   ],
   "source": [
    "counts = words.groupBy(col(\"words\")).count()\n",
    "counts.orderBy(desc(\"count\")).show()"
   ]
  },
  {
   "cell_type": "code",
   "execution_count": 26,
   "id": "c19ca88f-b747-4bce-8c38-aca251a71960",
   "metadata": {},
   "outputs": [
    {
     "data": {
      "text/plain": [
       "[Row(words='[![PySpark', count=1),\n",
       " Row(words='online', count=1),\n",
       " Row(words='graphs', count=1),\n",
       " Row(words='[\"Building', count=1),\n",
       " Row(words='documentation', count=3),\n",
       " Row(words='command,', count=2),\n",
       " Row(words='abbreviated', count=1),\n",
       " Row(words='overview', count=1),\n",
       " Row(words='rich', count=1),\n",
       " Row(words='set', count=2)]"
      ]
     },
     "execution_count": 26,
     "metadata": {},
     "output_type": "execute_result"
    }
   ],
   "source": [
    "output = counts.take(10)\n",
    "output"
   ]
  },
  {
   "cell_type": "markdown",
   "id": "8d08071d-961d-48c4-98ff-9a64bf1a5708",
   "metadata": {},
   "source": [
    "## SQL"
   ]
  },
  {
   "cell_type": "code",
   "execution_count": null,
   "id": "8cef8b43-f2ab-422c-9d6d-f0ceb124e7bf",
   "metadata": {},
   "outputs": [],
   "source": [
    "df2.createOrReplaceTempView(\"tableA\")\n",
    "spark.sql(\"SELECT count(*) as count from tableA\").show()"
   ]
  },
  {
   "cell_type": "code",
   "execution_count": null,
   "id": "d81a1890-7506-4dd4-ba50-c21d46240853",
   "metadata": {},
   "outputs": [],
   "source": [
    "spark.stop()"
   ]
  },
  {
   "cell_type": "code",
   "execution_count": null,
   "id": "f23bdc14-b982-4547-a7c0-0ecafd2bdc39",
   "metadata": {},
   "outputs": [],
   "source": []
  }
 ],
 "metadata": {
  "kernelspec": {
   "display_name": "Python 3 (ipykernel)",
   "language": "python",
   "name": "python3"
  },
  "language_info": {
   "codemirror_mode": {
    "name": "ipython",
    "version": 3
   },
   "file_extension": ".py",
   "mimetype": "text/x-python",
   "name": "python",
   "nbconvert_exporter": "python",
   "pygments_lexer": "ipython3",
   "version": "3.8.10"
  }
 },
 "nbformat": 4,
 "nbformat_minor": 5
}

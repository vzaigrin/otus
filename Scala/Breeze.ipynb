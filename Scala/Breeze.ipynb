{
 "cells": [
  {
   "cell_type": "code",
   "execution_count": 1,
   "metadata": {},
   "outputs": [
    {
     "data": {
      "text/plain": [
       "\u001b[32mimport \u001b[39m\u001b[36m$ivy.$                               \u001b[39m"
      ]
     },
     "execution_count": 1,
     "metadata": {},
     "output_type": "execute_result"
    }
   ],
   "source": [
    "import $ivy.`org.scalanlp::breeze:2.0.1-RC1`"
   ]
  },
  {
   "cell_type": "code",
   "execution_count": 2,
   "metadata": {},
   "outputs": [
    {
     "data": {
      "text/plain": [
       "\u001b[32mimport \u001b[39m\u001b[36mbreeze.linalg._\n",
       "\u001b[39m\n",
       "\u001b[32mimport \u001b[39m\u001b[36mbreeze.numerics._\n",
       "\n",
       "//create a dense vector \n",
       "\u001b[39m\n",
       "\u001b[36mv\u001b[39m: \u001b[32mDenseVector\u001b[39m[\u001b[32mDouble\u001b[39m] = DenseVector(1.0, 2.0, 3.0, 4.0, 5.0)\n",
       "\u001b[36mzeros\u001b[39m: \u001b[32mDenseVector\u001b[39m[\u001b[32mDouble\u001b[39m] = DenseVector(0.0, 0.0, 0.0, 0.0, 0.0)\n",
       "\u001b[36mones\u001b[39m: \u001b[32mDenseVector\u001b[39m[\u001b[32mDouble\u001b[39m] = DenseVector(1.0, 1.0, 1.0, 1.0, 1.0)\n",
       "\u001b[36mfives\u001b[39m: \u001b[32mDenseVector\u001b[39m[\u001b[32mDouble\u001b[39m] = DenseVector(5.0, 5.0, 5.0, 5.0, 5.0, 5.0, 5.0, 5.0, 5.0, 5.0)\n",
       "\u001b[36mrandom\u001b[39m: \u001b[32mDenseVector\u001b[39m[\u001b[32mDouble\u001b[39m] = DenseVector(0.6428207338310066, 0.8388710258126972, 0.9632267670378873, 0.8968028019416547, 0.3498332845910679)\n",
       "\u001b[36msparse\u001b[39m: \u001b[32mSparseVector\u001b[39m[\u001b[32mDouble\u001b[39m] = SparseVector(5)((0,0.0), (1,1.0), (2,0.0), (3,3.0), (4,0.0))"
      ]
     },
     "execution_count": 2,
     "metadata": {},
     "output_type": "execute_result"
    }
   ],
   "source": [
    "import breeze.linalg._\n",
    "import breeze.numerics._\n",
    "\n",
    "//create a dense vector \n",
    "val v = DenseVector(1.0, 2.0, 3.0, 4.0, 5.0)\n",
    "\n",
    "//create a vector of zeros\n",
    "val zeros = DenseVector.zeros[Double](5)\n",
    "\n",
    "//create a vector of ones\n",
    "val ones = DenseVector.ones[Double](5)\n",
    "\n",
    "//a vector with a particular number (5.0 repeated 10 times)\n",
    "val fives = DenseVector.fill(10){5.0}\n",
    "\n",
    "//create a vector of random numbers (uniform random numbers between 0 and 1)\n",
    "val random = DenseVector.rand(5)\n",
    "\n",
    "//create a sparse vector\n",
    "val sparse =  SparseVector(0, 1.0, 0, 3.0, 0)"
   ]
  },
  {
   "cell_type": "code",
   "execution_count": 3,
   "metadata": {},
   "outputs": [
    {
     "data": {
      "text/plain": [
       "\u001b[36mm1\u001b[39m: \u001b[32mDenseMatrix\u001b[39m[\u001b[32mDouble\u001b[39m] = 1.1       2.2     0.4       \n",
       "3.9       4.333   0.3242    \n",
       "-0.43443  9.4242  -21324.3  \n",
       "\u001b[36mm3\u001b[39m: \u001b[32mDenseMatrix\u001b[39m[\u001b[32mDouble\u001b[39m] = 1.1       2.2     0.4       0.8      \n",
       "3.9       4.333   0.3242    0.71253  \n",
       "-0.43443  9.4242  -21324.3  0.21738  \n",
       "\u001b[36mzeros\u001b[39m: \u001b[32mDenseMatrix\u001b[39m[\u001b[32mDouble\u001b[39m] = 0.0  0.0  0.0  \n",
       "0.0  0.0  0.0  \n",
       "0.0  0.0  0.0  \n",
       "\u001b[36midentity\u001b[39m: \u001b[32mDenseMatrix\u001b[39m[\u001b[32mDouble\u001b[39m] = 1.0  0.0  0.0  0.0  0.0  \n",
       "0.0  1.0  0.0  0.0  0.0  \n",
       "0.0  0.0  1.0  0.0  0.0  \n",
       "0.0  0.0  0.0  1.0  0.0  \n",
       "0.0  0.0  0.0  0.0  1.0  \n",
       "\u001b[36mrandom\u001b[39m: \u001b[32mDenseMatrix\u001b[39m[\u001b[32mDouble\u001b[39m] = 0.5238753136771059   0.7048310080602576   0.4870879669886783    ... (10 total)\n",
       "0.28113636454741187  0.35551016829913107  0.9344764871853835    ...\n",
       "0.13882858810964138  0.2935158699797966   0.7851479165145081    ...\n",
       "0.3647143041753227   0.937698544902047    0.6167125577200245    ...\n",
       "0.2959920693044449   0.9170784110849632   0.2861220411946468    ...\n",
       "0.4306324589761281   0.8172708399639681   0.5296436686732431    ...\n",
       "0.5462200307041547   0.27796239826337765  0.7694116381961107    ...\n",
       "0.8152824250636361   0.7095256269397714   0.7457570385608612    ...\n",
       "0.555217078749572    0.1332061802323492   0.7746620153210497    ...\n",
       "0.7202994425614246   0.29563361063044424  0.053016224532204115  ...\n",
       "\u001b[36mbuilder\u001b[39m: \u001b[32mCSCMatrix\u001b[39m.\u001b[32mBuilder\u001b[39m[\u001b[32mDouble\u001b[39m] = breeze.linalg.CSCMatrix$Builder$mcD$sp@59bba1ac\n",
       "\u001b[36msparseM\u001b[39m: \u001b[32mCSCMatrix\u001b[39m[\u001b[32mDouble\u001b[39m] = 10 x 9 CSCMatrix\n",
       "(1,2) 0.001\n",
       "(3,4) 1.11"
      ]
     },
     "execution_count": 3,
     "metadata": {},
     "output_type": "execute_result"
    }
   ],
   "source": [
    "//Building a dense matrix inline\n",
    "val m1 = DenseMatrix((1.1,2.2,0.4), (3.9,4.333,0.3242), (-0.43443,9.4242,-21324.3))\n",
    "\n",
    "//Building a dense matrix inline\n",
    "val m3 = DenseMatrix((1.1,2.2,0.4,0.8), (3.9,4.333,0.3242,0.71253),(-0.43443,9.4242,-21324.3,0.21738))\n",
    "\n",
    "//A dense matrix of zeros with 3 rows and 3 columns\n",
    "val zeros = DenseMatrix.zeros[Double](3,3)\n",
    "\n",
    "//An identity matrix with dimension 5\n",
    "val identity = DenseMatrix.eye[Double](5)\n",
    "\n",
    "//A matrix with random elements between 0 and 1 with 3 rows and 5 columns\n",
    "val random = DenseMatrix.rand(10,10)\n",
    "\n",
    "//Creating a sparse matrix with 10 rows and 10 columns and two nonzero elements\n",
    "val builder = new CSCMatrix.Builder[Double](rows=10, cols=9)\n",
    "builder.add(3,4, 1.11)\n",
    "builder.add(1,2, 0.001)\n",
    "val sparseM = builder.result()"
   ]
  },
  {
   "cell_type": "code",
   "execution_count": 4,
   "metadata": {},
   "outputs": [
    {
     "name": "stdout",
     "output_type": "stream",
     "text": [
      "Matrix m1:\n",
      "1.1       2.2     0.4       \n",
      "3.9       4.333   0.3242    \n",
      "-0.43443  9.4242  -21324.3  \n",
      "\n",
      "transpose of m1:\n",
      "1.1  3.9     -0.43443  \n",
      "2.2  4.333   9.4242    \n",
      "0.4  0.3242  -21324.3  \n",
      "\n"
     ]
    }
   ],
   "source": [
    "//Transpose \n",
    "println(\"Matrix m1:\")\n",
    "println(m1)\n",
    "println(\"\")\n",
    "println(\"transpose of m1:\")\n",
    "println(m1.t)\n",
    "println(\"\")"
   ]
  },
  {
   "cell_type": "code",
   "execution_count": 5,
   "metadata": {},
   "outputs": [
    {
     "name": "stdout",
     "output_type": "stream",
     "text": [
      "The determinant of the matrix \"random\":\n",
      "0.04003972871879666\n",
      "\n"
     ]
    }
   ],
   "source": [
    "//Determinant   \n",
    "println(\"The determinant of the matrix \\\"random\\\":\")\n",
    "println(det(random))\n",
    "println(\"\")"
   ]
  },
  {
   "cell_type": "code",
   "execution_count": 6,
   "metadata": {},
   "outputs": [
    {
     "name": "stdout",
     "output_type": "stream",
     "text": [
      "The inverse of the matrix \"random\":\n",
      "0.20411206305831686     2.0919056069826785   ... (10 total)\n",
      "-0.7367770058516366     0.18423297539232503  ...\n",
      "-0.7416743743398001     0.8064823143403921   ...\n",
      "0.8030399536312773      0.32523075126214396  ...\n",
      "0.739283787909637       -1.602858106434486   ...\n",
      "0.890610437127848       2.067161284357943    ...\n",
      "-0.12762237396730491    -0.9370406398292034  ...\n",
      "-0.44879224253134575    -3.7806254220900164  ...\n",
      "-0.0019768316767954097  1.7366501703372834   ...\n",
      "-0.019232806825789872   -1.4612022713289723  ...\n",
      "\n"
     ]
    },
    {
     "data": {
      "text/plain": [
       "\u001b[36mrandom_inv\u001b[39m: \u001b[32mDenseMatrix\u001b[39m[\u001b[32mDouble\u001b[39m] = 0.20411206305831686     2.0919056069826785   ... (10 total)\n",
       "-0.7367770058516366     0.18423297539232503  ...\n",
       "-0.7416743743398001     0.8064823143403921   ...\n",
       "0.8030399536312773      0.32523075126214396  ...\n",
       "0.739283787909637       -1.602858106434486   ...\n",
       "0.890610437127848       2.067161284357943    ...\n",
       "-0.12762237396730491    -0.9370406398292034  ...\n",
       "-0.44879224253134575    -3.7806254220900164  ...\n",
       "-0.0019768316767954097  1.7366501703372834   ...\n",
       "-0.019232806825789872   -1.4612022713289723  ..."
      ]
     },
     "execution_count": 6,
     "metadata": {},
     "output_type": "execute_result"
    }
   ],
   "source": [
    "//Inverse\n",
    "println(\"The inverse of the matrix \\\"random\\\":\")\n",
    "val random_inv = inv(random)\n",
    "println(random_inv)\n",
    "println(\"\")"
   ]
  },
  {
   "cell_type": "code",
   "execution_count": 7,
   "metadata": {},
   "outputs": [
    {
     "name": "stdout",
     "output_type": "stream",
     "text": [
      "The Moore-Penrose pseudoinverse of the matrix \"m3\":\n",
      "-0.7704683270459292    0.434567057425753      -7.849434937506091E-6  \n",
      "0.5726979245394992     -0.11335616179524319   9.02403545455943E-6    \n",
      "2.7628407063460164E-4  -6.186372556602482E-5  -4.689061293740586E-5  \n",
      "0.7343365151692114     -0.2857693271607081    9.422182007730135E-6   \n",
      "\n"
     ]
    },
    {
     "data": {
      "text/plain": [
       "\u001b[36mm3_mp_inv\u001b[39m: \u001b[32mDenseMatrix\u001b[39m[\u001b[32mDouble\u001b[39m] = -0.7704683270459292    0.434567057425753      -7.849434937506091E-6  \n",
       "0.5726979245394992     -0.11335616179524319   9.02403545455943E-6    \n",
       "2.7628407063460164E-4  -6.186372556602482E-5  -4.689061293740586E-5  \n",
       "0.7343365151692114     -0.2857693271607081    9.422182007730135E-6   "
      ]
     },
     "execution_count": 7,
     "metadata": {},
     "output_type": "execute_result"
    }
   ],
   "source": [
    "//Moore-Penrose Pseudoinverse (for non-square matrices)\n",
    "println(\"The Moore-Penrose pseudoinverse of the matrix \\\"m3\\\":\")\n",
    "val m3_mp_inv = pinv(m3)\n",
    "println(m3_mp_inv)\n",
    "println(\"\")"
   ]
  },
  {
   "cell_type": "code",
   "execution_count": 8,
   "metadata": {},
   "outputs": [
    {
     "name": "stdout",
     "output_type": "stream",
     "text": [
      "The rank of matrix \"m3\":\n",
      "3\n",
      "\n"
     ]
    }
   ],
   "source": [
    "//Rank\n",
    "println(\"The rank of matrix \\\"m3\\\":\")\n",
    "println(rank(m3))\n",
    "println(\"\")"
   ]
  },
  {
   "cell_type": "code",
   "execution_count": 9,
   "metadata": {},
   "outputs": [
    {
     "name": "stdout",
     "output_type": "stream",
     "text": [
      "The singular value decomposition of matrix \"random\":\n",
      "The left singular vectors:\n",
      "-0.4238382852139616   0.05475701935321267   ... (10 total)\n",
      "-0.3141440275773121   -0.49748594647965233  ...\n",
      "-0.28105675575917277  0.1985595081750308    ...\n",
      "-0.2913634626904655   0.16763724683594458   ...\n",
      "-0.3437526652015521   0.32058562531956064   ...\n",
      "-0.34771246482900775  0.23025517968421974   ...\n",
      "-0.31398156841642816  -0.44113126163551347  ...\n",
      "-0.31034726200399493  0.19261446082744627   ...\n",
      "-0.2932730649840326   -0.4668388694413118   ...\n",
      "-0.19444865276253476  0.2766821924287401    ...\n",
      "\n",
      "The right singular vectors:\n",
      "-0.2753429419652603   -0.3396484873146087   ... (10 total)\n",
      "0.018389792798477494  0.3929583834219152    ...\n",
      "-0.4403024031955723   -0.19122548501052825  ...\n",
      "0.21774589205662273   -0.3663068738317391   ...\n",
      "0.38992502446752114   -0.17789681058602339  ...\n",
      "-0.5589757137111283   0.15486269478816678   ...\n",
      "0.1330752515536499    0.20219574326410267   ...\n",
      "-0.04773003695320344  0.6106231886675565    ...\n",
      "0.2434804096010794    0.29578989918694004   ...\n",
      "-0.37256319997474374  0.05108337285291589   ...\n",
      "\n",
      "The singular values:\n",
      "DenseVector(5.210005917517043, 1.5091863475123668, 1.0168473525228494, 0.9453253159017733, 0.8428434349354609, 0.6797296237862543, 0.5568408709484269, 0.4768959331306007, 0.363091371025894, 0.09590013850087017)\n",
      "\n"
     ]
    },
    {
     "data": {
      "text/plain": [
       "\u001b[36mu\u001b[39m: \u001b[32mDenseMatrix\u001b[39m[\u001b[32mDouble\u001b[39m] = -0.4238382852139616   0.05475701935321267   ... (10 total)\n",
       "-0.3141440275773121   -0.49748594647965233  ...\n",
       "-0.28105675575917277  0.1985595081750308    ...\n",
       "-0.2913634626904655   0.16763724683594458   ...\n",
       "-0.3437526652015521   0.32058562531956064   ...\n",
       "-0.34771246482900775  0.23025517968421974   ...\n",
       "-0.31398156841642816  -0.44113126163551347  ...\n",
       "-0.31034726200399493  0.19261446082744627   ...\n",
       "-0.2932730649840326   -0.4668388694413118   ...\n",
       "-0.19444865276253476  0.2766821924287401    ...\n",
       "\u001b[36ms\u001b[39m: \u001b[32mDenseVector\u001b[39m[\u001b[32mDouble\u001b[39m] = DenseVector(5.210005917517043, 1.5091863475123668, 1.0168473525228494, 0.9453253159017733, 0.8428434349354609, 0.6797296237862543, 0.5568408709484269, 0.4768959331306007, 0.363091371025894, 0.09590013850087017)\n",
       "\u001b[36mv\u001b[39m: \u001b[32mDenseMatrix\u001b[39m[\u001b[32mDouble\u001b[39m] = -0.2753429419652603   -0.3396484873146087   ... (10 total)\n",
       "0.018389792798477494  0.3929583834219152    ...\n",
       "-0.4403024031955723   -0.19122548501052825  ...\n",
       "0.21774589205662273   -0.3663068738317391   ...\n",
       "0.38992502446752114   -0.17789681058602339  ...\n",
       "-0.5589757137111283   0.15486269478816678   ...\n",
       "0.1330752515536499    0.20219574326410267   ...\n",
       "-0.04773003695320344  0.6106231886675565    ...\n",
       "0.2434804096010794    0.29578989918694004   ...\n",
       "-0.37256319997474374  0.05108337285291589   ..."
      ]
     },
     "execution_count": 9,
     "metadata": {},
     "output_type": "execute_result"
    }
   ],
   "source": [
    "//Singular Value Decomposition\n",
    "val svd.SVD(u,s,v) = svd(random)\n",
    "println(\"The singular value decomposition of matrix \\\"random\\\":\")\n",
    "println(\"The left singular vectors:\")\n",
    "println(u)\n",
    "println(\"\")\n",
    "\n",
    "println(\"The right singular vectors:\")\n",
    "println(v)\n",
    "println(\"\")\n",
    "\n",
    "println(\"The singular values:\")\n",
    "println(s)\n",
    "println(\"\")"
   ]
  },
  {
   "cell_type": "code",
   "execution_count": 10,
   "metadata": {},
   "outputs": [
    {
     "name": "stdout",
     "output_type": "stream",
     "text": [
      "true\n"
     ]
    },
    {
     "data": {
      "text/plain": [
       "\u001b[36mm4\u001b[39m: \u001b[32mDenseMatrix\u001b[39m[\u001b[32mDouble\u001b[39m] = 9.616228000000001   15.722280000000003  -8528.56676          2.5345180000000003  \n",
       "21.047857794000002  30.41021464         -6910.3733014        6.2778670860000005  \n",
       "9300.192156         -200924.5887474     4.547257733715536E8  -4629.108852773999  \n",
       "\u001b[36mm5\u001b[39m: \u001b[32mDenseVector\u001b[39m[\u001b[32mDouble\u001b[39m] = DenseVector(3.7, 8.5572, -21315.31023)\n",
       "\u001b[36mres9_3\u001b[39m: \u001b[32mBoolean\u001b[39m = true"
      ]
     },
     "execution_count": 10,
     "metadata": {},
     "output_type": "execute_result"
    }
   ],
   "source": [
    "//matrix multiplication of two matrices with the same dimensions\n",
    "val m4 = m1 * m3\n",
    "\n",
    "//The result of multiplying a square matrix with the identity matrix (of the same dimensionality) is again the same matrix.\n",
    "println(m1 == m1 * DenseMatrix.eye[Double](3))\n",
    "\n",
    "//Mutiplying a matrix with a vector is a vector.\n",
    "val m5 = m1 * DenseVector.ones[Double](3)\n",
    "\n",
    "//elementwise matrix operation + \n",
    "m1 + zeros == m1"
   ]
  },
  {
   "cell_type": "code",
   "execution_count": 11,
   "metadata": {
    "scrolled": true
   },
   "outputs": [
    {
     "data": {
      "text/plain": [
       "\u001b[32mimport \u001b[39m\u001b[36m$ivy.$                                      \n",
       "\u001b[39m\n",
       "\u001b[32mimport \u001b[39m\u001b[36mplotly._, plotly.element._, plotly.layout._, plotly.Almond._\n",
       "\n",
       "\u001b[39m"
      ]
     },
     "execution_count": 11,
     "metadata": {},
     "output_type": "execute_result"
    }
   ],
   "source": [
    "import $ivy.`org.plotly-scala::plotly-almond:0.7.6`\n",
    "import plotly._, plotly.element._, plotly.layout._, plotly.Almond._\n",
    "\n",
    "repl.pprinter() = repl.pprinter().copy(defaultHeight = 3)"
   ]
  },
  {
   "cell_type": "code",
   "execution_count": 12,
   "metadata": {},
   "outputs": [
    {
     "data": {
      "text/html": [
       "\n",
       "      <script type=\"text/javascript\">\n",
       "        require.config({\n",
       "  paths: {\n",
       "    d3: 'https://cdnjs.cloudflare.com/ajax/libs/d3/3.5.17/d3.min',\n",
       "    plotly: 'https://cdn.plot.ly/plotly-1.52.2.min',\n",
       "    jquery: 'https://code.jquery.com/jquery-3.3.1.min'\n",
       "  },\n",
       "\n",
       "  shim: {\n",
       "    plotly: {\n",
       "      deps: ['d3', 'jquery'],\n",
       "      exports: 'plotly'\n",
       "    }\n",
       "  }\n",
       "});\n",
       "        \n",
       "\n",
       "        require(['plotly'], function(Plotly) {\n",
       "          window.Plotly = Plotly;\n",
       "        });\n",
       "      </script>\n",
       "    "
      ]
     },
     "metadata": {},
     "output_type": "display_data"
    },
    {
     "data": {
      "application/vnd.plotly.v1+json": {
       "config": {
        "editable": false,
        "responsive": false,
        "showEditInChartStudio": false
       },
       "data": [
        {
         "mode": "markers",
         "type": "scatter",
         "x": [
          1,
          2,
          3,
          4
         ],
         "y": [
          10,
          15,
          13,
          17
         ]
        },
        {
         "mode": "lines",
         "type": "scatter",
         "x": [
          2,
          3,
          4,
          5
         ],
         "y": [
          16,
          5,
          11,
          9
         ]
        },
        {
         "mode": "lines+markers",
         "type": "scatter",
         "x": [
          1,
          2,
          3,
          4
         ],
         "y": [
          12,
          9,
          15,
          12
         ]
        }
       ],
       "layout": {
        "autosize": true,
        "title": {
         "text": "Line and Scatter Plot"
        },
        "xaxis": {
         "autorange": true,
         "range": [
          0.7746611004268493,
          5
         ],
         "type": "linear"
        },
        "yaxis": {
         "autorange": true,
         "range": [
          4.317535545023697,
          17.966824644549764
         ],
         "type": "linear"
        }
       }
      },
      "image/png": "[encoded data removed]",
      "text/html": [
       "<div class=\"chart\" id=\"plot-2ceea249-11bd-4801-9658-8e00e280162b\"></div>\n",
       "<script>require(['plotly'], function(Plotly) {\n",
       "  (function () {\n",
       "  var data0 = {\"x\":[1.0,2.0,3.0,4.0],\"y\":[10.0,15.0,13.0,17.0],\"mode\":\"markers\",\"type\":\"scatter\"};\n",
       "  var data1 = {\"x\":[2.0,3.0,4.0,5.0],\"y\":[16.0,5.0,11.0,9.0],\"mode\":\"lines\",\"type\":\"scatter\"};\n",
       "  var data2 = {\"x\":[1.0,2.0,3.0,4.0],\"y\":[12.0,9.0,15.0,12.0],\"mode\":\"lines+markers\",\"type\":\"scatter\"};\n",
       "\n",
       "  var data = [data0, data1, data2];\n",
       "  var layout = {\"title\":\"Line and Scatter Plot\"};\n",
       " var config = {\"showEditInChartStudio\":false,\"responsive\":false,\"editable\":false};\n",
       "\n",
       "  Plotly.plot('plot-2ceea249-11bd-4801-9658-8e00e280162b', data, layout, config);\n",
       "})();\n",
       "});\n",
       "      </script>\n",
       "           "
      ]
     },
     "metadata": {},
     "output_type": "display_data"
    },
    {
     "data": {
      "text/plain": [
       "\u001b[36mtrace1\u001b[39m: \u001b[32mScatter\u001b[39m = \u001b[33mScatter\u001b[39m(\n",
       "  \u001b[33mSome\u001b[39m(\u001b[33mDoubles\u001b[39m(\u001b[33mList\u001b[39m(\u001b[32m1.0\u001b[39m, \u001b[32m2.0\u001b[39m, \u001b[32m3.0\u001b[39m, \u001b[32m4.0\u001b[39m))),\n",
       "...\n",
       "\u001b[36mtrace2\u001b[39m: \u001b[32mScatter\u001b[39m = \u001b[33mScatter\u001b[39m(\n",
       "  \u001b[33mSome\u001b[39m(\u001b[33mDoubles\u001b[39m(\u001b[33mList\u001b[39m(\u001b[32m2.0\u001b[39m, \u001b[32m3.0\u001b[39m, \u001b[32m4.0\u001b[39m, \u001b[32m5.0\u001b[39m))),\n",
       "...\n",
       "\u001b[36mtrace3\u001b[39m: \u001b[32mScatter\u001b[39m = \u001b[33mScatter\u001b[39m(\n",
       "  \u001b[33mSome\u001b[39m(\u001b[33mDoubles\u001b[39m(\u001b[33mList\u001b[39m(\u001b[32m1.0\u001b[39m, \u001b[32m2.0\u001b[39m, \u001b[32m3.0\u001b[39m, \u001b[32m4.0\u001b[39m))),\n",
       "...\n",
       "\u001b[36mdata\u001b[39m: \u001b[32mSeq\u001b[39m[\u001b[32mScatter\u001b[39m] = \u001b[33mList\u001b[39m(\n",
       "  \u001b[33mScatter\u001b[39m(\n",
       "...\n",
       "\u001b[36mlayout\u001b[39m: \u001b[32mLayout\u001b[39m = \u001b[33mLayout\u001b[39m(\n",
       "  \u001b[33mSome\u001b[39m(\u001b[32m\"Line and Scatter Plot\"\u001b[39m),\n",
       "...\n",
       "\u001b[36mres11_5\u001b[39m: \u001b[32mString\u001b[39m = \u001b[32m\"plot-2ceea249-11bd-4801-9658-8e00e280162b\"\u001b[39m"
      ]
     },
     "execution_count": 12,
     "metadata": {},
     "output_type": "execute_result"
    }
   ],
   "source": [
    "val trace1 = Scatter(\n",
    "  Seq(1, 2, 3, 4),\n",
    "  Seq(10, 15, 13, 17),\n",
    "  mode = ScatterMode(ScatterMode.Markers)\n",
    ")\n",
    "\n",
    "val trace2 = Scatter(\n",
    "  Seq(2, 3, 4, 5),\n",
    "  Seq(16, 5, 11, 9),\n",
    "  mode = ScatterMode(ScatterMode.Lines)\n",
    ")\n",
    "\n",
    "val trace3 = Scatter(\n",
    "  Seq(1, 2, 3, 4),\n",
    "  Seq(12, 9, 15, 12),\n",
    "  mode = ScatterMode(ScatterMode.Lines, ScatterMode.Markers)\n",
    ")\n",
    "\n",
    "val data = Seq(trace1, trace2, trace3)\n",
    "\n",
    "val layout = Layout(\n",
    "  title = \"Line and Scatter Plot\"\n",
    ")\n",
    "\n",
    "plot(data, layout)"
   ]
  },
  {
   "cell_type": "markdown",
   "metadata": {},
   "source": [
    "## Читаем файл в DenseMatrix"
   ]
  },
  {
   "cell_type": "code",
   "execution_count": 13,
   "metadata": {},
   "outputs": [
    {
     "data": {
      "text/plain": [
       "\u001b[36mdataFile\u001b[39m: \u001b[32mio\u001b[39m.\u001b[32mBufferedSource\u001b[39m = \u001b[32mempty iterator\u001b[39m\n",
       "\u001b[36mdataArray\u001b[39m: \u001b[32mArray\u001b[39m[\u001b[32mArray\u001b[39m[\u001b[32mDouble\u001b[39m]] = \u001b[33mArray\u001b[39m(\n",
       "  \u001b[33mArray\u001b[39m(\n",
       "...\n",
       "\u001b[36mdataMatrix\u001b[39m: \u001b[32mDenseMatrix\u001b[39m[\u001b[32mDouble\u001b[39m] = 634995.0  0.0  463.0  1.0  0.0   0.0   0.0   0.0   0.0    65.0  ... (28 total)\n",
       "634995.0  0.0  463.0  1.0  0.0   0.0   0.0   0.0   0.0    10.0  ...\n",
       "..."
      ]
     },
     "execution_count": 13,
     "metadata": {},
     "output_type": "execute_result"
    }
   ],
   "source": [
    "val dataFile = io.Source.fromFile(\"Dataset.csv\")\n",
    "\n",
    "val dataArray = dataFile.getLines.drop(1)\n",
    "                  .map(_.split(\",\").map(_.trim))\n",
    "                  .map { line => line.map { elem => \n",
    "                    elem match {\n",
    "                      case \"\" => 0.0\n",
    "                      case x => x.toDouble\n",
    "                    }\n",
    "                  }\n",
    "                }.toArray\n",
    "\n",
    "val dataMatrix = DenseMatrix(dataArray: _*)"
   ]
  },
  {
   "cell_type": "code",
   "execution_count": null,
   "metadata": {},
   "outputs": [],
   "source": []
  }
 ],
 "metadata": {
  "kernelspec": {
   "display_name": "Scala",
   "language": "scala",
   "name": "scala"
  },
  "language_info": {
   "codemirror_mode": "text/x-scala",
   "file_extension": ".scala",
   "mimetype": "text/x-scala",
   "name": "scala",
   "nbconvert_exporter": "script",
   "version": "2.12.10"
  }
 },
 "nbformat": 4,
 "nbformat_minor": 4
}

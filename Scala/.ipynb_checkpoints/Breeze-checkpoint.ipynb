{
 "cells": [
  {
   "cell_type": "code",
   "execution_count": 1,
   "metadata": {},
   "outputs": [
    {
     "data": {
      "text/plain": [
       "\u001b[32mimport \u001b[39m\u001b[36m$ivy.$                               \u001b[39m"
      ]
     },
     "execution_count": 1,
     "metadata": {},
     "output_type": "execute_result"
    }
   ],
   "source": [
    "import $ivy.`org.scalanlp::breeze:2.0.1-RC1`"
   ]
  },
  {
   "cell_type": "code",
   "execution_count": 2,
   "metadata": {},
   "outputs": [
    {
     "data": {
      "text/plain": [
       "\u001b[32mimport \u001b[39m\u001b[36mbreeze.linalg._\n",
       "\u001b[39m\n",
       "\u001b[32mimport \u001b[39m\u001b[36mbreeze.numerics._\n",
       "\n",
       "//create a dense vector \n",
       "\u001b[39m\n",
       "\u001b[36mv\u001b[39m: \u001b[32mDenseVector\u001b[39m[\u001b[32mDouble\u001b[39m] = DenseVector(1.0, 2.0, 3.0, 4.0, 5.0)\n",
       "\u001b[36mzeros\u001b[39m: \u001b[32mDenseVector\u001b[39m[\u001b[32mDouble\u001b[39m] = DenseVector(0.0, 0.0, 0.0, 0.0, 0.0)\n",
       "\u001b[36mones\u001b[39m: \u001b[32mDenseVector\u001b[39m[\u001b[32mDouble\u001b[39m] = DenseVector(1.0, 1.0, 1.0, 1.0, 1.0)\n",
       "\u001b[36mfives\u001b[39m: \u001b[32mDenseVector\u001b[39m[\u001b[32mDouble\u001b[39m] = DenseVector(5.0, 5.0, 5.0, 5.0, 5.0, 5.0, 5.0, 5.0, 5.0, 5.0)\n",
       "\u001b[36mrandom\u001b[39m: \u001b[32mDenseVector\u001b[39m[\u001b[32mDouble\u001b[39m] = DenseVector(0.09040793211909182, 0.5914165992067371, 0.2334257401081321, 0.39239608782480273, 0.47592467001953676)\n",
       "\u001b[36msparse\u001b[39m: \u001b[32mSparseVector\u001b[39m[\u001b[32mDouble\u001b[39m] = SparseVector(5)((0,0.0), (1,1.0), (2,0.0), (3,3.0), (4,0.0))"
      ]
     },
     "execution_count": 2,
     "metadata": {},
     "output_type": "execute_result"
    }
   ],
   "source": [
    "import breeze.linalg._\n",
    "import breeze.numerics._\n",
    "\n",
    "//create a dense vector \n",
    "val v = DenseVector(1.0, 2.0, 3.0, 4.0, 5.0)\n",
    "\n",
    "//create a vector of zeros\n",
    "val zeros = DenseVector.zeros[Double](5)\n",
    "\n",
    "//create a vector of ones\n",
    "val ones = DenseVector.ones[Double](5)\n",
    "\n",
    "//a vector with a particular number (5.0 repeated 10 times)\n",
    "val fives = DenseVector.fill(10){5.0}\n",
    "\n",
    "//create a vector of random numbers (uniform random numbers between 0 and 1)\n",
    "val random = DenseVector.rand(5)\n",
    "\n",
    "//create a sparse vector\n",
    "val sparse =  SparseVector(0, 1.0, 0, 3.0, 0)"
   ]
  },
  {
   "cell_type": "code",
   "execution_count": 3,
   "metadata": {},
   "outputs": [
    {
     "data": {
      "text/plain": [
       "\u001b[36mm1\u001b[39m: \u001b[32mDenseMatrix\u001b[39m[\u001b[32mDouble\u001b[39m] = 1.1       2.2     0.4       \n",
       "3.9       4.333   0.3242    \n",
       "-0.43443  9.4242  -21324.3  \n",
       "\u001b[36mm3\u001b[39m: \u001b[32mDenseMatrix\u001b[39m[\u001b[32mDouble\u001b[39m] = 1.1       2.2     0.4       0.8      \n",
       "3.9       4.333   0.3242    0.71253  \n",
       "-0.43443  9.4242  -21324.3  0.21738  \n",
       "\u001b[36mzeros\u001b[39m: \u001b[32mDenseMatrix\u001b[39m[\u001b[32mDouble\u001b[39m] = 0.0  0.0  0.0  \n",
       "0.0  0.0  0.0  \n",
       "0.0  0.0  0.0  \n",
       "\u001b[36midentity\u001b[39m: \u001b[32mDenseMatrix\u001b[39m[\u001b[32mDouble\u001b[39m] = 1.0  0.0  0.0  0.0  0.0  \n",
       "0.0  1.0  0.0  0.0  0.0  \n",
       "0.0  0.0  1.0  0.0  0.0  \n",
       "0.0  0.0  0.0  1.0  0.0  \n",
       "0.0  0.0  0.0  0.0  1.0  \n",
       "\u001b[36mrandom\u001b[39m: \u001b[32mDenseMatrix\u001b[39m[\u001b[32mDouble\u001b[39m] = 0.4688608803059513   0.570297827255579    0.2614206781184678   ... (10 total)\n",
       "0.5050471153712417   0.05829912649982383  0.16775591504808407  ...\n",
       "0.13693265336392657  0.28557160820999394  0.03363895299881592  ...\n",
       "0.8422983256155034   0.733147336123902    0.6775985269971376   ...\n",
       "0.7754824211293196   0.2116351943326089   0.08942074523503707  ...\n",
       "0.9777175336736996   0.5579309186583292   0.9488000685393729   ...\n",
       "0.1335517410318301   0.05950541818076682  0.7143349392574305   ...\n",
       "0.7264636615669566   0.12626060611448686  0.5130292144233017   ...\n",
       "0.9311541054369032   0.8423816993793687   0.9049639607813269   ...\n",
       "0.5764747818454046   0.03861963648939737  0.5100413373315158   ...\n",
       "\u001b[36mbuilder\u001b[39m: \u001b[32mCSCMatrix\u001b[39m.\u001b[32mBuilder\u001b[39m[\u001b[32mDouble\u001b[39m] = breeze.linalg.CSCMatrix$Builder$mcD$sp@6268a4d\n",
       "\u001b[36msparseM\u001b[39m: \u001b[32mCSCMatrix\u001b[39m[\u001b[32mDouble\u001b[39m] = 10 x 9 CSCMatrix\n",
       "(1,2) 0.001\n",
       "(3,4) 1.11"
      ]
     },
     "execution_count": 3,
     "metadata": {},
     "output_type": "execute_result"
    }
   ],
   "source": [
    "//Building a dense matrix inline\n",
    "val m1 = DenseMatrix((1.1,2.2,0.4), (3.9,4.333,0.3242), (-0.43443,9.4242,-21324.3))\n",
    "\n",
    "//Building a dense matrix inline\n",
    "val m3 = DenseMatrix((1.1,2.2,0.4,0.8), (3.9,4.333,0.3242,0.71253),(-0.43443,9.4242,-21324.3,0.21738))\n",
    "\n",
    "//A dense matrix of zeros with 3 rows and 3 columns\n",
    "val zeros = DenseMatrix.zeros[Double](3,3)\n",
    "\n",
    "//An identity matrix with dimension 5\n",
    "val identity = DenseMatrix.eye[Double](5)\n",
    "\n",
    "//A matrix with random elements between 0 and 1 with 3 rows and 5 columns\n",
    "val random = DenseMatrix.rand(10,10)\n",
    "\n",
    "//Creating a sparse matrix with 10 rows and 10 columns and two nonzero elements\n",
    "val builder = new CSCMatrix.Builder[Double](rows=10, cols=9)\n",
    "builder.add(3,4, 1.11)\n",
    "builder.add(1,2, 0.001)\n",
    "val sparseM = builder.result()"
   ]
  },
  {
   "cell_type": "code",
   "execution_count": 4,
   "metadata": {},
   "outputs": [
    {
     "name": "stdout",
     "output_type": "stream",
     "text": [
      "Matrix m1:\n",
      "1.1       2.2     0.4       \n",
      "3.9       4.333   0.3242    \n",
      "-0.43443  9.4242  -21324.3  \n",
      "\n",
      "transpose of m1:\n",
      "1.1  3.9     -0.43443  \n",
      "2.2  4.333   9.4242    \n",
      "0.4  0.3242  -21324.3  \n",
      "\n"
     ]
    }
   ],
   "source": [
    "//Transpose \n",
    "println(\"Matrix m1:\")\n",
    "println(m1)\n",
    "println(\"\")\n",
    "println(\"transpose of m1:\")\n",
    "println(m1.t)\n",
    "println(\"\")"
   ]
  },
  {
   "cell_type": "code",
   "execution_count": 5,
   "metadata": {},
   "outputs": [
    {
     "name": "stdout",
     "output_type": "stream",
     "text": [
      "The determinant of the matrix \"random\":\n",
      "0.0030079769706159933\n",
      "\n"
     ]
    }
   ],
   "source": [
    "//Determinant   \n",
    "println(\"The determinant of the matrix \\\"random\\\":\")\n",
    "println(det(random))\n",
    "println(\"\")"
   ]
  },
  {
   "cell_type": "code",
   "execution_count": 6,
   "metadata": {},
   "outputs": [
    {
     "name": "stdout",
     "output_type": "stream",
     "text": [
      "The inverse of the matrix \"random\":\n",
      "-1.0773989426751296  0.7786877165240342   -0.4650834372719119  ... (10 total)\n",
      "0.45887927096219533  -0.3850468830357125  0.5561452206099775   ...\n",
      "2.494881646053065    -1.4093803524920205  -1.7116599487650288  ...\n",
      "-2.5876478926683624  0.9645569633570001   1.6461711216704837   ...\n",
      "2.4146695311030806   -1.17405796966036    -1.2205639393000314  ...\n",
      "-0.8570704574299239  0.14871165984961943  -0.8716384017583749  ...\n",
      "4.11423903487012     -1.320693545153321   1.7112638566957619   ...\n",
      "-0.9992946935891421  -0.6709008129071834  3.319365429913848    ...\n",
      "-3.4170941513434396  2.0493923470857105   -0.9567588571143978  ...\n",
      "0.31424765983825415  0.5779273842379162   -1.220625621264503   ...\n",
      "\n"
     ]
    },
    {
     "data": {
      "text/plain": [
       "\u001b[36mrandom_inv\u001b[39m: \u001b[32mDenseMatrix\u001b[39m[\u001b[32mDouble\u001b[39m] = -1.0773989426751296  0.7786877165240342   -0.4650834372719119  ... (10 total)\n",
       "0.45887927096219533  -0.3850468830357125  0.5561452206099775   ...\n",
       "2.494881646053065    -1.4093803524920205  -1.7116599487650288  ...\n",
       "-2.5876478926683624  0.9645569633570001   1.6461711216704837   ...\n",
       "2.4146695311030806   -1.17405796966036    -1.2205639393000314  ...\n",
       "-0.8570704574299239  0.14871165984961943  -0.8716384017583749  ...\n",
       "4.11423903487012     -1.320693545153321   1.7112638566957619   ...\n",
       "-0.9992946935891421  -0.6709008129071834  3.319365429913848    ...\n",
       "-3.4170941513434396  2.0493923470857105   -0.9567588571143978  ...\n",
       "0.31424765983825415  0.5779273842379162   -1.220625621264503   ..."
      ]
     },
     "execution_count": 6,
     "metadata": {},
     "output_type": "execute_result"
    }
   ],
   "source": [
    "//Inverse\n",
    "println(\"The inverse of the matrix \\\"random\\\":\")\n",
    "val random_inv = inv(random)\n",
    "println(random_inv)\n",
    "println(\"\")"
   ]
  },
  {
   "cell_type": "code",
   "execution_count": 7,
   "metadata": {},
   "outputs": [
    {
     "name": "stdout",
     "output_type": "stream",
     "text": [
      "The Moore-Penrose pseudoinverse of the matrix \"m3\":\n",
      "-0.7704683270459292    0.434567057425753      -7.849434937506091E-6  \n",
      "0.5726979245394992     -0.11335616179524319   9.02403545455943E-6    \n",
      "2.7628407063460164E-4  -6.186372556602482E-5  -4.689061293740586E-5  \n",
      "0.7343365151692114     -0.2857693271607081    9.422182007730135E-6   \n",
      "\n"
     ]
    },
    {
     "data": {
      "text/plain": [
       "\u001b[36mm3_mp_inv\u001b[39m: \u001b[32mDenseMatrix\u001b[39m[\u001b[32mDouble\u001b[39m] = -0.7704683270459292    0.434567057425753      -7.849434937506091E-6  \n",
       "0.5726979245394992     -0.11335616179524319   9.02403545455943E-6    \n",
       "2.7628407063460164E-4  -6.186372556602482E-5  -4.689061293740586E-5  \n",
       "0.7343365151692114     -0.2857693271607081    9.422182007730135E-6   "
      ]
     },
     "execution_count": 7,
     "metadata": {},
     "output_type": "execute_result"
    }
   ],
   "source": [
    "//Moore-Penrose Pseudoinverse (for non-square matrices)\n",
    "println(\"The Moore-Penrose pseudoinverse of the matrix \\\"m3\\\":\")\n",
    "val m3_mp_inv = pinv(m3)\n",
    "println(m3_mp_inv)\n",
    "println(\"\")"
   ]
  },
  {
   "cell_type": "code",
   "execution_count": 8,
   "metadata": {},
   "outputs": [
    {
     "name": "stdout",
     "output_type": "stream",
     "text": [
      "The rank of matrix \"m3\":\n",
      "3\n",
      "\n"
     ]
    }
   ],
   "source": [
    "//Rank\n",
    "println(\"The rank of matrix \\\"m3\\\":\")\n",
    "println(rank(m3))\n",
    "println(\"\")"
   ]
  },
  {
   "cell_type": "code",
   "execution_count": 9,
   "metadata": {},
   "outputs": [
    {
     "name": "stdout",
     "output_type": "stream",
     "text": [
      "The singular value decomposition of matrix \"random\":\n",
      "The left singular vectors:\n",
      "-0.37234141727106196  -0.22298552845855152   ... (10 total)\n",
      "-0.24980606547453776  -0.2231396723248985    ...\n",
      "-0.21458621606630746  0.17914151763257039    ...\n",
      "-0.3029703739949844   -0.3605287902177099    ...\n",
      "-0.30451524437013616  0.44483430470823465    ...\n",
      "-0.3601913370535764   -0.024579281360250338  ...\n",
      "-0.2996655189179792   0.23707956862980012    ...\n",
      "-0.36665880040994775  0.272699282906197      ...\n",
      "-0.3862846198305441   -0.49554579592100223   ...\n",
      "-0.2553414713399953   0.40471532277093225    ...\n",
      "\n",
      "The right singular vectors:\n",
      "-0.3740527904948599   -0.22122464635818306  ... (10 total)\n",
      "-0.10781585854284075  -0.38842343801924323  ...\n",
      "-0.1822932978904849   -0.1380284250007144   ...\n",
      "0.6772736763165851    0.2555831113278698    ...\n",
      "0.2373550765234219    -0.4932514311130155   ...\n",
      "-0.08718272812657601  -0.05694841155726464  ...\n",
      "0.13602375598469627   0.4059465106266798    ...\n",
      "-0.5128469387254597   0.5098090918338524    ...\n",
      "-0.06169694940215716  0.1927360785574305    ...\n",
      "0.08526753620037471   0.08618088116706302   ...\n",
      "\n",
      "The singular values:\n",
      "DenseVector(5.311818776314958, 1.612109213467255, 1.3812676463507598, 0.942578769363672, 0.7261730424736018, 0.6640805730726161, 0.3050337726235482, 0.2865939605792462, 0.12315942070495321, 0.051963429750597666)\n",
      "\n"
     ]
    },
    {
     "data": {
      "text/plain": [
       "\u001b[36mu\u001b[39m: \u001b[32mDenseMatrix\u001b[39m[\u001b[32mDouble\u001b[39m] = -0.37234141727106196  -0.22298552845855152   ... (10 total)\n",
       "-0.24980606547453776  -0.2231396723248985    ...\n",
       "-0.21458621606630746  0.17914151763257039    ...\n",
       "-0.3029703739949844   -0.3605287902177099    ...\n",
       "-0.30451524437013616  0.44483430470823465    ...\n",
       "-0.3601913370535764   -0.024579281360250338  ...\n",
       "-0.2996655189179792   0.23707956862980012    ...\n",
       "-0.36665880040994775  0.272699282906197      ...\n",
       "-0.3862846198305441   -0.49554579592100223   ...\n",
       "-0.2553414713399953   0.40471532277093225    ...\n",
       "\u001b[36ms\u001b[39m: \u001b[32mDenseVector\u001b[39m[\u001b[32mDouble\u001b[39m] = DenseVector(5.311818776314958, 1.612109213467255, 1.3812676463507598, 0.942578769363672, 0.7261730424736018, 0.6640805730726161, 0.3050337726235482, 0.2865939605792462, 0.12315942070495321, 0.051963429750597666)\n",
       "\u001b[36mv\u001b[39m: \u001b[32mDenseMatrix\u001b[39m[\u001b[32mDouble\u001b[39m] = -0.3740527904948599   -0.22122464635818306  ... (10 total)\n",
       "-0.10781585854284075  -0.38842343801924323  ...\n",
       "-0.1822932978904849   -0.1380284250007144   ...\n",
       "0.6772736763165851    0.2555831113278698    ...\n",
       "0.2373550765234219    -0.4932514311130155   ...\n",
       "-0.08718272812657601  -0.05694841155726464  ...\n",
       "0.13602375598469627   0.4059465106266798    ...\n",
       "-0.5128469387254597   0.5098090918338524    ...\n",
       "-0.06169694940215716  0.1927360785574305    ...\n",
       "0.08526753620037471   0.08618088116706302   ..."
      ]
     },
     "execution_count": 9,
     "metadata": {},
     "output_type": "execute_result"
    }
   ],
   "source": [
    "//Singular Value Decomposition\n",
    "val svd.SVD(u,s,v) = svd(random)\n",
    "println(\"The singular value decomposition of matrix \\\"random\\\":\")\n",
    "println(\"The left singular vectors:\")\n",
    "println(u)\n",
    "println(\"\")\n",
    "\n",
    "println(\"The right singular vectors:\")\n",
    "println(v)\n",
    "println(\"\")\n",
    "\n",
    "println(\"The singular values:\")\n",
    "println(s)\n",
    "println(\"\")"
   ]
  },
  {
   "cell_type": "code",
   "execution_count": 10,
   "metadata": {},
   "outputs": [
    {
     "name": "stdout",
     "output_type": "stream",
     "text": [
      "true\n"
     ]
    },
    {
     "data": {
      "text/plain": [
       "\u001b[36mm4\u001b[39m: \u001b[32mDenseMatrix\u001b[39m[\u001b[32mDouble\u001b[39m] = 9.616228000000001   15.722280000000003  -8528.56676          2.5345180000000003  \n",
       "21.047857794000002  30.41021464         -6910.3733014        6.2778670860000005  \n",
       "9300.192156         -200924.5887474     4.547257733715536E8  -4629.108852773999  \n",
       "\u001b[36mm5\u001b[39m: \u001b[32mDenseVector\u001b[39m[\u001b[32mDouble\u001b[39m] = DenseVector(3.7, 8.5572, -21315.31023)\n",
       "\u001b[36mres9_3\u001b[39m: \u001b[32mBoolean\u001b[39m = true"
      ]
     },
     "execution_count": 10,
     "metadata": {},
     "output_type": "execute_result"
    }
   ],
   "source": [
    "//matrix multiplication of two matrices with the same dimensions\n",
    "val m4 = m1 * m3\n",
    "\n",
    "//The result of multiplying a square matrix with the identity matrix (of the same dimensionality) is again the same matrix.\n",
    "println(m1 == m1 * DenseMatrix.eye[Double](3))\n",
    "\n",
    "//Mutiplying a matrix with a vector is a vector.\n",
    "val m5 = m1 * DenseVector.ones[Double](3)\n",
    "\n",
    "//elementwise matrix operation + \n",
    "m1 + zeros == m1"
   ]
  },
  {
   "cell_type": "code",
   "execution_count": 11,
   "metadata": {
    "scrolled": true
   },
   "outputs": [
    {
     "data": {
      "text/plain": [
       "\u001b[32mimport \u001b[39m\u001b[36m$ivy.$                                      \n",
       "\u001b[39m\n",
       "\u001b[32mimport \u001b[39m\u001b[36mplotly._, plotly.element._, plotly.layout._, plotly.Almond._\n",
       "\n",
       "\u001b[39m"
      ]
     },
     "execution_count": 11,
     "metadata": {},
     "output_type": "execute_result"
    }
   ],
   "source": [
    "import $ivy.`org.plotly-scala::plotly-almond:0.7.6`\n",
    "import plotly._, plotly.element._, plotly.layout._, plotly.Almond._\n",
    "\n",
    "repl.pprinter() = repl.pprinter().copy(defaultHeight = 3)"
   ]
  },
  {
   "cell_type": "code",
   "execution_count": 12,
   "metadata": {},
   "outputs": [
    {
     "data": {
      "text/html": [
       "\n",
       "      <script type=\"text/javascript\">\n",
       "        require.config({\n",
       "  paths: {\n",
       "    d3: 'https://cdnjs.cloudflare.com/ajax/libs/d3/3.5.17/d3.min',\n",
       "    plotly: 'https://cdn.plot.ly/plotly-1.52.2.min',\n",
       "    jquery: 'https://code.jquery.com/jquery-3.3.1.min'\n",
       "  },\n",
       "\n",
       "  shim: {\n",
       "    plotly: {\n",
       "      deps: ['d3', 'jquery'],\n",
       "      exports: 'plotly'\n",
       "    }\n",
       "  }\n",
       "});\n",
       "        \n",
       "\n",
       "        require(['plotly'], function(Plotly) {\n",
       "          window.Plotly = Plotly;\n",
       "        });\n",
       "      </script>\n",
       "    "
      ]
     },
     "metadata": {},
     "output_type": "display_data"
    },
    {
     "data": {
      "application/vnd.plotly.v1+json": {
       "config": {
        "editable": false,
        "responsive": false,
        "showEditInChartStudio": false
       },
       "data": [
        {
         "mode": "markers",
         "type": "scatter",
         "x": [
          1,
          2,
          3,
          4
         ],
         "y": [
          10,
          15,
          13,
          17
         ]
        },
        {
         "mode": "lines",
         "type": "scatter",
         "x": [
          2,
          3,
          4,
          5
         ],
         "y": [
          16,
          5,
          11,
          9
         ]
        },
        {
         "mode": "lines+markers",
         "type": "scatter",
         "x": [
          1,
          2,
          3,
          4
         ],
         "y": [
          12,
          9,
          15,
          12
         ]
        }
       ],
       "layout": {
        "autosize": true,
        "title": {
         "text": "Line and Scatter Plot"
        },
        "xaxis": {
         "autorange": true,
         "range": [
          0.7620946766082886,
          5
         ],
         "type": "linear"
        },
        "yaxis": {
         "autorange": true,
         "range": [
          4.317535545023697,
          17.966824644549764
         ],
         "type": "linear"
        }
       }
      },
      "image/png": "[encoded data removed]",
      "text/html": [
       "<div class=\"chart\" id=\"plot-7b2e5cf9-8b34-4834-9010-b1d7d28634bc\"></div>\n",
       "<script>require(['plotly'], function(Plotly) {\n",
       "  (function () {\n",
       "  var data0 = {\"x\":[1.0,2.0,3.0,4.0],\"y\":[10.0,15.0,13.0,17.0],\"mode\":\"markers\",\"type\":\"scatter\"};\n",
       "  var data1 = {\"x\":[2.0,3.0,4.0,5.0],\"y\":[16.0,5.0,11.0,9.0],\"mode\":\"lines\",\"type\":\"scatter\"};\n",
       "  var data2 = {\"x\":[1.0,2.0,3.0,4.0],\"y\":[12.0,9.0,15.0,12.0],\"mode\":\"lines+markers\",\"type\":\"scatter\"};\n",
       "\n",
       "  var data = [data0, data1, data2];\n",
       "  var layout = {\"title\":\"Line and Scatter Plot\"};\n",
       " var config = {\"showEditInChartStudio\":false,\"responsive\":false,\"editable\":false};\n",
       "\n",
       "  Plotly.plot('plot-7b2e5cf9-8b34-4834-9010-b1d7d28634bc', data, layout, config);\n",
       "})();\n",
       "});\n",
       "      </script>\n",
       "           "
      ]
     },
     "metadata": {},
     "output_type": "display_data"
    },
    {
     "data": {
      "text/plain": [
       "\u001b[36mtrace1\u001b[39m: \u001b[32mScatter\u001b[39m = \u001b[33mScatter\u001b[39m(\n",
       "  \u001b[33mSome\u001b[39m(\u001b[33mDoubles\u001b[39m(\u001b[33mList\u001b[39m(\u001b[32m1.0\u001b[39m, \u001b[32m2.0\u001b[39m, \u001b[32m3.0\u001b[39m, \u001b[32m4.0\u001b[39m))),\n",
       "...\n",
       "\u001b[36mtrace2\u001b[39m: \u001b[32mScatter\u001b[39m = \u001b[33mScatter\u001b[39m(\n",
       "  \u001b[33mSome\u001b[39m(\u001b[33mDoubles\u001b[39m(\u001b[33mList\u001b[39m(\u001b[32m2.0\u001b[39m, \u001b[32m3.0\u001b[39m, \u001b[32m4.0\u001b[39m, \u001b[32m5.0\u001b[39m))),\n",
       "...\n",
       "\u001b[36mtrace3\u001b[39m: \u001b[32mScatter\u001b[39m = \u001b[33mScatter\u001b[39m(\n",
       "  \u001b[33mSome\u001b[39m(\u001b[33mDoubles\u001b[39m(\u001b[33mList\u001b[39m(\u001b[32m1.0\u001b[39m, \u001b[32m2.0\u001b[39m, \u001b[32m3.0\u001b[39m, \u001b[32m4.0\u001b[39m))),\n",
       "...\n",
       "\u001b[36mdata\u001b[39m: \u001b[32mSeq\u001b[39m[\u001b[32mScatter\u001b[39m] = \u001b[33mList\u001b[39m(\n",
       "  \u001b[33mScatter\u001b[39m(\n",
       "...\n",
       "\u001b[36mlayout\u001b[39m: \u001b[32mLayout\u001b[39m = \u001b[33mLayout\u001b[39m(\n",
       "  \u001b[33mSome\u001b[39m(\u001b[32m\"Line and Scatter Plot\"\u001b[39m),\n",
       "...\n",
       "\u001b[36mres11_5\u001b[39m: \u001b[32mString\u001b[39m = \u001b[32m\"plot-7b2e5cf9-8b34-4834-9010-b1d7d28634bc\"\u001b[39m"
      ]
     },
     "execution_count": 12,
     "metadata": {},
     "output_type": "execute_result"
    }
   ],
   "source": [
    "val trace1 = Scatter(\n",
    "  Seq(1, 2, 3, 4),\n",
    "  Seq(10, 15, 13, 17),\n",
    "  mode = ScatterMode(ScatterMode.Markers)\n",
    ")\n",
    "\n",
    "val trace2 = Scatter(\n",
    "  Seq(2, 3, 4, 5),\n",
    "  Seq(16, 5, 11, 9),\n",
    "  mode = ScatterMode(ScatterMode.Lines)\n",
    ")\n",
    "\n",
    "val trace3 = Scatter(\n",
    "  Seq(1, 2, 3, 4),\n",
    "  Seq(12, 9, 15, 12),\n",
    "  mode = ScatterMode(ScatterMode.Lines, ScatterMode.Markers)\n",
    ")\n",
    "\n",
    "val data = Seq(trace1, trace2, trace3)\n",
    "\n",
    "val layout = Layout(\n",
    "  title = \"Line and Scatter Plot\"\n",
    ")\n",
    "\n",
    "plot(data, layout)"
   ]
  },
  {
   "cell_type": "markdown",
   "metadata": {},
   "source": [
    "## Читаем файл в DenseMatrix"
   ]
  },
  {
   "cell_type": "code",
   "execution_count": 14,
   "metadata": {},
   "outputs": [
    {
     "data": {
      "text/plain": [
       "\u001b[36mdataFile\u001b[39m: \u001b[32mio\u001b[39m.\u001b[32mBufferedSource\u001b[39m = \u001b[32mempty iterator\u001b[39m\n",
       "\u001b[36mdataArray\u001b[39m: \u001b[32mArray\u001b[39m[\u001b[32mArray\u001b[39m[\u001b[32mDouble\u001b[39m]] = \u001b[33mArray\u001b[39m(\n",
       "  \u001b[33mArray\u001b[39m(\n",
       "...\n",
       "\u001b[36mdataMatrix\u001b[39m: \u001b[32mDenseMatrix\u001b[39m[\u001b[32mDouble\u001b[39m] = 634995.0  0.0  463.0  1.0  0.0   0.0   0.0   0.0   0.0    65.0  ... (28 total)\n",
       "634995.0  0.0  463.0  1.0  0.0   0.0   0.0   0.0   0.0    10.0  ...\n",
       "..."
      ]
     },
     "execution_count": 14,
     "metadata": {},
     "output_type": "execute_result"
    }
   ],
   "source": [
    "val dataFile = io.Source.fromFile(\"Dataset.csv\")\n",
    "\n",
    "val dataArray = dataFile.getLines.drop(1)\n",
    "                  .map(_.split(\",\").map(_.trim))\n",
    "                  .map { line => line.map { elem => \n",
    "                    elem match {\n",
    "                      case \"\" => 0.0\n",
    "                      case x => x.toDouble\n",
    "                    }\n",
    "                  }\n",
    "                }.toArray\n",
    "\n",
    "val dataMatrix = DenseMatrix(dataArray: _*)"
   ]
  },
  {
   "cell_type": "code",
   "execution_count": null,
   "metadata": {},
   "outputs": [],
   "source": []
  }
 ],
 "metadata": {
  "kernelspec": {
   "display_name": "Scala",
   "language": "scala",
   "name": "scala"
  },
  "language_info": {
   "codemirror_mode": "text/x-scala",
   "file_extension": ".scala",
   "mimetype": "text/x-scala",
   "name": "scala",
   "nbconvert_exporter": "script",
   "version": "2.12.10"
  }
 },
 "nbformat": 4,
 "nbformat_minor": 4
}

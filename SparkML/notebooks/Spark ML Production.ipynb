{
 "cells": [
  {
   "cell_type": "code",
   "execution_count": 1,
   "id": "616caf56-4a97-4d23-8e09-c1eab9f07e2a",
   "metadata": {},
   "outputs": [
    {
     "data": {
      "text/plain": [
       "\u001b[32mimport \u001b[39m\u001b[36m$ivy.$                                  \n",
       "\u001b[39m\n",
       "\u001b[32mimport \u001b[39m\u001b[36m$ivy.$                                    \u001b[39m"
      ]
     },
     "execution_count": 1,
     "metadata": {},
     "output_type": "execute_result"
    }
   ],
   "source": [
    "import $ivy.`org.apache.spark::spark-sql:3.1.2`\n",
    "import $ivy.`org.apache.spark::spark-mllib:3.1.2`"
   ]
  },
  {
   "cell_type": "code",
   "execution_count": 2,
   "id": "19728211-cc89-48ca-8f87-26a79b057392",
   "metadata": {},
   "outputs": [
    {
     "data": {
      "text/plain": [
       "\u001b[32mimport \u001b[39m\u001b[36morg.apache.log4j.{Level, Logger}\n",
       "\u001b[39m"
      ]
     },
     "execution_count": 2,
     "metadata": {},
     "output_type": "execute_result"
    }
   ],
   "source": [
    "import org.apache.log4j.{Level, Logger}\n",
    "Logger.getLogger(\"org\").setLevel(Level.WARN)"
   ]
  },
  {
   "cell_type": "markdown",
   "id": "0265f45b-bb74-43a8-88bb-dc1b0eefe9e7",
   "metadata": {},
   "source": [
    "# Spark ML Production"
   ]
  },
  {
   "cell_type": "code",
   "execution_count": 3,
   "id": "a91c427f-0fe8-4594-8a38-e47f8ea5c907",
   "metadata": {},
   "outputs": [
    {
     "name": "stderr",
     "output_type": "stream",
     "text": [
      "Using Spark's default log4j profile: org/apache/spark/log4j-defaults.properties\n",
      "22/02/10 15:24:07 WARN Utils: Service 'SparkUI' could not bind on port 4040. Attempting port 4041.\n",
      "22/02/10 15:24:07 WARN Utils: Service 'SparkUI' could not bind on port 4041. Attempting port 4042.\n",
      "22/02/10 15:24:07 WARN Utils: Service 'SparkUI' could not bind on port 4042. Attempting port 4043.\n"
     ]
    },
    {
     "data": {
      "text/plain": [
       "\u001b[32mimport \u001b[39m\u001b[36morg.apache.spark.sql._\n",
       "\u001b[39m\n",
       "\u001b[32mimport \u001b[39m\u001b[36morg.apache.spark.sql.functions._\n",
       "\n",
       "\u001b[39m\n",
       "\u001b[36mspark\u001b[39m: \u001b[32mSparkSession\u001b[39m = org.apache.spark.sql.SparkSession@55ebb0d9\n",
       "\u001b[32mimport \u001b[39m\u001b[36mspark.implicits._\u001b[39m"
      ]
     },
     "execution_count": 3,
     "metadata": {},
     "output_type": "execute_result"
    }
   ],
   "source": [
    "import org.apache.spark.sql._\n",
    "import org.apache.spark.sql.functions._\n",
    "\n",
    "val spark = SparkSession\n",
    "                .builder()\n",
    "                .master(\"local[*]\")\n",
    "                .appName(\"Spark ML Research\")\n",
    "                .getOrCreate()\n",
    "\n",
    "import spark.implicits._"
   ]
  },
  {
   "cell_type": "markdown",
   "id": "bfad6bd9-d7ba-4ac7-b6a7-cbca56edb3fc",
   "metadata": {},
   "source": [
    "## Загружаем данные"
   ]
  },
  {
   "cell_type": "code",
   "execution_count": 4,
   "id": "e649f3fb-14a9-4675-ad07-594a0650cb17",
   "metadata": {},
   "outputs": [
    {
     "data": {
      "text/plain": [
       "\u001b[36mbasePath\u001b[39m: \u001b[32mString\u001b[39m = \u001b[32m\"/home/vadim/Projects/otus/SparkML\"\u001b[39m"
      ]
     },
     "execution_count": 4,
     "metadata": {},
     "output_type": "execute_result"
    }
   ],
   "source": [
    "val basePath = \"/home/vadim/Projects/otus/SparkML\""
   ]
  },
  {
   "cell_type": "code",
   "execution_count": 5,
   "id": "f4718b09-7c03-46f4-86d6-623a4b50c232",
   "metadata": {},
   "outputs": [
    {
     "data": {
      "text/plain": [
       "\u001b[36mdata\u001b[39m: \u001b[32mDataFrame\u001b[39m = [CLIENTNUM: int, Attrition_Flag: string ... 21 more fields]"
      ]
     },
     "execution_count": 5,
     "metadata": {},
     "output_type": "execute_result"
    }
   ],
   "source": [
    "val data = spark\n",
    "        .read\n",
    "        .option(\"header\", \"true\")\n",
    "        .option(\"inferSchema\", \"true\")\n",
    "        .csv(s\"$basePath/data/BankChurners.csv\")"
   ]
  },
  {
   "cell_type": "markdown",
   "id": "015a2815-7bbe-42b6-82c0-62e2770bb06c",
   "metadata": {},
   "source": [
    "## Загружаем модель"
   ]
  },
  {
   "cell_type": "code",
   "execution_count": 6,
   "id": "8b34c59c-39dc-495a-a188-7e009b8ba46d",
   "metadata": {},
   "outputs": [
    {
     "data": {
      "text/plain": [
       "\u001b[32mimport \u001b[39m\u001b[36morg.apache.spark.ml.PipelineModel\n",
       "\n",
       "\u001b[39m\n",
       "\u001b[36mmodel\u001b[39m: \u001b[32mPipelineModel\u001b[39m = pipeline_3df325fecde6"
      ]
     },
     "execution_count": 6,
     "metadata": {},
     "output_type": "execute_result"
    }
   ],
   "source": [
    "import org.apache.spark.ml.PipelineModel\n",
    "\n",
    "val model = PipelineModel.load(s\"$basePath/pipelineModel\")"
   ]
  },
  {
   "cell_type": "markdown",
   "id": "6f0be055-3fee-4edb-b940-b1b174925a7a",
   "metadata": {},
   "source": [
    "## Вычисляем"
   ]
  },
  {
   "cell_type": "code",
   "execution_count": 7,
   "id": "d588c941-1dc1-43f8-b345-863772dcebbe",
   "metadata": {},
   "outputs": [
    {
     "data": {
      "text/plain": [
       "\u001b[36mprediction\u001b[39m: \u001b[32mDataFrame\u001b[39m = [CLIENTNUM: int, Attrition_Flag: string ... 37 more fields]"
      ]
     },
     "execution_count": 7,
     "metadata": {},
     "output_type": "execute_result"
    }
   ],
   "source": [
    "val prediction = model.transform(data)"
   ]
  },
  {
   "cell_type": "code",
   "execution_count": 8,
   "id": "74f65096-5cf1-4445-b853-63ffe56630db",
   "metadata": {},
   "outputs": [
    {
     "name": "stderr",
     "output_type": "stream",
     "text": [
      "22/02/10 15:24:17 WARN package: Truncated the string representation of a plan since it was too large. This behavior can be adjusted by setting 'spark.sql.debug.maxToStringFields'.\n"
     ]
    },
    {
     "name": "stdout",
     "output_type": "stream",
     "text": [
      "+---------+-----------------+------------+------+---------------+---------------+--------------+---------------+-------------+--------------+------------------------+----------------------+---------------------+------------+-------------------+---------------+--------------------+---------------+--------------+-------------------+---------------------+----------------------------------------------------------------------------------------------------------------------------------+----------------------------------------------------------------------------------------------------------------------------------+----------------------+-----------------------+--------------+-----------------------+---------------------+-----------------------------+----------------------------+--------------------+-----------------------------+---------------------------+--------------------+--------------------+--------------------+--------------------+--------------------+----------+\n",
      "|CLIENTNUM|   Attrition_Flag|Customer_Age|Gender|Dependent_count|Education_Level|Marital_Status|Income_Category|Card_Category|Months_on_book|Total_Relationship_Count|Months_Inactive_12_mon|Contacts_Count_12_mon|Credit_Limit|Total_Revolving_Bal|Avg_Open_To_Buy|Total_Amt_Chng_Q4_Q1|Total_Trans_Amt|Total_Trans_Ct|Total_Ct_Chng_Q4_Q1|Avg_Utilization_Ratio|Naive_Bayes_Classifier_Attrition_Flag_Card_Category_Contacts_Count_12_mon_Dependent_count_Education_Level_Months_Inactive_12_mon_1|Naive_Bayes_Classifier_Attrition_Flag_Card_Category_Contacts_Count_12_mon_Dependent_count_Education_Level_Months_Inactive_12_mon_2|Marital_Status_Indexed|Income_Category_Indexed|Gender_Indexed|Education_Level_Indexed|Card_Category_Indexed|Income_Category_Indexed_Coded|Marital_Status_Indexed_Coded|Gender_Indexed_Coded|Education_Level_Indexed_Coded|Card_Category_Indexed_Coded|            features|      scaledFeatures|    selectedFeatures|       rawPrediction|         probability|prediction|\n",
      "+---------+-----------------+------------+------+---------------+---------------+--------------+---------------+-------------+--------------+------------------------+----------------------+---------------------+------------+-------------------+---------------+--------------------+---------------+--------------+-------------------+---------------------+----------------------------------------------------------------------------------------------------------------------------------+----------------------------------------------------------------------------------------------------------------------------------+----------------------+-----------------------+--------------+-----------------------+---------------------+-----------------------------+----------------------------+--------------------+-----------------------------+---------------------------+--------------------+--------------------+--------------------+--------------------+--------------------+----------+\n",
      "|768805383|Existing Customer|          45|     M|              3|    High School|       Married|    $60K - $80K|         Blue|            39|                       5|                     1|                    3|     12691.0|                777|        11914.0|               1.335|           1144|            42|              1.625|                0.061|                                                                                                                         9.3448E-5|                                                                                                                           0.99991|                   0.0|                    3.0|           1.0|                    1.0|                  0.0|                (5,[3],[1.0])|               (3,[0],[1.0])|           (1,[],[])|                (6,[1],[1.0])|              (3,[0],[1.0])|(28,[0,1,2,3,4,5,...|(28,[0,1,2,3,4,5,...|(21,[0,1,2,3,4,5,...|[4.49679997846179...|[0.98897823073143...|       0.0|\n",
      "|818770008|Existing Customer|          49|     F|              5|       Graduate|        Single| Less than $40K|         Blue|            44|                       6|                     1|                    2|      8256.0|                864|         7392.0|               1.541|           1291|            33|              3.714|                0.105|                                                                                                                         5.6861E-5|                                                                                                                           0.99994|                   1.0|                    0.0|           0.0|                    0.0|                  0.0|                (5,[0],[1.0])|               (3,[1],[1.0])|       (1,[0],[1.0])|                (6,[0],[1.0])|              (3,[0],[1.0])|(28,[0,1,2,3,4,5,...|(28,[0,1,2,3,4,5,...|(21,[0,1,2,3,4,5,...|[12.0157835033534...|[0.99999395204011...|       0.0|\n",
      "|713982108|Existing Customer|          51|     M|              3|       Graduate|       Married|   $80K - $120K|         Blue|            36|                       4|                     1|                    0|      3418.0|                  0|         3418.0|               2.594|           1887|            20|              2.333|                  0.0|                                                                                                                         2.1081E-5|                                                                                                                           0.99998|                   0.0|                    2.0|           1.0|                    0.0|                  0.0|                (5,[2],[1.0])|               (3,[0],[1.0])|           (1,[],[])|                (6,[0],[1.0])|              (3,[0],[1.0])|(28,[0,1,2,3,5,6,...|(28,[0,1,2,3,5,6,...|(21,[0,1,2,3,5,6,...|[8.07763219683314...|[0.99968969117720...|       0.0|\n",
      "|769911858|Existing Customer|          40|     F|              4|    High School|       Unknown| Less than $40K|         Blue|            34|                       3|                     4|                    1|      3313.0|               2517|          796.0|               1.405|           1171|            20|              2.333|                 0.76|                                                                                                                         1.3366E-4|                                                                                                                           0.99987|                   2.0|                    0.0|           0.0|                    1.0|                  0.0|                (5,[0],[1.0])|               (3,[2],[1.0])|       (1,[0],[1.0])|                (6,[1],[1.0])|              (3,[0],[1.0])|(28,[0,1,2,3,4,5,...|(28,[0,1,2,3,4,5,...|(21,[0,1,2,3,4,5,...|[6.51173499324439...|[0.99851630516154...|       0.0|\n",
      "|709106358|Existing Customer|          40|     M|              3|     Uneducated|       Married|    $60K - $80K|         Blue|            21|                       5|                     1|                    0|      4716.0|                  0|         4716.0|               2.175|            816|            28|                2.5|                  0.0|                                                                                                                         2.1676E-5|                                                                                                                           0.99998|                   0.0|                    3.0|           1.0|                    3.0|                  0.0|                (5,[3],[1.0])|               (3,[0],[1.0])|           (1,[],[])|                (6,[3],[1.0])|              (3,[0],[1.0])|(28,[0,1,2,3,5,6,...|(28,[0,1,2,3,5,6,...|(21,[0,1,2,3,5,6,...|[8.86251403513889...|[0.99985842141496...|       0.0|\n",
      "|713061558|Existing Customer|          44|     M|              2|       Graduate|       Married|    $40K - $60K|         Blue|            36|                       3|                     1|                    2|      4010.0|               1247|         2763.0|               1.376|           1088|            24|              0.846|                0.311|                                                                                                                         5.5077E-5|                                                                                                                           0.99994|                   0.0|                    1.0|           1.0|                    0.0|                  0.0|                (5,[1],[1.0])|               (3,[0],[1.0])|           (1,[],[])|                (6,[0],[1.0])|              (3,[0],[1.0])|(28,[0,1,2,3,4,5,...|(28,[0,1,2,3,4,5,...|(21,[0,1,2,3,4,5,...|[1.80027254084274...|[0.85818210807827...|       0.0|\n",
      "|810347208|Existing Customer|          51|     M|              4|        Unknown|       Married|        $120K +|         Gold|            46|                       6|                     1|                    3|     34516.0|               2264|        32252.0|               1.975|           1330|            31|              0.722|                0.066|                                                                                                                         1.2303E-4|                                                                                                                           0.99988|                   0.0|                    5.0|           1.0|                    2.0|                  2.0|                    (5,[],[])|               (3,[0],[1.0])|           (1,[],[])|                (6,[2],[1.0])|              (3,[2],[1.0])|(28,[0,1,2,3,4,5,...|(28,[0,1,2,3,4,5,...|(21,[0,1,2,3,4,5,...|[1.61470620220436...|[0.83406375586395...|       0.0|\n",
      "|818906208|Existing Customer|          32|     M|              0|    High School|       Unknown|    $60K - $80K|       Silver|            27|                       2|                     2|                    2|     29081.0|               1396|        27685.0|               2.204|           1538|            36|              0.714|                0.048|                                                                                                                         8.5795E-5|                                                                                                                           0.99991|                   2.0|                    3.0|           1.0|                    1.0|                  1.0|                (5,[3],[1.0])|               (3,[2],[1.0])|           (1,[],[])|                (6,[1],[1.0])|              (3,[1],[1.0])|(28,[0,2,3,4,5,6,...|(28,[0,2,3,4,5,6,...|(21,[0,2,3,4,5,6,...|[0.24176939335223...|[0.56014964226471...|       0.0|\n",
      "|710930508|Existing Customer|          37|     M|              3|     Uneducated|        Single|    $60K - $80K|         Blue|            36|                       5|                     2|                    0|     22352.0|               2517|        19835.0|               3.355|           1350|            24|              1.182|                0.113|                                                                                                                         4.4796E-5|                                                                                                                           0.99996|                   1.0|                    3.0|           1.0|                    3.0|                  0.0|                (5,[3],[1.0])|               (3,[1],[1.0])|           (1,[],[])|                (6,[3],[1.0])|              (3,[0],[1.0])|(28,[0,1,2,3,5,6,...|(28,[0,1,2,3,5,6,...|(21,[0,1,2,3,5,6,...|[3.99699477732234...|[0.98196063271114...|       0.0|\n",
      "|719661558|Existing Customer|          48|     M|              2|       Graduate|        Single|   $80K - $120K|         Blue|            36|                       6|                     3|                    3|     11656.0|               1677|         9979.0|               1.524|           1441|            32|              0.882|                0.144|                                                                                                                         3.0251E-4|                                                                                                                            0.9997|                   1.0|                    2.0|           1.0|                    0.0|                  0.0|                (5,[2],[1.0])|               (3,[1],[1.0])|           (1,[],[])|                (6,[0],[1.0])|              (3,[0],[1.0])|(28,[0,1,2,3,4,5,...|(28,[0,1,2,3,4,5,...|(21,[0,1,2,3,4,5,...|[1.27475812752657...|[0.78155617276521...|       0.0|\n",
      "+---------+-----------------+------------+------+---------------+---------------+--------------+---------------+-------------+--------------+------------------------+----------------------+---------------------+------------+-------------------+---------------+--------------------+---------------+--------------+-------------------+---------------------+----------------------------------------------------------------------------------------------------------------------------------+----------------------------------------------------------------------------------------------------------------------------------+----------------------+-----------------------+--------------+-----------------------+---------------------+-----------------------------+----------------------------+--------------------+-----------------------------+---------------------------+--------------------+--------------------+--------------------+--------------------+--------------------+----------+\n",
      "only showing top 10 rows\n",
      "\n"
     ]
    }
   ],
   "source": [
    "prediction.show(10)"
   ]
  },
  {
   "cell_type": "markdown",
   "id": "b77fce44-8fca-4175-8b2c-0271acdb93df",
   "metadata": {},
   "source": [
    "## Проверяем результат"
   ]
  },
  {
   "cell_type": "code",
   "execution_count": 9,
   "id": "abcc04ab-65bc-42f6-9120-2b77ae2d8c09",
   "metadata": {},
   "outputs": [
    {
     "name": "stdout",
     "output_type": "stream",
     "text": [
      "Confusion Matrix:\n",
      "1101\t1345\n",
      "526\t\t7155\n",
      "\n"
     ]
    },
    {
     "data": {
      "text/plain": [
       "\u001b[36mtp\u001b[39m: \u001b[32mLong\u001b[39m = \u001b[32m1101L\u001b[39m\n",
       "\u001b[36mtn\u001b[39m: \u001b[32mLong\u001b[39m = \u001b[32m7155L\u001b[39m\n",
       "\u001b[36mfp\u001b[39m: \u001b[32mLong\u001b[39m = \u001b[32m1345L\u001b[39m\n",
       "\u001b[36mfn\u001b[39m: \u001b[32mLong\u001b[39m = \u001b[32m526L\u001b[39m"
      ]
     },
     "execution_count": 9,
     "metadata": {},
     "output_type": "execute_result"
    }
   ],
   "source": [
    "val tp = prediction.filter(($\"Attrition_Flag\" === \"Attrited Customer\") and ($\"prediction\" === 1)).count\n",
    "val tn = prediction.filter(($\"Attrition_Flag\" === \"Existing Customer\") and ($\"prediction\" === 0)).count\n",
    "val fp = prediction.filter(($\"Attrition_Flag\" === \"Existing Customer\") and ($\"prediction\" === 1)).count\n",
    "val fn = prediction.filter(($\"Attrition_Flag\" === \"Attrited Customer\") and ($\"prediction\" === 0)).count\n",
    "\n",
    "println(s\"Confusion Matrix:\\n$tp\\t$fp\\n$fn\\t\\t$tn\\n\")"
   ]
  },
  {
   "cell_type": "code",
   "execution_count": 10,
   "id": "ed0184c4-887e-4319-b763-9a7b20eef173",
   "metadata": {},
   "outputs": [
    {
     "name": "stdout",
     "output_type": "stream",
     "text": [
      "Accuracy = 0.8152463710871927\n",
      "Precision = 0.4501226492232216\n",
      "Recall = 0.6767055931161647\n",
      "\n"
     ]
    },
    {
     "data": {
      "text/plain": [
       "\u001b[36maccuracy\u001b[39m: \u001b[32mDouble\u001b[39m = \u001b[32m0.8152463710871927\u001b[39m\n",
       "\u001b[36mprecision\u001b[39m: \u001b[32mDouble\u001b[39m = \u001b[32m0.4501226492232216\u001b[39m\n",
       "\u001b[36mrecall\u001b[39m: \u001b[32mDouble\u001b[39m = \u001b[32m0.6767055931161647\u001b[39m"
      ]
     },
     "execution_count": 10,
     "metadata": {},
     "output_type": "execute_result"
    }
   ],
   "source": [
    "val accuracy = (tp + tn) / (tp + tn + fp + fn).toDouble\n",
    "val precision = tp / (tp + fp).toDouble\n",
    "val recall = tp / (tp + fn).toDouble\n",
    "\n",
    "println(s\"Accuracy = $accuracy\")\n",
    "println(s\"Precision = $precision\")\n",
    "println(s\"Recall = $recall\\n\")"
   ]
  },
  {
   "cell_type": "code",
   "execution_count": null,
   "id": "7a28e275-20fc-47a9-a902-f68e77cc504f",
   "metadata": {},
   "outputs": [],
   "source": []
  }
 ],
 "metadata": {
  "kernelspec": {
   "display_name": "Scala",
   "language": "scala",
   "name": "scala"
  },
  "language_info": {
   "codemirror_mode": "text/x-scala",
   "file_extension": ".scala",
   "mimetype": "text/x-scala",
   "name": "scala",
   "nbconvert_exporter": "script",
   "version": "2.12.10"
  }
 },
 "nbformat": 4,
 "nbformat_minor": 5
}

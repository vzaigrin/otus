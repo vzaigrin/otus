{
 "cells": [
  {
   "cell_type": "code",
   "execution_count": 1,
   "id": "63bfe280-c8bf-4663-96a4-e10fdbe9bafc",
   "metadata": {},
   "outputs": [
    {
     "data": {
      "text/plain": [
       "\u001b[32mimport \u001b[39m\u001b[36m$ivy.$                                  \n",
       "\u001b[39m\n",
       "\u001b[32mimport \u001b[39m\u001b[36m$ivy.$                                    \n",
       "\u001b[39m\n",
       "\u001b[32mimport \u001b[39m\u001b[36morg.apache.log4j.{Level, Logger}\n",
       "\u001b[39m"
      ]
     },
     "execution_count": 1,
     "metadata": {},
     "output_type": "execute_result"
    }
   ],
   "source": [
    "import $ivy.`org.apache.spark::spark-sql:3.3.0`\n",
    "import $ivy.`org.apache.spark::spark-mllib:3.3.0`\n",
    "import org.apache.log4j.{Level, Logger}\n",
    "Logger.getLogger(\"org\").setLevel(Level.WARN)"
   ]
  },
  {
   "cell_type": "markdown",
   "id": "6ec5d212-af1b-45dc-bcea-ca300d438fab",
   "metadata": {
    "tags": []
   },
   "source": [
    "# Spark ML для задачи оттока\n",
    "\n",
    "Источник данных: [Kaggle](https://www.kaggle.com/sakshigoyal7/credit-card-customers)\n",
    "\n",
    "Описания полей:\n",
    "\n",
    "Название | Описание\n",
    ":--------|:--------\n",
    "CLIENTNUM | Client number. Unique identifier for the customer holding the account\n",
    "Attrition_Flag | Internal event (customer activity) variable\n",
    "Customer_Age | Demographic variable - Customer's Age in Years\n",
    "Gender | Demographic variable - M=Male, F=Female\n",
    "Dependent_count | Demographic variable - Number of dependents\n",
    "Education_Level | Demographic variable - Educational Qualification of the account holder (example: high school, college graduate, etc.)\n",
    "Marital_Status | Demographic variable - Married, Single, Divorced, Unknown\n",
    "Income_Category | Demographic variable - Annual Income Category of the account holder (< $40K, $40K - 60K, $60K - $80K, $80K-$120K, > $120K, Unknown)\n",
    "Card_Category | Product Variable - Type of Card (Blue, Silver, Gold, Platinum)\n",
    "Months_on_book | Period of relationship with bank"
   ]
  },
  {
   "cell_type": "markdown",
   "id": "4cfc2bfd-ed4a-4d7c-b2c9-63478befc32b",
   "metadata": {},
   "source": [
    "## Загрузка и знакомство с данными"
   ]
  },
  {
   "cell_type": "code",
   "execution_count": 2,
   "id": "54466b70-dcbf-429f-b06f-01543d67683d",
   "metadata": {},
   "outputs": [
    {
     "name": "stderr",
     "output_type": "stream",
     "text": [
      "Using Spark's default log4j profile: org/apache/spark/log4j2-defaults.properties\n"
     ]
    },
    {
     "name": "stdout",
     "output_type": "stream",
     "text": [
      "22/07/11 21:25:02 INFO SparkContext: Running Spark version 3.3.0\n",
      "22/07/11 21:25:03 INFO ResourceUtils: ==============================================================\n",
      "22/07/11 21:25:03 INFO ResourceUtils: No custom resources configured for spark.driver.\n",
      "22/07/11 21:25:03 INFO ResourceUtils: ==============================================================\n",
      "22/07/11 21:25:03 INFO SparkContext: Submitted application: Spark ML Research\n",
      "22/07/11 21:25:03 INFO ResourceProfile: Default ResourceProfile created, executor resources: Map(cores -> name: cores, amount: 1, script: , vendor: , memory -> name: memory, amount: 1024, script: , vendor: , offHeap -> name: offHeap, amount: 0, script: , vendor: ), task resources: Map(cpus -> name: cpus, amount: 1.0)\n",
      "22/07/11 21:25:03 INFO ResourceProfile: Limiting resource is cpu\n",
      "22/07/11 21:25:03 INFO ResourceProfileManager: Added ResourceProfile id: 0\n",
      "22/07/11 21:25:03 INFO SecurityManager: Changing view acls to: vadim\n",
      "22/07/11 21:25:03 INFO SecurityManager: Changing modify acls to: vadim\n",
      "22/07/11 21:25:03 INFO SecurityManager: Changing view acls groups to: \n",
      "22/07/11 21:25:03 INFO SecurityManager: Changing modify acls groups to: \n",
      "22/07/11 21:25:03 INFO SecurityManager: SecurityManager: authentication disabled; ui acls disabled; users  with view permissions: Set(vadim); groups with view permissions: Set(); users  with modify permissions: Set(vadim); groups with modify permissions: Set()\n",
      "22/07/11 21:25:03 INFO Utils: Successfully started service 'sparkDriver' on port 36649.\n",
      "22/07/11 21:25:03 INFO SparkEnv: Registering MapOutputTracker\n",
      "22/07/11 21:25:03 INFO SparkEnv: Registering BlockManagerMaster\n",
      "22/07/11 21:25:03 INFO BlockManagerMasterEndpoint: Using org.apache.spark.storage.DefaultTopologyMapper for getting topology information\n",
      "22/07/11 21:25:03 INFO BlockManagerMasterEndpoint: BlockManagerMasterEndpoint up\n",
      "22/07/11 21:25:03 INFO SparkEnv: Registering BlockManagerMasterHeartbeat\n",
      "22/07/11 21:25:03 INFO DiskBlockManager: Created local directory at /tmp/blockmgr-13e0bbba-d3f8-4f76-9762-433da49cd1b2\n",
      "22/07/11 21:25:03 INFO MemoryStore: MemoryStore started with capacity 4.0 GiB\n",
      "22/07/11 21:25:03 INFO SparkEnv: Registering OutputCommitCoordinator\n",
      "22/07/11 21:25:03 WARN Utils: Service 'SparkUI' could not bind on port 4040. Attempting port 4041.\n",
      "22/07/11 21:25:03 INFO Utils: Successfully started service 'SparkUI' on port 4041.\n",
      "22/07/11 21:25:03 INFO Executor: Starting executor ID driver on host ubuntu\n",
      "22/07/11 21:25:03 INFO Executor: Starting executor with user classpath (userClassPathFirst = false): ''\n",
      "22/07/11 21:25:03 INFO Utils: Successfully started service 'org.apache.spark.network.netty.NettyBlockTransferService' on port 34967.\n",
      "22/07/11 21:25:03 INFO NettyBlockTransferService: Server created on ubuntu:34967\n",
      "22/07/11 21:25:03 INFO BlockManager: Using org.apache.spark.storage.RandomBlockReplicationPolicy for block replication policy\n",
      "22/07/11 21:25:03 INFO BlockManagerMaster: Registering BlockManager BlockManagerId(driver, ubuntu, 34967, None)\n",
      "22/07/11 21:25:03 INFO BlockManagerMasterEndpoint: Registering block manager ubuntu:34967 with 4.0 GiB RAM, BlockManagerId(driver, ubuntu, 34967, None)\n",
      "22/07/11 21:25:04 INFO BlockManagerMaster: Registered BlockManager BlockManagerId(driver, ubuntu, 34967, None)\n",
      "22/07/11 21:25:04 INFO BlockManager: Initialized BlockManager: BlockManagerId(driver, ubuntu, 34967, None)\n"
     ]
    },
    {
     "data": {
      "text/plain": [
       "\u001b[32mimport \u001b[39m\u001b[36morg.apache.spark.sql._\n",
       "\u001b[39m\n",
       "\u001b[32mimport \u001b[39m\u001b[36morg.apache.spark.sql.functions._\n",
       "\n",
       "\u001b[39m\n",
       "\u001b[36mspark\u001b[39m: \u001b[32mSparkSession\u001b[39m = org.apache.spark.sql.SparkSession@145609b0\n",
       "\u001b[32mimport \u001b[39m\u001b[36mspark.implicits._\n",
       "\n",
       "\u001b[39m"
      ]
     },
     "execution_count": 2,
     "metadata": {},
     "output_type": "execute_result"
    }
   ],
   "source": [
    "import org.apache.spark.sql._\n",
    "import org.apache.spark.sql.functions._\n",
    "\n",
    "val spark = SparkSession\n",
    "                .builder()\n",
    "                .master(\"local[*]\")\n",
    "                .appName(\"Spark ML Research\")\n",
    "                .getOrCreate()\n",
    "\n",
    "import spark.implicits._\n",
    "\n",
    "spark.sparkContext.setLogLevel(\"WARN\")"
   ]
  },
  {
   "cell_type": "code",
   "execution_count": 3,
   "id": "493f5843-0589-4179-8382-88f4d060d003",
   "metadata": {},
   "outputs": [
    {
     "name": "stdout",
     "output_type": "stream",
     "text": [
      "+-----------------+------------+------+---------------+---------------+--------------+---------------+-------------+--------------+------------------------+----------------------+---------------------+------------+-------------------+---------------+--------------------+---------------+--------------+-------------------+---------------------+\n",
      "|Attrition_Flag   |Customer_Age|Gender|Dependent_count|Education_Level|Marital_Status|Income_Category|Card_Category|Months_on_book|Total_Relationship_Count|Months_Inactive_12_mon|Contacts_Count_12_mon|Credit_Limit|Total_Revolving_Bal|Avg_Open_To_Buy|Total_Amt_Chng_Q4_Q1|Total_Trans_Amt|Total_Trans_Ct|Total_Ct_Chng_Q4_Q1|Avg_Utilization_Ratio|\n",
      "+-----------------+------------+------+---------------+---------------+--------------+---------------+-------------+--------------+------------------------+----------------------+---------------------+------------+-------------------+---------------+--------------------+---------------+--------------+-------------------+---------------------+\n",
      "|Existing Customer|45          |M     |3              |High School    |Married       |$60K - $80K    |Blue         |39            |5                       |1                     |3                    |12691.0     |777                |11914.0        |1.335               |1144           |42            |1.625              |0.061                |\n",
      "|Existing Customer|49          |F     |5              |Graduate       |Single        |Less than $40K |Blue         |44            |6                       |1                     |2                    |8256.0      |864                |7392.0         |1.541               |1291           |33            |3.714              |0.105                |\n",
      "|Existing Customer|51          |M     |3              |Graduate       |Married       |$80K - $120K   |Blue         |36            |4                       |1                     |0                    |3418.0      |0                  |3418.0         |2.594               |1887           |20            |2.333              |0.0                  |\n",
      "|Existing Customer|40          |F     |4              |High School    |Unknown       |Less than $40K |Blue         |34            |3                       |4                     |1                    |3313.0      |2517               |796.0          |1.405               |1171           |20            |2.333              |0.76                 |\n",
      "|Existing Customer|40          |M     |3              |Uneducated     |Married       |$60K - $80K    |Blue         |21            |5                       |1                     |0                    |4716.0      |0                  |4716.0         |2.175               |816            |28            |2.5                |0.0                  |\n",
      "+-----------------+------------+------+---------------+---------------+--------------+---------------+-------------+--------------+------------------------+----------------------+---------------------+------------+-------------------+---------------+--------------------+---------------+--------------+-------------------+---------------------+\n",
      "only showing top 5 rows\n",
      "\n"
     ]
    },
    {
     "data": {
      "text/plain": [
       "\u001b[36mbasePath\u001b[39m: \u001b[32mString\u001b[39m = \u001b[32m\"/home/vadim/Projects/otus/SparkML/Credit Card Customers\"\u001b[39m\n",
       "\u001b[36mraw\u001b[39m: \u001b[32mDataFrame\u001b[39m = [CLIENTNUM: int, Attrition_Flag: string ... 21 more fields]\n",
       "\u001b[36mcolumns\u001b[39m: \u001b[32mArray\u001b[39m[\u001b[32mString\u001b[39m] = \u001b[33mArray\u001b[39m(\n",
       "  \u001b[32m\"CLIENTNUM\"\u001b[39m,\n",
       "  \u001b[32m\"Attrition_Flag\"\u001b[39m,\n",
       "  \u001b[32m\"Customer_Age\"\u001b[39m,\n",
       "  \u001b[32m\"Gender\"\u001b[39m,\n",
       "  \u001b[32m\"Dependent_count\"\u001b[39m,\n",
       "  \u001b[32m\"Education_Level\"\u001b[39m,\n",
       "  \u001b[32m\"Marital_Status\"\u001b[39m,\n",
       "  \u001b[32m\"Income_Category\"\u001b[39m,\n",
       "  \u001b[32m\"Card_Category\"\u001b[39m,\n",
       "  \u001b[32m\"Months_on_book\"\u001b[39m,\n",
       "  \u001b[32m\"Total_Relationship_Count\"\u001b[39m,\n",
       "  \u001b[32m\"Months_Inactive_12_mon\"\u001b[39m,\n",
       "  \u001b[32m\"Contacts_Count_12_mon\"\u001b[39m,\n",
       "  \u001b[32m\"Credit_Limit\"\u001b[39m,\n",
       "  \u001b[32m\"Total_Revolving_Bal\"\u001b[39m,\n",
       "  \u001b[32m\"Avg_Open_To_Buy\"\u001b[39m,\n",
       "  \u001b[32m\"Total_Amt_Chng_Q4_Q1\"\u001b[39m,\n",
       "  \u001b[32m\"Total_Trans_Amt\"\u001b[39m,\n",
       "  \u001b[32m\"Total_Trans_Ct\"\u001b[39m,\n",
       "  \u001b[32m\"Total_Ct_Chng_Q4_Q1\"\u001b[39m,\n",
       "  \u001b[32m\"Avg_Utilization_Ratio\"\u001b[39m,\n",
       "  \u001b[32m\"Naive_Bayes_Classifier_Attrition_Flag_Card_Category_Contacts_Count_12_mon_Dependent_count_Education_Level_Months_Inactive_12_mon_1\"\u001b[39m,\n",
       "  \u001b[32m\"Naive_Bayes_Classifier_Attrition_Flag_Card_Category_Contacts_Count_12_mon_Dependent_count_Education_Level_Months_Inactive_12_mon_2\"\u001b[39m\n",
       ")\n",
       "\u001b[36mcolumnsLen\u001b[39m: \u001b[32mInt\u001b[39m = \u001b[32m23\u001b[39m\n",
       "\u001b[36mcolsToDrop\u001b[39m: \u001b[32mArray\u001b[39m[\u001b[32mString\u001b[39m] = \u001b[33mArray\u001b[39m(\n",
       "  \u001b[32m\"Naive_Bayes_Classifier_Attrition_Flag_Card_Category_Contacts_Count_12_mon_Dependent_count_Education_Level_Months_Inactive_12_mon_1\"\u001b[39m,\n",
       "  \u001b[32m\"Naive_Bayes_Classifier_Attrition_Flag_Card_Category_Contacts_Count_12_mon_Dependent_count_Education_Level_Months_Inactive_12_mon_2\"\u001b[39m,\n",
       "  \u001b[32m\"CLIENTNUM\"\u001b[39m\n",
       ")\n",
       "\u001b[36mdf\u001b[39m: \u001b[32mDataFrame\u001b[39m = [Attrition_Flag: string, Customer_Age: int ... 18 more fields]"
      ]
     },
     "execution_count": 3,
     "metadata": {},
     "output_type": "execute_result"
    }
   ],
   "source": [
    "val basePath = \"/home/vadim/Projects/otus/SparkML/Credit Card Customers\"\n",
    "\n",
    "val raw = spark\n",
    "        .read\n",
    "        .option(\"header\", \"true\")\n",
    "        .option(\"inferSchema\", \"true\")\n",
    "        .csv(s\"$basePath/data/BankChurners.csv\")\n",
    "\n",
    "val columns: Array[String] = raw.columns\n",
    "val columnsLen: Int = columns.length\n",
    "val colsToDrop: Array[String] = columns.slice(columnsLen - 2, columnsLen) :+ columns.head\n",
    "\n",
    "val df = raw.drop(colsToDrop: _*)\n",
    "\n",
    "df.show(5, truncate = false)"
   ]
  },
  {
   "cell_type": "markdown",
   "id": "6d883c00-fab0-420a-be91-6ce4e377bd11",
   "metadata": {},
   "source": [
    "### Определяем типы колонок"
   ]
  },
  {
   "cell_type": "code",
   "execution_count": 4,
   "id": "281cf4db-3639-4230-b45c-97b63d1d405f",
   "metadata": {},
   "outputs": [
    {
     "name": "stdout",
     "output_type": "stream",
     "text": [
      "root\n",
      " |-- Attrition_Flag: string (nullable = true)\n",
      " |-- Customer_Age: integer (nullable = true)\n",
      " |-- Gender: string (nullable = true)\n",
      " |-- Dependent_count: integer (nullable = true)\n",
      " |-- Education_Level: string (nullable = true)\n",
      " |-- Marital_Status: string (nullable = true)\n",
      " |-- Income_Category: string (nullable = true)\n",
      " |-- Card_Category: string (nullable = true)\n",
      " |-- Months_on_book: integer (nullable = true)\n",
      " |-- Total_Relationship_Count: integer (nullable = true)\n",
      " |-- Months_Inactive_12_mon: integer (nullable = true)\n",
      " |-- Contacts_Count_12_mon: integer (nullable = true)\n",
      " |-- Credit_Limit: double (nullable = true)\n",
      " |-- Total_Revolving_Bal: integer (nullable = true)\n",
      " |-- Avg_Open_To_Buy: double (nullable = true)\n",
      " |-- Total_Amt_Chng_Q4_Q1: double (nullable = true)\n",
      " |-- Total_Trans_Amt: integer (nullable = true)\n",
      " |-- Total_Trans_Ct: integer (nullable = true)\n",
      " |-- Total_Ct_Chng_Q4_Q1: double (nullable = true)\n",
      " |-- Avg_Utilization_Ratio: double (nullable = true)\n",
      "\n"
     ]
    }
   ],
   "source": [
    "df.printSchema"
   ]
  },
  {
   "cell_type": "code",
   "execution_count": 5,
   "id": "7436af9f-ef50-4879-9336-fce90bac61b6",
   "metadata": {},
   "outputs": [
    {
     "name": "stdout",
     "output_type": "stream",
     "text": [
      "           Attrition_Flag\tStringType\n",
      "             Customer_Age\tIntegerType\n",
      "                   Gender\tStringType\n",
      "          Dependent_count\tIntegerType\n",
      "          Education_Level\tStringType\n",
      "           Marital_Status\tStringType\n",
      "          Income_Category\tStringType\n",
      "            Card_Category\tStringType\n",
      "           Months_on_book\tIntegerType\n",
      " Total_Relationship_Count\tIntegerType\n",
      "   Months_Inactive_12_mon\tIntegerType\n",
      "    Contacts_Count_12_mon\tIntegerType\n",
      "             Credit_Limit\tDoubleType\n",
      "      Total_Revolving_Bal\tIntegerType\n",
      "          Avg_Open_To_Buy\tDoubleType\n",
      "     Total_Amt_Chng_Q4_Q1\tDoubleType\n",
      "          Total_Trans_Amt\tIntegerType\n",
      "           Total_Trans_Ct\tIntegerType\n",
      "      Total_Ct_Chng_Q4_Q1\tDoubleType\n",
      "    Avg_Utilization_Ratio\tDoubleType\n"
     ]
    }
   ],
   "source": [
    "df.dtypes.foreach { dt => println(f\"${dt._1}%25s\\t${dt._2}\") }"
   ]
  },
  {
   "cell_type": "code",
   "execution_count": 6,
   "id": "61cd94e9-cb9d-4a69-8109-f10f0a89fcf0",
   "metadata": {},
   "outputs": [
    {
     "name": "stdout",
     "output_type": "stream",
     "text": [
      "(DoubleType,5)\n",
      "(StringType,6)\n",
      "(IntegerType,9)\n"
     ]
    }
   ],
   "source": [
    "df.dtypes.groupBy(_._2).mapValues(_.length).foreach(println)"
   ]
  },
  {
   "cell_type": "markdown",
   "id": "c4079d1a-14a4-4f96-be9c-a1c1d2ff94c7",
   "metadata": {},
   "source": [
    "### Проверим числовые колонки"
   ]
  },
  {
   "cell_type": "code",
   "execution_count": 7,
   "id": "48cbe4c6-5363-42cc-9faa-b5e86024393e",
   "metadata": {},
   "outputs": [
    {
     "name": "stdout",
     "output_type": "stream",
     "text": [
      "+-------+-----------------+------------------+------------------+------------------------+----------------------+---------------------+-----------------+-------------------+-----------------+--------------------+-----------------+-----------------+-------------------+---------------------+\n",
      "|summary|     Customer_Age|   Dependent_count|    Months_on_book|Total_Relationship_Count|Months_Inactive_12_mon|Contacts_Count_12_mon|     Credit_Limit|Total_Revolving_Bal|  Avg_Open_To_Buy|Total_Amt_Chng_Q4_Q1|  Total_Trans_Amt|   Total_Trans_Ct|Total_Ct_Chng_Q4_Q1|Avg_Utilization_Ratio|\n",
      "+-------+-----------------+------------------+------------------+------------------------+----------------------+---------------------+-----------------+-------------------+-----------------+--------------------+-----------------+-----------------+-------------------+---------------------+\n",
      "|  count|            10127|             10127|             10127|                   10127|                 10127|                10127|            10127|              10127|            10127|               10127|            10127|            10127|              10127|                10127|\n",
      "|   mean|46.32596030413745|2.3462032191172115|35.928409203120374|      3.8125802310654686|    2.3411671768539546|   2.4553174681544387|8631.953698034848| 1162.8140614199665|7469.139636614887|  0.7599406536980376|4404.086303939963|64.85869457884863| 0.7122223758269962|   0.2748935518909845|\n",
      "| stddev|8.016814032549046|  1.29890834890379|  7.98641633087208|        1.55440786533883|    1.0106223994182844|   1.1062251426359249|9088.776650223148|  814.9873352357533|9090.685323679114|  0.2192067692307027|3397.129253557085|23.47257044923301|0.23808609133294137|  0.27569146925238736|\n",
      "|    min|               26|                 0|                13|                       1|                     0|                    0|           1438.3|                  0|              3.0|                 0.0|              510|               10|                0.0|                  0.0|\n",
      "|    25%|               41|                 1|                31|                       3|                     2|                    2|           2555.0|                357|           1322.0|               0.631|             2155|               45|              0.581|                0.022|\n",
      "|    50%|               46|                 2|                36|                       4|                     2|                    2|           4549.0|               1276|           3472.0|               0.736|             3899|               67|              0.702|                0.175|\n",
      "|    75%|               52|                 3|                40|                       5|                     3|                    3|          11067.0|               1784|           9857.0|               0.859|             4741|               81|              0.818|                0.503|\n",
      "|    max|               73|                 5|                56|                       6|                     6|                    6|          34516.0|               2517|          34516.0|               3.397|            18484|              139|              3.714|                0.999|\n",
      "+-------+-----------------+------------------+------------------+------------------------+----------------------+---------------------+-----------------+-------------------+-----------------+--------------------+-----------------+-----------------+-------------------+---------------------+\n",
      "\n"
     ]
    },
    {
     "data": {
      "text/plain": [
       "\u001b[36mnumericColumns\u001b[39m: \u001b[32mArray\u001b[39m[\u001b[32mString\u001b[39m] = \u001b[33mArray\u001b[39m(\n",
       "  \u001b[32m\"Customer_Age\"\u001b[39m,\n",
       "  \u001b[32m\"Dependent_count\"\u001b[39m,\n",
       "  \u001b[32m\"Months_on_book\"\u001b[39m,\n",
       "  \u001b[32m\"Total_Relationship_Count\"\u001b[39m,\n",
       "  \u001b[32m\"Months_Inactive_12_mon\"\u001b[39m,\n",
       "  \u001b[32m\"Contacts_Count_12_mon\"\u001b[39m,\n",
       "  \u001b[32m\"Credit_Limit\"\u001b[39m,\n",
       "  \u001b[32m\"Total_Revolving_Bal\"\u001b[39m,\n",
       "  \u001b[32m\"Avg_Open_To_Buy\"\u001b[39m,\n",
       "  \u001b[32m\"Total_Amt_Chng_Q4_Q1\"\u001b[39m,\n",
       "  \u001b[32m\"Total_Trans_Amt\"\u001b[39m,\n",
       "  \u001b[32m\"Total_Trans_Ct\"\u001b[39m,\n",
       "  \u001b[32m\"Total_Ct_Chng_Q4_Q1\"\u001b[39m,\n",
       "  \u001b[32m\"Avg_Utilization_Ratio\"\u001b[39m\n",
       ")"
      ]
     },
     "execution_count": 7,
     "metadata": {},
     "output_type": "execute_result"
    }
   ],
   "source": [
    "val numericColumns: Array[String] = df.dtypes.filter(p => p._2.equals(\"DoubleType\") || p._2.equals(\"IntegerType\")).map(_._1)\n",
    "df.select(numericColumns.map(col): _*).summary().show"
   ]
  },
  {
   "cell_type": "code",
   "execution_count": 8,
   "id": "a27f07aa-e2ba-42cb-a664-69bbdca2dc2a",
   "metadata": {},
   "outputs": [
    {
     "name": "stdout",
     "output_type": "stream",
     "text": [
      "+------------+-----+\n",
      "|Customer_Age|count|\n",
      "+------------+-----+\n",
      "|          26|   78|\n",
      "|          27|   32|\n",
      "|          28|   29|\n",
      "|          29|   56|\n",
      "|          30|   70|\n",
      "|          31|   91|\n",
      "|          32|  106|\n",
      "|          33|  127|\n",
      "|          34|  146|\n",
      "|          35|  184|\n",
      "|          36|  221|\n",
      "|          37|  260|\n",
      "|          38|  303|\n",
      "|          39|  333|\n",
      "|          40|  361|\n",
      "|          41|  379|\n",
      "|          42|  426|\n",
      "|          43|  473|\n",
      "|          44|  500|\n",
      "|          45|  486|\n",
      "|          46|  490|\n",
      "|          47|  479|\n",
      "|          48|  472|\n",
      "|          49|  495|\n",
      "|          50|  452|\n",
      "|          51|  398|\n",
      "|          52|  376|\n",
      "|          53|  387|\n",
      "|          54|  307|\n",
      "|          55|  279|\n",
      "|          56|  262|\n",
      "|          57|  223|\n",
      "|          58|  157|\n",
      "|          59|  157|\n",
      "|          60|  127|\n",
      "|          61|   93|\n",
      "|          62|   93|\n",
      "|          63|   65|\n",
      "|          64|   43|\n",
      "|          65|  101|\n",
      "|          66|    2|\n",
      "|          67|    4|\n",
      "|          68|    2|\n",
      "|          70|    1|\n",
      "|          73|    1|\n",
      "+------------+-----+\n",
      "\n"
     ]
    }
   ],
   "source": [
    "df.groupBy($\"Customer_Age\").count().orderBy($\"Customer_Age\").show(100)"
   ]
  },
  {
   "cell_type": "markdown",
   "id": "3656ee7d-5702-4ff2-9559-552b76e4c8fb",
   "metadata": {},
   "source": [
    "## Целевая колонка"
   ]
  },
  {
   "cell_type": "code",
   "execution_count": 9,
   "id": "9dcf283a-987d-4230-ac30-e4b351d296ac",
   "metadata": {},
   "outputs": [
    {
     "name": "stdout",
     "output_type": "stream",
     "text": [
      "+-----------------+------+\n",
      "|Attrition_Flag   |target|\n",
      "+-----------------+------+\n",
      "|Existing Customer|0     |\n",
      "|Existing Customer|0     |\n",
      "|Existing Customer|0     |\n",
      "|Existing Customer|0     |\n",
      "|Existing Customer|0     |\n",
      "+-----------------+------+\n",
      "only showing top 5 rows\n",
      "\n"
     ]
    },
    {
     "data": {
      "text/plain": [
       "\u001b[36mdft\u001b[39m: \u001b[32mDataFrame\u001b[39m = [Attrition_Flag: string, Customer_Age: int ... 19 more fields]"
      ]
     },
     "execution_count": 9,
     "metadata": {},
     "output_type": "execute_result"
    }
   ],
   "source": [
    "val dft = df.withColumn(\"target\", when($\"Attrition_Flag\" === \"Existing Customer\", 0).otherwise(1))\n",
    "\n",
    "dft.select(\"Attrition_Flag\", \"target\").show(5, truncate = false)"
   ]
  },
  {
   "cell_type": "markdown",
   "id": "9605d0dc-ab39-4aef-8644-f5d02b85e9f5",
   "metadata": {},
   "source": [
    "### Проверка сбалансированности данных"
   ]
  },
  {
   "cell_type": "code",
   "execution_count": 10,
   "id": "bfec4866-a238-42fc-8d67-2c171ddd79f0",
   "metadata": {},
   "outputs": [
    {
     "name": "stdout",
     "output_type": "stream",
     "text": [
      "+------+-----+\n",
      "|target|count|\n",
      "+------+-----+\n",
      "|     1| 1627|\n",
      "|     0| 8500|\n",
      "+------+-----+\n",
      "\n"
     ]
    }
   ],
   "source": [
    "dft.groupBy(\"target\").count.show"
   ]
  },
  {
   "cell_type": "markdown",
   "id": "cca2f078-2b42-4487-aba0-7734572feb25",
   "metadata": {},
   "source": [
    "### Oversampling"
   ]
  },
  {
   "cell_type": "code",
   "execution_count": 11,
   "id": "45984f9d-97a0-49dd-9581-0648eaf6f8ae",
   "metadata": {},
   "outputs": [
    {
     "data": {
      "text/plain": [
       "\u001b[36mdf1\u001b[39m: \u001b[32mDataset\u001b[39m[\u001b[32mRow\u001b[39m] = [Attrition_Flag: string, Customer_Age: int ... 19 more fields]\n",
       "\u001b[36mdf0\u001b[39m: \u001b[32mDataset\u001b[39m[\u001b[32mRow\u001b[39m] = [Attrition_Flag: string, Customer_Age: int ... 19 more fields]\n",
       "\u001b[36mdf1count\u001b[39m: \u001b[32mLong\u001b[39m = \u001b[32m1627L\u001b[39m\n",
       "\u001b[36mdf0count\u001b[39m: \u001b[32mLong\u001b[39m = \u001b[32m8500L\u001b[39m\n",
       "\u001b[36mres10_4\u001b[39m: \u001b[32mLong\u001b[39m = \u001b[32m5L\u001b[39m"
      ]
     },
     "execution_count": 11,
     "metadata": {},
     "output_type": "execute_result"
    }
   ],
   "source": [
    "val df1 = dft.filter($\"target\" === 1)\n",
    "val df0 = dft.filter($\"target\" === 0)\n",
    "\n",
    "val df1count = df1.count\n",
    "val df0count = df0.count\n",
    "\n",
    "df0count / df1count"
   ]
  },
  {
   "cell_type": "code",
   "execution_count": 12,
   "id": "e88e9ecc-313d-4507-be9a-c93e253281d4",
   "metadata": {},
   "outputs": [
    {
     "name": "stdout",
     "output_type": "stream",
     "text": [
      "+-----------------+------------+------+---------------+---------------+--------------+---------------+-------------+--------------+------------------------+----------------------+---------------------+------------+-------------------+---------------+--------------------+---------------+--------------+-------------------+---------------------+------+\n",
      "|Attrition_Flag   |Customer_Age|Gender|Dependent_count|Education_Level|Marital_Status|Income_Category|Card_Category|Months_on_book|Total_Relationship_Count|Months_Inactive_12_mon|Contacts_Count_12_mon|Credit_Limit|Total_Revolving_Bal|Avg_Open_To_Buy|Total_Amt_Chng_Q4_Q1|Total_Trans_Amt|Total_Trans_Ct|Total_Ct_Chng_Q4_Q1|Avg_Utilization_Ratio|target|\n",
      "+-----------------+------------+------+---------------+---------------+--------------+---------------+-------------+--------------+------------------------+----------------------+---------------------+------------+-------------------+---------------+--------------------+---------------+--------------+-------------------+---------------------+------+\n",
      "|Attrited Customer|62          |F     |0              |Graduate       |Married       |Less than $40K |Blue         |49            |2                       |3                     |3                    |1438.3      |0                  |1438.3         |1.047               |692            |16            |0.6                |0.0                  |1     |\n",
      "|Attrited Customer|62          |F     |0              |Graduate       |Married       |Less than $40K |Blue         |49            |2                       |3                     |3                    |1438.3      |0                  |1438.3         |1.047               |692            |16            |0.6                |0.0                  |1     |\n",
      "|Attrited Customer|62          |F     |0              |Graduate       |Married       |Less than $40K |Blue         |49            |2                       |3                     |3                    |1438.3      |0                  |1438.3         |1.047               |692            |16            |0.6                |0.0                  |1     |\n",
      "|Attrited Customer|62          |F     |0              |Graduate       |Married       |Less than $40K |Blue         |49            |2                       |3                     |3                    |1438.3      |0                  |1438.3         |1.047               |692            |16            |0.6                |0.0                  |1     |\n",
      "|Attrited Customer|62          |F     |0              |Graduate       |Married       |Less than $40K |Blue         |49            |2                       |3                     |3                    |1438.3      |0                  |1438.3         |1.047               |692            |16            |0.6                |0.0                  |1     |\n",
      "|Attrited Customer|66          |F     |0              |Doctorate      |Married       |Unknown        |Blue         |56            |5                       |4                     |3                    |7882.0      |605                |7277.0         |1.052               |704            |16            |0.143              |0.077                |1     |\n",
      "|Attrited Customer|66          |F     |0              |Doctorate      |Married       |Unknown        |Blue         |56            |5                       |4                     |3                    |7882.0      |605                |7277.0         |1.052               |704            |16            |0.143              |0.077                |1     |\n",
      "|Attrited Customer|66          |F     |0              |Doctorate      |Married       |Unknown        |Blue         |56            |5                       |4                     |3                    |7882.0      |605                |7277.0         |1.052               |704            |16            |0.143              |0.077                |1     |\n",
      "|Attrited Customer|66          |F     |0              |Doctorate      |Married       |Unknown        |Blue         |56            |5                       |4                     |3                    |7882.0      |605                |7277.0         |1.052               |704            |16            |0.143              |0.077                |1     |\n",
      "|Attrited Customer|66          |F     |0              |Doctorate      |Married       |Unknown        |Blue         |56            |5                       |4                     |3                    |7882.0      |605                |7277.0         |1.052               |704            |16            |0.143              |0.077                |1     |\n",
      "+-----------------+------------+------+---------------+---------------+--------------+---------------+-------------+--------------+------------------------+----------------------+---------------------+------------+-------------------+---------------+--------------------+---------------+--------------+-------------------+---------------------+------+\n",
      "only showing top 10 rows\n",
      "\n"
     ]
    },
    {
     "data": {
      "text/plain": [
       "\u001b[36mdf1Over\u001b[39m: \u001b[32mDataFrame\u001b[39m = [Attrition_Flag: string, Customer_Age: int ... 19 more fields]"
      ]
     },
     "execution_count": 12,
     "metadata": {},
     "output_type": "execute_result"
    }
   ],
   "source": [
    "val df1Over = df1\n",
    "        .withColumn(\"dummy\", explode(lit((1 to (df0count / df1count).toInt).toArray)))\n",
    "        .drop(\"dummy\")\n",
    "\n",
    "df1Over.show(10, truncate = false)"
   ]
  },
  {
   "cell_type": "code",
   "execution_count": 13,
   "id": "ac613c32-0701-402a-9d10-89acba6b019c",
   "metadata": {},
   "outputs": [
    {
     "name": "stdout",
     "output_type": "stream",
     "text": [
      "+------+-----+\n",
      "|target|count|\n",
      "+------+-----+\n",
      "|     0| 8500|\n",
      "|     1| 8135|\n",
      "+------+-----+\n",
      "\n"
     ]
    },
    {
     "data": {
      "text/plain": [
       "\u001b[36mdata\u001b[39m: \u001b[32mDataset\u001b[39m[\u001b[32mRow\u001b[39m] = [Attrition_Flag: string, Customer_Age: int ... 19 more fields]"
      ]
     },
     "execution_count": 13,
     "metadata": {},
     "output_type": "execute_result"
    }
   ],
   "source": [
    "val data = df0.unionAll(df1Over)\n",
    "data.groupBy(\"target\").count.show"
   ]
  },
  {
   "cell_type": "markdown",
   "id": "3e0acf7e-44f4-4a0b-890b-9a90e2636363",
   "metadata": {},
   "source": [
    "## Работа с признаками"
   ]
  },
  {
   "cell_type": "markdown",
   "id": "f890b7c0-9f40-4523-9116-06b095f643be",
   "metadata": {},
   "source": [
    "### Проверим корреляции числовых признаков"
   ]
  },
  {
   "cell_type": "code",
   "execution_count": 14,
   "id": "01465dc0-8cb1-46fc-b7b9-66f2bbd2a52e",
   "metadata": {},
   "outputs": [
    {
     "data": {
      "text/plain": [
       "\u001b[36mnumericColumnsPairs\u001b[39m: \u001b[32mArray\u001b[39m[(\u001b[32mString\u001b[39m, \u001b[32mString\u001b[39m)] = \u001b[33mArray\u001b[39m(\n",
       "  (\u001b[32m\"Customer_Age\"\u001b[39m, \u001b[32m\"Customer_Age\"\u001b[39m),\n",
       "  (\u001b[32m\"Customer_Age\"\u001b[39m, \u001b[32m\"Dependent_count\"\u001b[39m),\n",
       "  (\u001b[32m\"Customer_Age\"\u001b[39m, \u001b[32m\"Months_on_book\"\u001b[39m),\n",
       "  (\u001b[32m\"Customer_Age\"\u001b[39m, \u001b[32m\"Total_Relationship_Count\"\u001b[39m),\n",
       "  (\u001b[32m\"Customer_Age\"\u001b[39m, \u001b[32m\"Months_Inactive_12_mon\"\u001b[39m),\n",
       "  (\u001b[32m\"Customer_Age\"\u001b[39m, \u001b[32m\"Contacts_Count_12_mon\"\u001b[39m),\n",
       "  (\u001b[32m\"Customer_Age\"\u001b[39m, \u001b[32m\"Credit_Limit\"\u001b[39m),\n",
       "  (\u001b[32m\"Customer_Age\"\u001b[39m, \u001b[32m\"Total_Revolving_Bal\"\u001b[39m),\n",
       "  (\u001b[32m\"Customer_Age\"\u001b[39m, \u001b[32m\"Avg_Open_To_Buy\"\u001b[39m),\n",
       "  (\u001b[32m\"Customer_Age\"\u001b[39m, \u001b[32m\"Total_Amt_Chng_Q4_Q1\"\u001b[39m),\n",
       "  (\u001b[32m\"Customer_Age\"\u001b[39m, \u001b[32m\"Total_Trans_Amt\"\u001b[39m),\n",
       "  (\u001b[32m\"Customer_Age\"\u001b[39m, \u001b[32m\"Total_Trans_Ct\"\u001b[39m),\n",
       "  (\u001b[32m\"Customer_Age\"\u001b[39m, \u001b[32m\"Total_Ct_Chng_Q4_Q1\"\u001b[39m),\n",
       "  (\u001b[32m\"Customer_Age\"\u001b[39m, \u001b[32m\"Avg_Utilization_Ratio\"\u001b[39m),\n",
       "  (\u001b[32m\"Dependent_count\"\u001b[39m, \u001b[32m\"Customer_Age\"\u001b[39m),\n",
       "  (\u001b[32m\"Dependent_count\"\u001b[39m, \u001b[32m\"Dependent_count\"\u001b[39m),\n",
       "  (\u001b[32m\"Dependent_count\"\u001b[39m, \u001b[32m\"Months_on_book\"\u001b[39m),\n",
       "  (\u001b[32m\"Dependent_count\"\u001b[39m, \u001b[32m\"Total_Relationship_Count\"\u001b[39m),\n",
       "  (\u001b[32m\"Dependent_count\"\u001b[39m, \u001b[32m\"Months_Inactive_12_mon\"\u001b[39m),\n",
       "  (\u001b[32m\"Dependent_count\"\u001b[39m, \u001b[32m\"Contacts_Count_12_mon\"\u001b[39m),\n",
       "  (\u001b[32m\"Dependent_count\"\u001b[39m, \u001b[32m\"Credit_Limit\"\u001b[39m),\n",
       "  (\u001b[32m\"Dependent_count\"\u001b[39m, \u001b[32m\"Total_Revolving_Bal\"\u001b[39m),\n",
       "  (\u001b[32m\"Dependent_count\"\u001b[39m, \u001b[32m\"Avg_Open_To_Buy\"\u001b[39m),\n",
       "  (\u001b[32m\"Dependent_count\"\u001b[39m, \u001b[32m\"Total_Amt_Chng_Q4_Q1\"\u001b[39m),\n",
       "  (\u001b[32m\"Dependent_count\"\u001b[39m, \u001b[32m\"Total_Trans_Amt\"\u001b[39m),\n",
       "  (\u001b[32m\"Dependent_count\"\u001b[39m, \u001b[32m\"Total_Trans_Ct\"\u001b[39m),\n",
       "  (\u001b[32m\"Dependent_count\"\u001b[39m, \u001b[32m\"Total_Ct_Chng_Q4_Q1\"\u001b[39m),\n",
       "  (\u001b[32m\"Dependent_count\"\u001b[39m, \u001b[32m\"Avg_Utilization_Ratio\"\u001b[39m),\n",
       "  (\u001b[32m\"Months_on_book\"\u001b[39m, \u001b[32m\"Customer_Age\"\u001b[39m),\n",
       "  (\u001b[32m\"Months_on_book\"\u001b[39m, \u001b[32m\"Dependent_count\"\u001b[39m),\n",
       "  (\u001b[32m\"Months_on_book\"\u001b[39m, \u001b[32m\"Months_on_book\"\u001b[39m),\n",
       "  (\u001b[32m\"Months_on_book\"\u001b[39m, \u001b[32m\"Total_Relationship_Count\"\u001b[39m),\n",
       "  (\u001b[32m\"Months_on_book\"\u001b[39m, \u001b[32m\"Months_Inactive_12_mon\"\u001b[39m),\n",
       "  (\u001b[32m\"Months_on_book\"\u001b[39m, \u001b[32m\"Contacts_Count_12_mon\"\u001b[39m),\n",
       "  (\u001b[32m\"Months_on_book\"\u001b[39m, \u001b[32m\"Credit_Limit\"\u001b[39m),\n",
       "  (\u001b[32m\"Months_on_book\"\u001b[39m, \u001b[32m\"Total_Revolving_Bal\"\u001b[39m),\n",
       "  (\u001b[32m\"Months_on_book\"\u001b[39m, \u001b[32m\"Avg_Open_To_Buy\"\u001b[39m),\n",
       "  (\u001b[32m\"Months_on_book\"\u001b[39m, \u001b[32m\"Total_Amt_Chng_Q4_Q1\"\u001b[39m),\n",
       "..."
      ]
     },
     "execution_count": 14,
     "metadata": {},
     "output_type": "execute_result"
    }
   ],
   "source": [
    "val numericColumnsPairs = numericColumns.flatMap(f1 => numericColumns.map(f2 => (f1, f2)))"
   ]
  },
  {
   "cell_type": "code",
   "execution_count": 15,
   "id": "df6eedb2-830a-4d91-a749-f81cd732e70f",
   "metadata": {},
   "outputs": [
    {
     "data": {
      "text/plain": [
       "\u001b[36mres14\u001b[39m: \u001b[32mArray\u001b[39m[(\u001b[32mString\u001b[39m, \u001b[32mString\u001b[39m)] = \u001b[33mArray\u001b[39m(\n",
       "  (\u001b[32m\"Customer_Age\"\u001b[39m, \u001b[32m\"Customer_Age\"\u001b[39m),\n",
       "  (\u001b[32m\"Customer_Age\"\u001b[39m, \u001b[32m\"Dependent_count\"\u001b[39m),\n",
       "  (\u001b[32m\"Customer_Age\"\u001b[39m, \u001b[32m\"Months_on_book\"\u001b[39m),\n",
       "  (\u001b[32m\"Customer_Age\"\u001b[39m, \u001b[32m\"Total_Relationship_Count\"\u001b[39m),\n",
       "  (\u001b[32m\"Customer_Age\"\u001b[39m, \u001b[32m\"Months_Inactive_12_mon\"\u001b[39m),\n",
       "  (\u001b[32m\"Customer_Age\"\u001b[39m, \u001b[32m\"Contacts_Count_12_mon\"\u001b[39m),\n",
       "  (\u001b[32m\"Customer_Age\"\u001b[39m, \u001b[32m\"Credit_Limit\"\u001b[39m),\n",
       "  (\u001b[32m\"Customer_Age\"\u001b[39m, \u001b[32m\"Total_Revolving_Bal\"\u001b[39m),\n",
       "  (\u001b[32m\"Customer_Age\"\u001b[39m, \u001b[32m\"Avg_Open_To_Buy\"\u001b[39m),\n",
       "  (\u001b[32m\"Customer_Age\"\u001b[39m, \u001b[32m\"Total_Amt_Chng_Q4_Q1\"\u001b[39m),\n",
       "  (\u001b[32m\"Customer_Age\"\u001b[39m, \u001b[32m\"Total_Trans_Amt\"\u001b[39m),\n",
       "  (\u001b[32m\"Customer_Age\"\u001b[39m, \u001b[32m\"Total_Trans_Ct\"\u001b[39m),\n",
       "  (\u001b[32m\"Customer_Age\"\u001b[39m, \u001b[32m\"Total_Ct_Chng_Q4_Q1\"\u001b[39m),\n",
       "  (\u001b[32m\"Customer_Age\"\u001b[39m, \u001b[32m\"Avg_Utilization_Ratio\"\u001b[39m),\n",
       "  (\u001b[32m\"Dependent_count\"\u001b[39m, \u001b[32m\"Customer_Age\"\u001b[39m),\n",
       "  (\u001b[32m\"Dependent_count\"\u001b[39m, \u001b[32m\"Dependent_count\"\u001b[39m),\n",
       "  (\u001b[32m\"Dependent_count\"\u001b[39m, \u001b[32m\"Months_on_book\"\u001b[39m),\n",
       "  (\u001b[32m\"Dependent_count\"\u001b[39m, \u001b[32m\"Total_Relationship_Count\"\u001b[39m),\n",
       "  (\u001b[32m\"Dependent_count\"\u001b[39m, \u001b[32m\"Months_Inactive_12_mon\"\u001b[39m),\n",
       "  (\u001b[32m\"Dependent_count\"\u001b[39m, \u001b[32m\"Contacts_Count_12_mon\"\u001b[39m),\n",
       "  (\u001b[32m\"Dependent_count\"\u001b[39m, \u001b[32m\"Credit_Limit\"\u001b[39m),\n",
       "  (\u001b[32m\"Dependent_count\"\u001b[39m, \u001b[32m\"Total_Revolving_Bal\"\u001b[39m),\n",
       "  (\u001b[32m\"Dependent_count\"\u001b[39m, \u001b[32m\"Avg_Open_To_Buy\"\u001b[39m),\n",
       "  (\u001b[32m\"Dependent_count\"\u001b[39m, \u001b[32m\"Total_Amt_Chng_Q4_Q1\"\u001b[39m),\n",
       "  (\u001b[32m\"Dependent_count\"\u001b[39m, \u001b[32m\"Total_Trans_Amt\"\u001b[39m),\n",
       "  (\u001b[32m\"Dependent_count\"\u001b[39m, \u001b[32m\"Total_Trans_Ct\"\u001b[39m),\n",
       "  (\u001b[32m\"Dependent_count\"\u001b[39m, \u001b[32m\"Total_Ct_Chng_Q4_Q1\"\u001b[39m),\n",
       "  (\u001b[32m\"Dependent_count\"\u001b[39m, \u001b[32m\"Avg_Utilization_Ratio\"\u001b[39m),\n",
       "  (\u001b[32m\"Months_on_book\"\u001b[39m, \u001b[32m\"Customer_Age\"\u001b[39m),\n",
       "  (\u001b[32m\"Months_on_book\"\u001b[39m, \u001b[32m\"Dependent_count\"\u001b[39m),\n",
       "  (\u001b[32m\"Months_on_book\"\u001b[39m, \u001b[32m\"Months_on_book\"\u001b[39m),\n",
       "  (\u001b[32m\"Months_on_book\"\u001b[39m, \u001b[32m\"Total_Relationship_Count\"\u001b[39m),\n",
       "  (\u001b[32m\"Months_on_book\"\u001b[39m, \u001b[32m\"Months_Inactive_12_mon\"\u001b[39m),\n",
       "  (\u001b[32m\"Months_on_book\"\u001b[39m, \u001b[32m\"Contacts_Count_12_mon\"\u001b[39m),\n",
       "  (\u001b[32m\"Months_on_book\"\u001b[39m, \u001b[32m\"Credit_Limit\"\u001b[39m),\n",
       "  (\u001b[32m\"Months_on_book\"\u001b[39m, \u001b[32m\"Total_Revolving_Bal\"\u001b[39m),\n",
       "  (\u001b[32m\"Months_on_book\"\u001b[39m, \u001b[32m\"Avg_Open_To_Buy\"\u001b[39m),\n",
       "  (\u001b[32m\"Months_on_book\"\u001b[39m, \u001b[32m\"Total_Amt_Chng_Q4_Q1\"\u001b[39m),\n",
       "..."
      ]
     },
     "execution_count": 15,
     "metadata": {},
     "output_type": "execute_result"
    }
   ],
   "source": [
    "for {\n",
    "  x <- numericColumns\n",
    "  y <- numericColumns\n",
    "} yield (x, y)"
   ]
  },
  {
   "cell_type": "markdown",
   "id": "a1a60af6-0074-4395-a18c-0f79df0f9517",
   "metadata": {
    "tags": []
   },
   "source": [
    "#### Вариант 1: DataFrameStatFunctions"
   ]
  },
  {
   "cell_type": "code",
   "execution_count": 16,
   "id": "1d5efa48-d661-4bfd-89af-45fa019c0940",
   "metadata": {},
   "outputs": [
    {
     "data": {
      "text/plain": [
       "\u001b[36mpairs\u001b[39m: \u001b[32mArray\u001b[39m[(\u001b[32mString\u001b[39m, \u001b[32mString\u001b[39m)] = \u001b[33mArray\u001b[39m(\n",
       "  (\u001b[32m\"Customer_Age\"\u001b[39m, \u001b[32m\"Dependent_count\"\u001b[39m),\n",
       "  (\u001b[32m\"Customer_Age\"\u001b[39m, \u001b[32m\"Months_on_book\"\u001b[39m),\n",
       "  (\u001b[32m\"Customer_Age\"\u001b[39m, \u001b[32m\"Total_Relationship_Count\"\u001b[39m),\n",
       "  (\u001b[32m\"Customer_Age\"\u001b[39m, \u001b[32m\"Months_Inactive_12_mon\"\u001b[39m),\n",
       "  (\u001b[32m\"Contacts_Count_12_mon\"\u001b[39m, \u001b[32m\"Customer_Age\"\u001b[39m),\n",
       "  (\u001b[32m\"Credit_Limit\"\u001b[39m, \u001b[32m\"Customer_Age\"\u001b[39m),\n",
       "  (\u001b[32m\"Customer_Age\"\u001b[39m, \u001b[32m\"Total_Revolving_Bal\"\u001b[39m),\n",
       "  (\u001b[32m\"Avg_Open_To_Buy\"\u001b[39m, \u001b[32m\"Customer_Age\"\u001b[39m),\n",
       "  (\u001b[32m\"Customer_Age\"\u001b[39m, \u001b[32m\"Total_Amt_Chng_Q4_Q1\"\u001b[39m),\n",
       "  (\u001b[32m\"Customer_Age\"\u001b[39m, \u001b[32m\"Total_Trans_Amt\"\u001b[39m),\n",
       "  (\u001b[32m\"Customer_Age\"\u001b[39m, \u001b[32m\"Total_Trans_Ct\"\u001b[39m),\n",
       "  (\u001b[32m\"Customer_Age\"\u001b[39m, \u001b[32m\"Total_Ct_Chng_Q4_Q1\"\u001b[39m),\n",
       "  (\u001b[32m\"Avg_Utilization_Ratio\"\u001b[39m, \u001b[32m\"Customer_Age\"\u001b[39m),\n",
       "  (\u001b[32m\"Dependent_count\"\u001b[39m, \u001b[32m\"Months_on_book\"\u001b[39m),\n",
       "  (\u001b[32m\"Dependent_count\"\u001b[39m, \u001b[32m\"Total_Relationship_Count\"\u001b[39m),\n",
       "  (\u001b[32m\"Dependent_count\"\u001b[39m, \u001b[32m\"Months_Inactive_12_mon\"\u001b[39m),\n",
       "  (\u001b[32m\"Contacts_Count_12_mon\"\u001b[39m, \u001b[32m\"Dependent_count\"\u001b[39m),\n",
       "  (\u001b[32m\"Credit_Limit\"\u001b[39m, \u001b[32m\"Dependent_count\"\u001b[39m),\n",
       "  (\u001b[32m\"Dependent_count\"\u001b[39m, \u001b[32m\"Total_Revolving_Bal\"\u001b[39m),\n",
       "  (\u001b[32m\"Avg_Open_To_Buy\"\u001b[39m, \u001b[32m\"Dependent_count\"\u001b[39m),\n",
       "  (\u001b[32m\"Dependent_count\"\u001b[39m, \u001b[32m\"Total_Amt_Chng_Q4_Q1\"\u001b[39m),\n",
       "  (\u001b[32m\"Dependent_count\"\u001b[39m, \u001b[32m\"Total_Trans_Amt\"\u001b[39m),\n",
       "  (\u001b[32m\"Dependent_count\"\u001b[39m, \u001b[32m\"Total_Trans_Ct\"\u001b[39m),\n",
       "  (\u001b[32m\"Dependent_count\"\u001b[39m, \u001b[32m\"Total_Ct_Chng_Q4_Q1\"\u001b[39m),\n",
       "  (\u001b[32m\"Avg_Utilization_Ratio\"\u001b[39m, \u001b[32m\"Dependent_count\"\u001b[39m),\n",
       "  (\u001b[32m\"Months_on_book\"\u001b[39m, \u001b[32m\"Total_Relationship_Count\"\u001b[39m),\n",
       "  (\u001b[32m\"Months_Inactive_12_mon\"\u001b[39m, \u001b[32m\"Months_on_book\"\u001b[39m),\n",
       "  (\u001b[32m\"Contacts_Count_12_mon\"\u001b[39m, \u001b[32m\"Months_on_book\"\u001b[39m),\n",
       "  (\u001b[32m\"Credit_Limit\"\u001b[39m, \u001b[32m\"Months_on_book\"\u001b[39m),\n",
       "  (\u001b[32m\"Months_on_book\"\u001b[39m, \u001b[32m\"Total_Revolving_Bal\"\u001b[39m),\n",
       "  (\u001b[32m\"Avg_Open_To_Buy\"\u001b[39m, \u001b[32m\"Months_on_book\"\u001b[39m),\n",
       "  (\u001b[32m\"Months_on_book\"\u001b[39m, \u001b[32m\"Total_Amt_Chng_Q4_Q1\"\u001b[39m),\n",
       "  (\u001b[32m\"Months_on_book\"\u001b[39m, \u001b[32m\"Total_Trans_Amt\"\u001b[39m),\n",
       "  (\u001b[32m\"Months_on_book\"\u001b[39m, \u001b[32m\"Total_Trans_Ct\"\u001b[39m),\n",
       "  (\u001b[32m\"Months_on_book\"\u001b[39m, \u001b[32m\"Total_Ct_Chng_Q4_Q1\"\u001b[39m),\n",
       "  (\u001b[32m\"Avg_Utilization_Ratio\"\u001b[39m, \u001b[32m\"Months_on_book\"\u001b[39m),\n",
       "  (\u001b[32m\"Months_Inactive_12_mon\"\u001b[39m, \u001b[32m\"Total_Relationship_Count\"\u001b[39m),\n",
       "  (\u001b[32m\"Contacts_Count_12_mon\"\u001b[39m, \u001b[32m\"Total_Relationship_Count\"\u001b[39m),\n",
       "...\n",
       "\u001b[36mcorr\u001b[39m: \u001b[32mArray\u001b[39m[(\u001b[32mString\u001b[39m, \u001b[32mString\u001b[39m, \u001b[32mDouble\u001b[39m)] = \u001b[33mArray\u001b[39m(\n",
       "  (\u001b[32m\"Customer_Age\"\u001b[39m, \u001b[32m\"Months_on_book\"\u001b[39m, \u001b[32m0.7805047706891142\u001b[39m),\n",
       "  (\u001b[32m\"Avg_Open_To_Buy\"\u001b[39m, \u001b[32m\"Credit_Limit\"\u001b[39m, \u001b[32m0.9952040726156253\u001b[39m),\n",
       "  (\u001b[32m\"Avg_Utilization_Ratio\"\u001b[39m, \u001b[32m\"Total_Revolving_Bal\"\u001b[39m, \u001b[32m0.6946855441968229\u001b[39m),\n",
       "  (\u001b[32m\"Total_Trans_Amt\"\u001b[39m, \u001b[32m\"Total_Trans_Ct\"\u001b[39m, \u001b[32m0.8053901681243808\u001b[39m)\n",
       ")"
      ]
     },
     "execution_count": 16,
     "metadata": {},
     "output_type": "execute_result"
    }
   ],
   "source": [
    "val pairs = numericColumnsPairs\n",
    "        .filter { p => !p._1.equals(p._2) }\n",
    "        .map { p => if (p._1 < p._2) (p._1, p._2) else (p._2, p._1) }\n",
    "        .distinct\n",
    "\n",
    "val corr = pairs\n",
    "        .map { p => (p._1, p._2, data.stat.corr(p._1, p._2)) }\n",
    "        .filter(p => math.abs(p._3) > 0.6)"
   ]
  },
  {
   "cell_type": "code",
   "execution_count": 17,
   "id": "167ff34d-b805-4ed9-9158-ab4efdc45abc",
   "metadata": {},
   "outputs": [
    {
     "name": "stdout",
     "output_type": "stream",
     "text": [
      "          Avg_Open_To_Buy             Credit_Limit\t0.9952040726156253\n",
      "          Total_Trans_Amt           Total_Trans_Ct\t0.8053901681243808\n",
      "             Customer_Age           Months_on_book\t0.7805047706891142\n",
      "    Avg_Utilization_Ratio      Total_Revolving_Bal\t0.6946855441968229\n"
     ]
    }
   ],
   "source": [
    "corr.sortBy(_._3).reverse.foreach { c => println(f\"${c._1}%25s${c._2}%25s\\t${c._3}\") }"
   ]
  },
  {
   "cell_type": "markdown",
   "id": "ba955e25-105f-41ee-bfa6-0149bdc96b05",
   "metadata": {},
   "source": [
    "#### Вариант 2: Correlation"
   ]
  },
  {
   "cell_type": "code",
   "execution_count": 18,
   "id": "6c778fbc-198b-4448-9d9f-1a69fce0a152",
   "metadata": {},
   "outputs": [
    {
     "data": {
      "text/plain": [
       "\u001b[32mimport \u001b[39m\u001b[36morg.apache.spark.ml.feature.VectorAssembler\n",
       "\u001b[39m\n",
       "\u001b[32mimport \u001b[39m\u001b[36morg.apache.spark.ml.stat.Correlation\n",
       "\u001b[39m\n",
       "\u001b[32mimport \u001b[39m\u001b[36morg.apache.spark.ml.linalg.Matrix\n",
       "\u001b[39m\n",
       "\u001b[32mimport \u001b[39m\u001b[36morg.apache.spark.sql.Row\n",
       "\n",
       "\u001b[39m\n",
       "\u001b[36mnumericAssembler\u001b[39m: \u001b[32mVectorAssembler\u001b[39m = VectorAssembler: uid=vecAssembler_98e2f00af4f9, handleInvalid=error, numInputCols=14\n",
       "\u001b[36mnumeric\u001b[39m: \u001b[32mDataFrame\u001b[39m = [Attrition_Flag: string, Customer_Age: int ... 20 more fields]\n",
       "\u001b[36mmatrix\u001b[39m: \u001b[32mMatrix\u001b[39m = 1.0                    -0.13575515707704905   ... (14 total)\n",
       "-0.13575515707704905   1.0                    ...\n",
       "0.780504770689084      -0.11728062823959522   ...\n",
       "-0.026525310066417403  -0.03266417786351196   ...\n",
       "0.13116552936201348    -0.010657501150598976  ...\n",
       "-0.019944405497176732  -0.02566496168277401   ...\n",
       "0.016657097778483475   0.06002070339266479    ...\n",
       "-0.002841536593767456  0.0018723592997836101  ...\n",
       "0.016929170875654043   0.05981512203616065    ...\n",
       "-0.020559135165498028  -0.04794367154504479   ...\n",
       "-0.06586475313340744   0.00700430540503166    ...\n",
       "-0.07815083273365253   0.025513406218718206   ...\n",
       "-0.016568818333932693  -0.019666216088456825  ...\n",
       "-0.010985827540562288  -0.03300255953641679   ..."
      ]
     },
     "execution_count": 18,
     "metadata": {},
     "output_type": "execute_result"
    }
   ],
   "source": [
    "import org.apache.spark.ml.feature.VectorAssembler\n",
    "import org.apache.spark.ml.stat.Correlation\n",
    "import org.apache.spark.ml.linalg.Matrix\n",
    "import org.apache.spark.sql.Row\n",
    "\n",
    "val numericAssembler = new VectorAssembler()\n",
    "  .setInputCols(numericColumns)\n",
    "  .setOutputCol(\"features\")\n",
    "\n",
    "val numeric = numericAssembler.transform(data)\n",
    "val Row(matrix: Matrix) = Correlation.corr(numeric, \"features\").head"
   ]
  },
  {
   "cell_type": "code",
   "execution_count": 19,
   "id": "718c7e6f-b687-490c-95ab-0775f1250d00",
   "metadata": {},
   "outputs": [
    {
     "data": {
      "text/plain": [
       "\u001b[36mcorr2\u001b[39m: \u001b[32mArray\u001b[39m[(\u001b[32mString\u001b[39m, \u001b[32mString\u001b[39m, \u001b[32mDouble\u001b[39m)] = \u001b[33mArray\u001b[39m(\n",
       "  (\u001b[32m\"Customer_Age\"\u001b[39m, \u001b[32m\"Months_on_book\"\u001b[39m, \u001b[32m0.780504770689084\u001b[39m),\n",
       "  (\u001b[32m\"Avg_Open_To_Buy\"\u001b[39m, \u001b[32m\"Credit_Limit\"\u001b[39m, \u001b[32m0.9952040726156179\u001b[39m),\n",
       "  (\u001b[32m\"Avg_Utilization_Ratio\"\u001b[39m, \u001b[32m\"Total_Revolving_Bal\"\u001b[39m, \u001b[32m0.6946855441968222\u001b[39m),\n",
       "  (\u001b[32m\"Total_Trans_Amt\"\u001b[39m, \u001b[32m\"Total_Trans_Ct\"\u001b[39m, \u001b[32m0.8053901681243786\u001b[39m)\n",
       ")"
      ]
     },
     "execution_count": 19,
     "metadata": {},
     "output_type": "execute_result"
    }
   ],
   "source": [
    "val corr2 = matrix.toArray\n",
    "        .zip(numericColumnsPairs)\n",
    "        .map(cnn => (cnn._2._1, cnn._2._2, cnn._1))\n",
    "        .filter(p => math.abs(p._3) > 0.6 && p._3 < 1.0)\n",
    "        .map { p => if (p._1 < p._2) (p._1, p._2, p._3) else (p._2, p._1, p._3) }\n",
    "        .distinct"
   ]
  },
  {
   "cell_type": "code",
   "execution_count": 20,
   "id": "5892ae26-42aa-4862-9f37-2049494929b6",
   "metadata": {},
   "outputs": [
    {
     "name": "stdout",
     "output_type": "stream",
     "text": [
      "          Avg_Open_To_Buy             Credit_Limit\t0.9952040726156179\n",
      "          Total_Trans_Amt           Total_Trans_Ct\t0.8053901681243786\n",
      "             Customer_Age           Months_on_book\t0.780504770689084\n",
      "    Avg_Utilization_Ratio      Total_Revolving_Bal\t0.6946855441968222\n"
     ]
    }
   ],
   "source": [
    "corr2.sortBy(_._3).reverse.foreach { c => println(f\"${c._1}%25s${c._2}%25s\\t${c._3}\") }"
   ]
  },
  {
   "cell_type": "code",
   "execution_count": 21,
   "id": "2b2f2ee7-e109-406c-841b-9063cbcd6867",
   "metadata": {},
   "outputs": [
    {
     "data": {
      "text/plain": [
       "\u001b[36mres20\u001b[39m: \u001b[32mSet\u001b[39m[(\u001b[32mString\u001b[39m, \u001b[32mString\u001b[39m, \u001b[32mDouble\u001b[39m)] = \u001b[33mSet\u001b[39m()"
      ]
     },
     "execution_count": 21,
     "metadata": {},
     "output_type": "execute_result"
    }
   ],
   "source": [
    "corr.toSet.intersect(corr2.toSet)"
   ]
  },
  {
   "cell_type": "markdown",
   "id": "8fc0c1bd-ab5c-4331-8ab2-c17d775a9b7e",
   "metadata": {},
   "source": [
    "#### Оставляем числовые колонки с низкой кореляцией"
   ]
  },
  {
   "cell_type": "code",
   "execution_count": 22,
   "id": "6c38d096-d2b8-4d33-8b79-02a4f4025d0e",
   "metadata": {},
   "outputs": [
    {
     "data": {
      "text/plain": [
       "\u001b[36mnumericColumnsFinal\u001b[39m: \u001b[32mArray\u001b[39m[\u001b[32mString\u001b[39m] = \u001b[33mArray\u001b[39m(\n",
       "  \u001b[32m\"Customer_Age\"\u001b[39m,\n",
       "  \u001b[32m\"Dependent_count\"\u001b[39m,\n",
       "  \u001b[32m\"Total_Relationship_Count\"\u001b[39m,\n",
       "  \u001b[32m\"Months_Inactive_12_mon\"\u001b[39m,\n",
       "  \u001b[32m\"Contacts_Count_12_mon\"\u001b[39m,\n",
       "  \u001b[32m\"Avg_Open_To_Buy\"\u001b[39m,\n",
       "  \u001b[32m\"Total_Amt_Chng_Q4_Q1\"\u001b[39m,\n",
       "  \u001b[32m\"Total_Trans_Amt\"\u001b[39m,\n",
       "  \u001b[32m\"Total_Ct_Chng_Q4_Q1\"\u001b[39m,\n",
       "  \u001b[32m\"Avg_Utilization_Ratio\"\u001b[39m\n",
       ")"
      ]
     },
     "execution_count": 22,
     "metadata": {},
     "output_type": "execute_result"
    }
   ],
   "source": [
    "val numericColumnsFinal = numericColumns.diff(corr.map(_._2))"
   ]
  },
  {
   "cell_type": "markdown",
   "id": "6818fc8f-8556-4326-b438-926fca552859",
   "metadata": {},
   "source": [
    "### Категориальные признаки"
   ]
  },
  {
   "cell_type": "markdown",
   "id": "c92c9f2e-7991-42b6-b9dd-3bec068847eb",
   "metadata": {},
   "source": [
    "#### Индексируем строковые колонки"
   ]
  },
  {
   "cell_type": "code",
   "execution_count": 23,
   "id": "539967b2-4c5c-4a3d-a5ff-a936f3c95a38",
   "metadata": {},
   "outputs": [
    {
     "name": "stdout",
     "output_type": "stream",
     "text": [
      "22/07/11 21:25:24 WARN package: Truncated the string representation of a plan since it was too large. This behavior can be adjusted by setting 'spark.sql.debug.maxToStringFields'.\n",
      "+-----------------+------------+------+---------------+---------------+--------------+---------------+-------------+--------------+------------------------+----------------------+---------------------+------------+-------------------+---------------+--------------------+---------------+--------------+-------------------+---------------------+------+--------------+-----------------------+----------------------+-----------------------+---------------------+\n",
      "|   Attrition_Flag|Customer_Age|Gender|Dependent_count|Education_Level|Marital_Status|Income_Category|Card_Category|Months_on_book|Total_Relationship_Count|Months_Inactive_12_mon|Contacts_Count_12_mon|Credit_Limit|Total_Revolving_Bal|Avg_Open_To_Buy|Total_Amt_Chng_Q4_Q1|Total_Trans_Amt|Total_Trans_Ct|Total_Ct_Chng_Q4_Q1|Avg_Utilization_Ratio|target|Gender_Indexed|Education_Level_Indexed|Marital_Status_Indexed|Income_Category_Indexed|Card_Category_Indexed|\n",
      "+-----------------+------------+------+---------------+---------------+--------------+---------------+-------------+--------------+------------------------+----------------------+---------------------+------------+-------------------+---------------+--------------------+---------------+--------------+-------------------+---------------------+------+--------------+-----------------------+----------------------+-----------------------+---------------------+\n",
      "|Existing Customer|          45|     M|              3|    High School|       Married|    $60K - $80K|         Blue|            39|                       5|                     1|                    3|     12691.0|                777|        11914.0|               1.335|           1144|            42|              1.625|                0.061|     0|           1.0|                    1.0|                   0.0|                    3.0|                  0.0|\n",
      "|Existing Customer|          49|     F|              5|       Graduate|        Single| Less than $40K|         Blue|            44|                       6|                     1|                    2|      8256.0|                864|         7392.0|               1.541|           1291|            33|              3.714|                0.105|     0|           0.0|                    0.0|                   1.0|                    0.0|                  0.0|\n",
      "|Existing Customer|          51|     M|              3|       Graduate|       Married|   $80K - $120K|         Blue|            36|                       4|                     1|                    0|      3418.0|                  0|         3418.0|               2.594|           1887|            20|              2.333|                  0.0|     0|           1.0|                    0.0|                   0.0|                    2.0|                  0.0|\n",
      "|Existing Customer|          40|     F|              4|    High School|       Unknown| Less than $40K|         Blue|            34|                       3|                     4|                    1|      3313.0|               2517|          796.0|               1.405|           1171|            20|              2.333|                 0.76|     0|           0.0|                    1.0|                   2.0|                    0.0|                  0.0|\n",
      "|Existing Customer|          40|     M|              3|     Uneducated|       Married|    $60K - $80K|         Blue|            21|                       5|                     1|                    0|      4716.0|                  0|         4716.0|               2.175|            816|            28|                2.5|                  0.0|     0|           1.0|                    3.0|                   0.0|                    3.0|                  0.0|\n",
      "+-----------------+------------+------+---------------+---------------+--------------+---------------+-------------+--------------+------------------------+----------------------+---------------------+------------+-------------------+---------------+--------------------+---------------+--------------+-------------------+---------------------+------+--------------+-----------------------+----------------------+-----------------------+---------------------+\n",
      "only showing top 5 rows\n",
      "\n"
     ]
    },
    {
     "data": {
      "text/plain": [
       "\u001b[32mimport \u001b[39m\u001b[36morg.apache.spark.ml.feature.StringIndexer\n",
       "\n",
       "\u001b[39m\n",
       "\u001b[36mstringColumns\u001b[39m: \u001b[32mArray\u001b[39m[\u001b[32mString\u001b[39m] = \u001b[33mArray\u001b[39m(\n",
       "  \u001b[32m\"Gender\"\u001b[39m,\n",
       "  \u001b[32m\"Education_Level\"\u001b[39m,\n",
       "  \u001b[32m\"Marital_Status\"\u001b[39m,\n",
       "  \u001b[32m\"Income_Category\"\u001b[39m,\n",
       "  \u001b[32m\"Card_Category\"\u001b[39m\n",
       ")\n",
       "\u001b[36mstringColumnsIndexed\u001b[39m: \u001b[32mArray\u001b[39m[\u001b[32mString\u001b[39m] = \u001b[33mArray\u001b[39m(\n",
       "  \u001b[32m\"Gender_Indexed\"\u001b[39m,\n",
       "  \u001b[32m\"Education_Level_Indexed\"\u001b[39m,\n",
       "  \u001b[32m\"Marital_Status_Indexed\"\u001b[39m,\n",
       "  \u001b[32m\"Income_Category_Indexed\"\u001b[39m,\n",
       "  \u001b[32m\"Card_Category_Indexed\"\u001b[39m\n",
       ")\n",
       "\u001b[36mindexer\u001b[39m: \u001b[32mStringIndexer\u001b[39m = strIdx_957140f2f45d\n",
       "\u001b[36mindexed\u001b[39m: \u001b[32mDataFrame\u001b[39m = [Attrition_Flag: string, Customer_Age: int ... 24 more fields]"
      ]
     },
     "execution_count": 23,
     "metadata": {},
     "output_type": "execute_result"
    }
   ],
   "source": [
    "import org.apache.spark.ml.feature.StringIndexer\n",
    "\n",
    "val stringColumns = data\n",
    "        .dtypes\n",
    "        .filter(_._2.equals(\"StringType\"))\n",
    "        .map(_._1)\n",
    "        .filter(!_.equals(\"Attrition_Flag\"))\n",
    "\n",
    "val stringColumnsIndexed = stringColumns.map(_ + \"_Indexed\")\n",
    "\n",
    "val indexer = new StringIndexer()\n",
    "        .setInputCols(stringColumns)\n",
    "        .setOutputCols(stringColumnsIndexed)\n",
    "\n",
    "val indexed = indexer.fit(data).transform(data)\n",
    "indexed.show(5)"
   ]
  },
  {
   "cell_type": "markdown",
   "id": "c273835f-45a2-477d-94d1-4db931a90ae3",
   "metadata": {},
   "source": [
    "#### Кодируем категориальные признаки"
   ]
  },
  {
   "cell_type": "code",
   "execution_count": 24,
   "id": "588a7046-74a0-47cb-8900-5ad24eee4d1a",
   "metadata": {},
   "outputs": [
    {
     "name": "stdout",
     "output_type": "stream",
     "text": [
      "+-----------------+------------+------+---------------+---------------+--------------+---------------+-------------+--------------+------------------------+----------------------+---------------------+------------+-------------------+---------------+--------------------+---------------+--------------+-------------------+---------------------+------+--------------+-----------------------+----------------------+-----------------------+---------------------+--------------------+-----------------------------+----------------------------+-----------------------------+---------------------------+\n",
      "|   Attrition_Flag|Customer_Age|Gender|Dependent_count|Education_Level|Marital_Status|Income_Category|Card_Category|Months_on_book|Total_Relationship_Count|Months_Inactive_12_mon|Contacts_Count_12_mon|Credit_Limit|Total_Revolving_Bal|Avg_Open_To_Buy|Total_Amt_Chng_Q4_Q1|Total_Trans_Amt|Total_Trans_Ct|Total_Ct_Chng_Q4_Q1|Avg_Utilization_Ratio|target|Gender_Indexed|Education_Level_Indexed|Marital_Status_Indexed|Income_Category_Indexed|Card_Category_Indexed|Gender_Indexed_Coded|Education_Level_Indexed_Coded|Marital_Status_Indexed_Coded|Income_Category_Indexed_Coded|Card_Category_Indexed_Coded|\n",
      "+-----------------+------------+------+---------------+---------------+--------------+---------------+-------------+--------------+------------------------+----------------------+---------------------+------------+-------------------+---------------+--------------------+---------------+--------------+-------------------+---------------------+------+--------------+-----------------------+----------------------+-----------------------+---------------------+--------------------+-----------------------------+----------------------------+-----------------------------+---------------------------+\n",
      "|Existing Customer|          45|     M|              3|    High School|       Married|    $60K - $80K|         Blue|            39|                       5|                     1|                    3|     12691.0|                777|        11914.0|               1.335|           1144|            42|              1.625|                0.061|     0|           1.0|                    1.0|                   0.0|                    3.0|                  0.0|           (1,[],[])|                (6,[1],[1.0])|               (3,[0],[1.0])|                (5,[3],[1.0])|              (3,[0],[1.0])|\n",
      "|Existing Customer|          49|     F|              5|       Graduate|        Single| Less than $40K|         Blue|            44|                       6|                     1|                    2|      8256.0|                864|         7392.0|               1.541|           1291|            33|              3.714|                0.105|     0|           0.0|                    0.0|                   1.0|                    0.0|                  0.0|       (1,[0],[1.0])|                (6,[0],[1.0])|               (3,[1],[1.0])|                (5,[0],[1.0])|              (3,[0],[1.0])|\n",
      "|Existing Customer|          51|     M|              3|       Graduate|       Married|   $80K - $120K|         Blue|            36|                       4|                     1|                    0|      3418.0|                  0|         3418.0|               2.594|           1887|            20|              2.333|                  0.0|     0|           1.0|                    0.0|                   0.0|                    2.0|                  0.0|           (1,[],[])|                (6,[0],[1.0])|               (3,[0],[1.0])|                (5,[2],[1.0])|              (3,[0],[1.0])|\n",
      "|Existing Customer|          40|     F|              4|    High School|       Unknown| Less than $40K|         Blue|            34|                       3|                     4|                    1|      3313.0|               2517|          796.0|               1.405|           1171|            20|              2.333|                 0.76|     0|           0.0|                    1.0|                   2.0|                    0.0|                  0.0|       (1,[0],[1.0])|                (6,[1],[1.0])|               (3,[2],[1.0])|                (5,[0],[1.0])|              (3,[0],[1.0])|\n",
      "|Existing Customer|          40|     M|              3|     Uneducated|       Married|    $60K - $80K|         Blue|            21|                       5|                     1|                    0|      4716.0|                  0|         4716.0|               2.175|            816|            28|                2.5|                  0.0|     0|           1.0|                    3.0|                   0.0|                    3.0|                  0.0|           (1,[],[])|                (6,[3],[1.0])|               (3,[0],[1.0])|                (5,[3],[1.0])|              (3,[0],[1.0])|\n",
      "+-----------------+------------+------+---------------+---------------+--------------+---------------+-------------+--------------+------------------------+----------------------+---------------------+------------+-------------------+---------------+--------------------+---------------+--------------+-------------------+---------------------+------+--------------+-----------------------+----------------------+-----------------------+---------------------+--------------------+-----------------------------+----------------------------+-----------------------------+---------------------------+\n",
      "only showing top 5 rows\n",
      "\n"
     ]
    },
    {
     "data": {
      "text/plain": [
       "\u001b[32mimport \u001b[39m\u001b[36morg.apache.spark.ml.feature.OneHotEncoder\n",
       "\n",
       "\u001b[39m\n",
       "\u001b[36mcatColumns\u001b[39m: \u001b[32mArray\u001b[39m[\u001b[32mString\u001b[39m] = \u001b[33mArray\u001b[39m(\n",
       "  \u001b[32m\"Gender_Indexed_Coded\"\u001b[39m,\n",
       "  \u001b[32m\"Education_Level_Indexed_Coded\"\u001b[39m,\n",
       "  \u001b[32m\"Marital_Status_Indexed_Coded\"\u001b[39m,\n",
       "  \u001b[32m\"Income_Category_Indexed_Coded\"\u001b[39m,\n",
       "  \u001b[32m\"Card_Category_Indexed_Coded\"\u001b[39m\n",
       ")\n",
       "\u001b[36mencoder\u001b[39m: \u001b[32mOneHotEncoder\u001b[39m = oneHotEncoder_246cc0b04bfd\n",
       "\u001b[36mencoded\u001b[39m: \u001b[32mDataFrame\u001b[39m = [Attrition_Flag: string, Customer_Age: int ... 29 more fields]"
      ]
     },
     "execution_count": 24,
     "metadata": {},
     "output_type": "execute_result"
    }
   ],
   "source": [
    "import org.apache.spark.ml.feature.OneHotEncoder\n",
    "\n",
    "val catColumns = stringColumnsIndexed.map(_ + \"_Coded\")\n",
    "    \n",
    "val encoder = new OneHotEncoder()\n",
    "        .setInputCols(stringColumnsIndexed)\n",
    "        .setOutputCols(catColumns)\n",
    "\n",
    "val encoded = encoder.fit(indexed).transform(indexed)\n",
    "encoded.show(5)"
   ]
  },
  {
   "cell_type": "markdown",
   "id": "906e5c47-49ac-4658-a96a-52564b094f98",
   "metadata": {},
   "source": [
    "### Собираем признаки в вектор"
   ]
  },
  {
   "cell_type": "code",
   "execution_count": 25,
   "id": "ac999c98-d1e7-4eca-8277-2776a634e6c8",
   "metadata": {},
   "outputs": [
    {
     "name": "stdout",
     "output_type": "stream",
     "text": [
      "+-----------------+------------+------+---------------+---------------+--------------+---------------+-------------+--------------+------------------------+----------------------+---------------------+------------+-------------------+---------------+--------------------+---------------+--------------+-------------------+---------------------+------+--------------+-----------------------+----------------------+-----------------------+---------------------+--------------------+-----------------------------+----------------------------+-----------------------------+---------------------------+--------------------------------------------------------------------------------------------------------------------+\n",
      "|Attrition_Flag   |Customer_Age|Gender|Dependent_count|Education_Level|Marital_Status|Income_Category|Card_Category|Months_on_book|Total_Relationship_Count|Months_Inactive_12_mon|Contacts_Count_12_mon|Credit_Limit|Total_Revolving_Bal|Avg_Open_To_Buy|Total_Amt_Chng_Q4_Q1|Total_Trans_Amt|Total_Trans_Ct|Total_Ct_Chng_Q4_Q1|Avg_Utilization_Ratio|target|Gender_Indexed|Education_Level_Indexed|Marital_Status_Indexed|Income_Category_Indexed|Card_Category_Indexed|Gender_Indexed_Coded|Education_Level_Indexed_Coded|Marital_Status_Indexed_Coded|Income_Category_Indexed_Coded|Card_Category_Indexed_Coded|features                                                                                                            |\n",
      "+-----------------+------------+------+---------------+---------------+--------------+---------------+-------------+--------------+------------------------+----------------------+---------------------+------------+-------------------+---------------+--------------------+---------------+--------------+-------------------+---------------------+------+--------------+-----------------------+----------------------+-----------------------+---------------------+--------------------+-----------------------------+----------------------------+-----------------------------+---------------------------+--------------------------------------------------------------------------------------------------------------------+\n",
      "|Existing Customer|45          |M     |3              |High School    |Married       |$60K - $80K    |Blue         |39            |5                       |1                     |3                    |12691.0     |777                |11914.0        |1.335               |1144           |42            |1.625              |0.061                |0     |1.0           |1.0                    |0.0                   |3.0                    |0.0                  |(1,[],[])           |(6,[1],[1.0])                |(3,[0],[1.0])               |(5,[3],[1.0])                |(3,[0],[1.0])              |(28,[0,1,2,3,4,5,6,7,8,9,12,17,23,25],[45.0,3.0,5.0,1.0,3.0,11914.0,1.335,1144.0,1.625,0.061,1.0,1.0,1.0,1.0])      |\n",
      "|Existing Customer|49          |F     |5              |Graduate       |Single        |Less than $40K |Blue         |44            |6                       |1                     |2                    |8256.0      |864                |7392.0         |1.541               |1291           |33            |3.714              |0.105                |0     |0.0           |0.0                    |1.0                   |0.0                    |0.0                  |(1,[0],[1.0])       |(6,[0],[1.0])                |(3,[1],[1.0])               |(5,[0],[1.0])                |(3,[0],[1.0])              |(28,[0,1,2,3,4,5,6,7,8,9,10,11,18,20,25],[49.0,5.0,6.0,1.0,2.0,7392.0,1.541,1291.0,3.714,0.105,1.0,1.0,1.0,1.0,1.0])|\n",
      "|Existing Customer|51          |M     |3              |Graduate       |Married       |$80K - $120K   |Blue         |36            |4                       |1                     |0                    |3418.0      |0                  |3418.0         |2.594               |1887           |20            |2.333              |0.0                  |0     |1.0           |0.0                    |0.0                   |2.0                    |0.0                  |(1,[],[])           |(6,[0],[1.0])                |(3,[0],[1.0])               |(5,[2],[1.0])                |(3,[0],[1.0])              |(28,[0,1,2,3,5,6,7,8,11,17,22,25],[51.0,3.0,4.0,1.0,3418.0,2.594,1887.0,2.333,1.0,1.0,1.0,1.0])                     |\n",
      "|Existing Customer|40          |F     |4              |High School    |Unknown       |Less than $40K |Blue         |34            |3                       |4                     |1                    |3313.0      |2517               |796.0          |1.405               |1171           |20            |2.333              |0.76                 |0     |0.0           |1.0                    |2.0                   |0.0                    |0.0                  |(1,[0],[1.0])       |(6,[1],[1.0])                |(3,[2],[1.0])               |(5,[0],[1.0])                |(3,[0],[1.0])              |(28,[0,1,2,3,4,5,6,7,8,9,10,12,19,20,25],[40.0,4.0,3.0,4.0,1.0,796.0,1.405,1171.0,2.333,0.76,1.0,1.0,1.0,1.0,1.0])  |\n",
      "|Existing Customer|40          |M     |3              |Uneducated     |Married       |$60K - $80K    |Blue         |21            |5                       |1                     |0                    |4716.0      |0                  |4716.0         |2.175               |816            |28            |2.5                |0.0                  |0     |1.0           |3.0                    |0.0                   |3.0                    |0.0                  |(1,[],[])           |(6,[3],[1.0])                |(3,[0],[1.0])               |(5,[3],[1.0])                |(3,[0],[1.0])              |(28,[0,1,2,3,5,6,7,8,14,17,23,25],[40.0,3.0,5.0,1.0,4716.0,2.175,816.0,2.5,1.0,1.0,1.0,1.0])                        |\n",
      "+-----------------+------------+------+---------------+---------------+--------------+---------------+-------------+--------------+------------------------+----------------------+---------------------+------------+-------------------+---------------+--------------------+---------------+--------------+-------------------+---------------------+------+--------------+-----------------------+----------------------+-----------------------+---------------------+--------------------+-----------------------------+----------------------------+-----------------------------+---------------------------+--------------------------------------------------------------------------------------------------------------------+\n",
      "only showing top 5 rows\n",
      "\n"
     ]
    },
    {
     "data": {
      "text/plain": [
       "\u001b[36mfeatureColumns\u001b[39m: \u001b[32mArray\u001b[39m[\u001b[32mString\u001b[39m] = \u001b[33mArray\u001b[39m(\n",
       "  \u001b[32m\"Customer_Age\"\u001b[39m,\n",
       "  \u001b[32m\"Dependent_count\"\u001b[39m,\n",
       "  \u001b[32m\"Total_Relationship_Count\"\u001b[39m,\n",
       "  \u001b[32m\"Months_Inactive_12_mon\"\u001b[39m,\n",
       "  \u001b[32m\"Contacts_Count_12_mon\"\u001b[39m,\n",
       "  \u001b[32m\"Avg_Open_To_Buy\"\u001b[39m,\n",
       "  \u001b[32m\"Total_Amt_Chng_Q4_Q1\"\u001b[39m,\n",
       "  \u001b[32m\"Total_Trans_Amt\"\u001b[39m,\n",
       "  \u001b[32m\"Total_Ct_Chng_Q4_Q1\"\u001b[39m,\n",
       "  \u001b[32m\"Avg_Utilization_Ratio\"\u001b[39m,\n",
       "  \u001b[32m\"Gender_Indexed_Coded\"\u001b[39m,\n",
       "  \u001b[32m\"Education_Level_Indexed_Coded\"\u001b[39m,\n",
       "  \u001b[32m\"Marital_Status_Indexed_Coded\"\u001b[39m,\n",
       "  \u001b[32m\"Income_Category_Indexed_Coded\"\u001b[39m,\n",
       "  \u001b[32m\"Card_Category_Indexed_Coded\"\u001b[39m\n",
       ")\n",
       "\u001b[36massembler\u001b[39m: \u001b[32mVectorAssembler\u001b[39m = VectorAssembler: uid=vecAssembler_d4e4f5b0ffa6, handleInvalid=error, numInputCols=15\n",
       "\u001b[36massembled\u001b[39m: \u001b[32mDataFrame\u001b[39m = [Attrition_Flag: string, Customer_Age: int ... 30 more fields]"
      ]
     },
     "execution_count": 25,
     "metadata": {},
     "output_type": "execute_result"
    }
   ],
   "source": [
    "val featureColumns = numericColumnsFinal ++ catColumns\n",
    "\n",
    "val assembler = new VectorAssembler()\n",
    "  .setInputCols(featureColumns)\n",
    "  .setOutputCol(\"features\")\n",
    "\n",
    "val assembled = assembler.transform(encoded)\n",
    "assembled.show(5, truncate = false)"
   ]
  },
  {
   "cell_type": "code",
   "execution_count": 26,
   "id": "8b1ac36f-00e9-42e3-9ebb-c670e6ec20a4",
   "metadata": {},
   "outputs": [
    {
     "name": "stdout",
     "output_type": "stream",
     "text": [
      "+--------------------------------------------------------------------------------------------------------------------+\n",
      "|features                                                                                                            |\n",
      "+--------------------------------------------------------------------------------------------------------------------+\n",
      "|(28,[0,1,2,3,4,5,6,7,8,9,12,17,23,25],[45.0,3.0,5.0,1.0,3.0,11914.0,1.335,1144.0,1.625,0.061,1.0,1.0,1.0,1.0])      |\n",
      "|(28,[0,1,2,3,4,5,6,7,8,9,10,11,18,20,25],[49.0,5.0,6.0,1.0,2.0,7392.0,1.541,1291.0,3.714,0.105,1.0,1.0,1.0,1.0,1.0])|\n",
      "|(28,[0,1,2,3,5,6,7,8,11,17,22,25],[51.0,3.0,4.0,1.0,3418.0,2.594,1887.0,2.333,1.0,1.0,1.0,1.0])                     |\n",
      "|(28,[0,1,2,3,4,5,6,7,8,9,10,12,19,20,25],[40.0,4.0,3.0,4.0,1.0,796.0,1.405,1171.0,2.333,0.76,1.0,1.0,1.0,1.0,1.0])  |\n",
      "|(28,[0,1,2,3,5,6,7,8,14,17,23,25],[40.0,3.0,5.0,1.0,4716.0,2.175,816.0,2.5,1.0,1.0,1.0,1.0])                        |\n",
      "+--------------------------------------------------------------------------------------------------------------------+\n",
      "only showing top 5 rows\n",
      "\n"
     ]
    }
   ],
   "source": [
    "assembled.select(\"features\").show(5, truncate = false)"
   ]
  },
  {
   "cell_type": "markdown",
   "id": "e27f6463-03b4-494b-9748-f1e289efa4f5",
   "metadata": {},
   "source": [
    "### Нормализация"
   ]
  },
  {
   "cell_type": "code",
   "execution_count": 27,
   "id": "37706b46-78c6-4f08-915d-20755ec964bb",
   "metadata": {},
   "outputs": [
    {
     "name": "stdout",
     "output_type": "stream",
     "text": [
      "+--------------------------------------------------------------------------------------------------------------------+------------------------------------------------------------------------------------------------------------------------------------------------------------------------------------------------------------------------------------+\n",
      "|features                                                                                                            |scaledFeatures                                                                                                                                                                                                                      |\n",
      "+--------------------------------------------------------------------------------------------------------------------+------------------------------------------------------------------------------------------------------------------------------------------------------------------------------------------------------------------------------------+\n",
      "|(28,[0,1,2,3,4,5,6,7,8,9,12,17,23,25],[45.0,3.0,5.0,1.0,3.0,11914.0,1.335,1144.0,1.625,0.061,1.0,1.0,1.0,1.0])      |(28,[0,1,2,3,4,5,6,7,8,9,12,17,23,25],[0.40425531914893614,0.6000000000000001,0.8,0.16666666666666666,0.5,0.3451163329759801,0.39299381807477185,0.03527317236007566,0.43753365643511044,0.061061061061061066,1.0,1.0,1.0,1.0])     |\n",
      "|(28,[0,1,2,3,4,5,6,7,8,9,10,11,18,20,25],[49.0,5.0,6.0,1.0,2.0,7392.0,1.541,1291.0,3.714,0.105,1.0,1.0,1.0,1.0,1.0])|(28,[0,1,2,3,4,5,6,7,8,9,10,11,18,20,25],[0.48936170212765956,1.0,1.0,0.16666666666666666,0.3333333333333333,0.21409324022831977,0.4536355607889314,0.043451652386780906,1.0,0.10510510510510511,1.0,1.0,1.0,1.0,1.0])              |\n",
      "|(28,[0,1,2,3,5,6,7,8,11,17,22,25],[51.0,3.0,4.0,1.0,3418.0,2.594,1887.0,2.333,1.0,1.0,1.0,1.0])                     |(28,[0,1,2,3,5,6,7,8,11,17,22,25],[0.5319148936170213,0.6000000000000001,0.6000000000000001,0.16666666666666666,0.09894822240894735,0.7636149543715043,0.07661065984199399,0.6281637049003771,1.0,1.0,1.0,1.0])                     |\n",
      "|(28,[0,1,2,3,4,5,6,7,8,9,10,12,19,20,25],[40.0,4.0,3.0,4.0,1.0,796.0,1.405,1171.0,2.333,0.76,1.0,1.0,1.0,1.0,1.0])  |(28,[0,1,2,3,4,5,6,7,8,9,10,12,19,20,25],[0.2978723404255319,0.8,0.4,0.6666666666666666,0.16666666666666666,0.02297684930316113,0.41360023550191344,0.036775342160899074,0.6281637049003771,0.7607607607607608,1.0,1.0,1.0,1.0,1.0])|\n",
      "|(28,[0,1,2,3,5,6,7,8,14,17,23,25],[40.0,3.0,5.0,1.0,4716.0,2.175,816.0,2.5,1.0,1.0,1.0,1.0])                        |(28,[0,1,2,3,5,6,7,8,14,17,23,25],[0.2978723404255319,0.6000000000000001,0.8,0.16666666666666666,0.13655723930113292,0.6402708272004709,0.017024591075998664,0.6731287022078623,1.0,1.0,1.0,1.0])                                   |\n",
      "+--------------------------------------------------------------------------------------------------------------------+------------------------------------------------------------------------------------------------------------------------------------------------------------------------------------------------------------------------------------+\n",
      "only showing top 5 rows\n",
      "\n"
     ]
    },
    {
     "data": {
      "text/plain": [
       "\u001b[32mimport \u001b[39m\u001b[36morg.apache.spark.ml.feature.MinMaxScaler\n",
       "\n",
       "\u001b[39m\n",
       "\u001b[36mscaler\u001b[39m: \u001b[32mMinMaxScaler\u001b[39m = minMaxScal_bcf5c577485f\n",
       "\u001b[36mscaled\u001b[39m: \u001b[32mDataFrame\u001b[39m = [Attrition_Flag: string, Customer_Age: int ... 31 more fields]"
      ]
     },
     "execution_count": 27,
     "metadata": {},
     "output_type": "execute_result"
    }
   ],
   "source": [
    "import org.apache.spark.ml.feature.MinMaxScaler\n",
    "\n",
    "val scaler = new MinMaxScaler()\n",
    "  .setInputCol(\"features\")\n",
    "  .setOutputCol(\"scaledFeatures\")\n",
    "\n",
    "val scaled = scaler.fit(assembled).transform(assembled)\n",
    "\n",
    "scaled.select(\"features\", \"scaledFeatures\").show(5, truncate = false)"
   ]
  },
  {
   "cell_type": "markdown",
   "id": "e6d59fbc-de15-4779-a572-a03d83ee7120",
   "metadata": {},
   "source": [
    "## Feature Selection (отбор признаков)"
   ]
  },
  {
   "cell_type": "code",
   "execution_count": 28,
   "id": "f8dc8b56-b2fc-440c-a02c-ee3fe6ab6539",
   "metadata": {},
   "outputs": [
    {
     "name": "stdout",
     "output_type": "stream",
     "text": [
      "+------------------------------------------------------------------------------------------------------------------------------------------------------------------------------------------------------------------------------------+------------------------------------------------------------------------------------------------------------------------------------------------------------------------------------------------------+\n",
      "|scaledFeatures                                                                                                                                                                                                                      |selectedFeatures                                                                                                                                                                                      |\n",
      "+------------------------------------------------------------------------------------------------------------------------------------------------------------------------------------------------------------------------------------+------------------------------------------------------------------------------------------------------------------------------------------------------------------------------------------------------+\n",
      "|(28,[0,1,2,3,4,5,6,7,8,9,12,17,23,25],[0.40425531914893614,0.6000000000000001,0.8,0.16666666666666666,0.5,0.3451163329759801,0.39299381807477185,0.03527317236007566,0.43753365643511044,0.061061061061061066,1.0,1.0,1.0,1.0])     |(21,[0,1,2,3,4,5,6,7,8,11,14,19],[0.40425531914893614,0.6000000000000001,0.8,0.16666666666666666,0.5,0.39299381807477185,0.03527317236007566,0.43753365643511044,0.061061061061061066,1.0,1.0,1.0])   |\n",
      "|(28,[0,1,2,3,4,5,6,7,8,9,10,11,18,20,25],[0.48936170212765956,1.0,1.0,0.16666666666666666,0.3333333333333333,0.21409324022831977,0.4536355607889314,0.043451652386780906,1.0,0.10510510510510511,1.0,1.0,1.0,1.0,1.0])              |(21,[0,1,2,3,4,5,6,7,8,9,10,15,17],[0.48936170212765956,1.0,1.0,0.16666666666666666,0.3333333333333333,0.4536355607889314,0.043451652386780906,1.0,0.10510510510510511,1.0,1.0,1.0,1.0])              |\n",
      "|(28,[0,1,2,3,5,6,7,8,11,17,22,25],[0.5319148936170213,0.6000000000000001,0.6000000000000001,0.16666666666666666,0.09894822240894735,0.7636149543715043,0.07661065984199399,0.6281637049003771,1.0,1.0,1.0,1.0])                     |(21,[0,1,2,3,5,6,7,10,14],[0.5319148936170213,0.6000000000000001,0.6000000000000001,0.16666666666666666,0.7636149543715043,0.07661065984199399,0.6281637049003771,1.0,1.0])                           |\n",
      "|(28,[0,1,2,3,4,5,6,7,8,9,10,12,19,20,25],[0.2978723404255319,0.8,0.4,0.6666666666666666,0.16666666666666666,0.02297684930316113,0.41360023550191344,0.036775342160899074,0.6281637049003771,0.7607607607607608,1.0,1.0,1.0,1.0,1.0])|(21,[0,1,2,3,4,5,6,7,8,9,11,16,17],[0.2978723404255319,0.8,0.4,0.6666666666666666,0.16666666666666666,0.41360023550191344,0.036775342160899074,0.6281637049003771,0.7607607607607608,1.0,1.0,1.0,1.0])|\n",
      "|(28,[0,1,2,3,5,6,7,8,14,17,23,25],[0.2978723404255319,0.6000000000000001,0.8,0.16666666666666666,0.13655723930113292,0.6402708272004709,0.017024591075998664,0.6731287022078623,1.0,1.0,1.0,1.0])                                   |(21,[0,1,2,3,5,6,7,14,19],[0.2978723404255319,0.6000000000000001,0.8,0.16666666666666666,0.6402708272004709,0.017024591075998664,0.6731287022078623,1.0,1.0])                                         |\n",
      "+------------------------------------------------------------------------------------------------------------------------------------------------------------------------------------------------------------------------------------+------------------------------------------------------------------------------------------------------------------------------------------------------------------------------------------------------+\n",
      "only showing top 5 rows\n",
      "\n"
     ]
    },
    {
     "data": {
      "text/plain": [
       "\u001b[32mimport \u001b[39m\u001b[36morg.apache.spark.ml.feature.UnivariateFeatureSelector\n",
       "\n",
       "\u001b[39m\n",
       "\u001b[36mselector\u001b[39m: \u001b[32mUnivariateFeatureSelector\u001b[39m = UnivariateFeatureSelector_850765cb4336\n",
       "\u001b[36mdataF\u001b[39m: \u001b[32mDataFrame\u001b[39m = [Attrition_Flag: string, Customer_Age: int ... 32 more fields]"
      ]
     },
     "execution_count": 28,
     "metadata": {},
     "output_type": "execute_result"
    }
   ],
   "source": [
    "import org.apache.spark.ml.feature.UnivariateFeatureSelector\n",
    "\n",
    "val selector = new UnivariateFeatureSelector()\n",
    "  .setFeatureType(\"continuous\")\n",
    "  .setLabelType(\"categorical\")\n",
    "  .setSelectionMode(\"percentile\")\n",
    "  .setSelectionThreshold(0.75)\n",
    "  .setFeaturesCol(\"scaledFeatures\")\n",
    "  .setLabelCol(\"target\")\n",
    "  .setOutputCol(\"selectedFeatures\")\n",
    "\n",
    "val dataF = selector.fit(scaled).transform(scaled)\n",
    "\n",
    "dataF.select(\"scaledFeatures\", \"selectedFeatures\").show(5, truncate = false)"
   ]
  },
  {
   "cell_type": "markdown",
   "id": "60bb5508-b12a-4bb6-8711-411b5199dc15",
   "metadata": {},
   "source": [
    "## Моделирование"
   ]
  },
  {
   "cell_type": "markdown",
   "id": "09f619f0-7bbf-4856-8f19-bf48e9c4a513",
   "metadata": {},
   "source": [
    "### Обучающая и тестовая выборки"
   ]
  },
  {
   "cell_type": "code",
   "execution_count": 29,
   "id": "ff2a780d-d6ac-4bb8-b04c-60e54e160490",
   "metadata": {},
   "outputs": [
    {
     "name": "stdout",
     "output_type": "stream",
     "text": [
      "training\t11639\n",
      "test\t4996\n"
     ]
    },
    {
     "data": {
      "text/plain": [
       "\u001b[36mtt\u001b[39m: \u001b[32mArray\u001b[39m[\u001b[32mDataset\u001b[39m[\u001b[32mRow\u001b[39m]] = \u001b[33mArray\u001b[39m(\n",
       "  [Attrition_Flag: string, Customer_Age: int ... 32 more fields],\n",
       "  [Attrition_Flag: string, Customer_Age: int ... 32 more fields]\n",
       ")\n",
       "\u001b[36mtraining\u001b[39m: \u001b[32mDataset\u001b[39m[\u001b[32mRow\u001b[39m] = [Attrition_Flag: string, Customer_Age: int ... 32 more fields]\n",
       "\u001b[36mtest\u001b[39m: \u001b[32mDataset\u001b[39m[\u001b[32mRow\u001b[39m] = [Attrition_Flag: string, Customer_Age: int ... 32 more fields]"
      ]
     },
     "execution_count": 29,
     "metadata": {},
     "output_type": "execute_result"
    }
   ],
   "source": [
    "val tt: Array[Dataset[Row]] = dataF.randomSplit(Array(0.7, 0.3))\n",
    "val training = tt(0)\n",
    "val test = tt(1)\n",
    "\n",
    "println(s\"training\\t${training.count}\\ntest\\t${test.count}\")"
   ]
  },
  {
   "cell_type": "markdown",
   "id": "ac926905-6ead-43d2-a794-9e8628d992dd",
   "metadata": {},
   "source": [
    "### Логистическая регрессия"
   ]
  },
  {
   "cell_type": "code",
   "execution_count": 30,
   "id": "5dd9f5bf-2b6b-4d49-9908-16eefa343232",
   "metadata": {},
   "outputs": [
    {
     "name": "stdout",
     "output_type": "stream",
     "text": [
      "Coefficients: (21,[7],[-1.6102775136145406]) Intercept: 0.23758947120268378\n"
     ]
    },
    {
     "data": {
      "text/plain": [
       "\u001b[32mimport \u001b[39m\u001b[36morg.apache.spark.ml.classification.LogisticRegression\n",
       "\n",
       "\u001b[39m\n",
       "\u001b[36mlr\u001b[39m: \u001b[32mLogisticRegression\u001b[39m = logreg_b700fc9f3aa2\n",
       "\u001b[36mlrModel\u001b[39m: \u001b[32morg\u001b[39m.\u001b[32mapache\u001b[39m.\u001b[32mspark\u001b[39m.\u001b[32mml\u001b[39m.\u001b[32mclassification\u001b[39m.\u001b[32mLogisticRegressionModel\u001b[39m = LogisticRegressionModel: uid=logreg_b700fc9f3aa2, numClasses=2, numFeatures=21"
      ]
     },
     "execution_count": 30,
     "metadata": {},
     "output_type": "execute_result"
    }
   ],
   "source": [
    "import org.apache.spark.ml.classification.LogisticRegression\n",
    "\n",
    "val lr = new LogisticRegression()\n",
    "        .setMaxIter(1000)\n",
    "        .setRegParam(0.2)\n",
    "        .setElasticNetParam(0.8)\n",
    "        .setFamily(\"binomial\")\n",
    "        .setFeaturesCol(\"selectedFeatures\")\n",
    "        .setLabelCol(\"target\")\n",
    "\n",
    "val lrModel = lr.fit(training)\n",
    "\n",
    "println(s\"Coefficients: ${lrModel.coefficients} Intercept: ${lrModel.intercept}\")"
   ]
  },
  {
   "cell_type": "markdown",
   "id": "4b9b5499-19aa-4b81-b223-52c27e54d035",
   "metadata": {},
   "source": [
    "### Training Summary"
   ]
  },
  {
   "cell_type": "code",
   "execution_count": 31,
   "id": "1dde82fa-c440-44d0-8de1-f7b5d74479f9",
   "metadata": {},
   "outputs": [
    {
     "name": "stdout",
     "output_type": "stream",
     "text": [
      "accuracy: 0.696021995016754\n",
      "areaUnderROC: 0.7447824522501013\n"
     ]
    },
    {
     "data": {
      "text/plain": [
       "\u001b[36mtrainingSummary\u001b[39m: \u001b[32morg\u001b[39m.\u001b[32mapache\u001b[39m.\u001b[32mspark\u001b[39m.\u001b[32mml\u001b[39m.\u001b[32mclassification\u001b[39m.\u001b[32mBinaryLogisticRegressionTrainingSummary\u001b[39m = org.apache.spark.ml.classification.BinaryLogisticRegressionTrainingSummaryImpl@319180fb"
      ]
     },
     "execution_count": 31,
     "metadata": {},
     "output_type": "execute_result"
    }
   ],
   "source": [
    "val trainingSummary = lrModel.binarySummary\n",
    "\n",
    "println(s\"accuracy: ${trainingSummary.accuracy}\")\n",
    "println(s\"areaUnderROC: ${trainingSummary.areaUnderROC}\")"
   ]
  },
  {
   "cell_type": "markdown",
   "id": "757791b3-9eec-4c88-8272-cc2c23e855b2",
   "metadata": {},
   "source": [
    "### Проверяем модель на тестовой выборке"
   ]
  },
  {
   "cell_type": "code",
   "execution_count": 32,
   "id": "ff420e42-b7dc-444a-96bd-84b677e14a3f",
   "metadata": {},
   "outputs": [
    {
     "name": "stdout",
     "output_type": "stream",
     "text": [
      "+------+--------------------------------------------+----------------------------------------+----------+\n",
      "|target|rawPrediction                               |probability                             |prediction|\n",
      "+------+--------------------------------------------+----------------------------------------+----------+\n",
      "|0     |[-0.03337818716594476,0.03337818716594476]  |[0.4916562278461923,0.5083437721538078] |1.0       |\n",
      "|0     |[-0.015601833353829447,0.015601833353829447]|[0.4960996207795053,0.5039003792204947] |1.0       |\n",
      "|0     |[-0.03728031361250664,0.03728031361250664]  |[0.4906810008842039,0.509318999115796]  |1.0       |\n",
      "|0     |[-0.030343199929729947,0.030343199929729947]|[0.492414781990672,0.507585218009328]   |1.0       |\n",
      "|0     |[-0.020804668615912014,0.020804668615912014]|[0.49479902044150326,0.5052009795584967]|1.0       |\n",
      "|0     |[0.003475229273806446,-0.003475229273806446]|[0.5008688064440546,0.4991311935559454] |0.0       |\n",
      "|0     |[-0.07977013491951393,0.07977013491951393]  |[0.48006803452987,0.51993196547013]     |1.0       |\n",
      "|0     |[0.1092662129361511,-0.1092662129361511]    |[0.5272894077091381,0.4727105922908619] |0.0       |\n",
      "|0     |[0.07761563175848238,-0.07761563175848238]  |[0.519394172741223,0.480605827258777]   |0.0       |\n",
      "|0     |[0.014314469403145041,-0.014314469403145041]|[0.5035785562459439,0.49642144375405606]|0.0       |\n",
      "+------+--------------------------------------------+----------------------------------------+----------+\n",
      "only showing top 10 rows\n",
      "\n"
     ]
    },
    {
     "data": {
      "text/plain": [
       "\u001b[36mpredicted\u001b[39m: \u001b[32mDataFrame\u001b[39m = [Attrition_Flag: string, Customer_Age: int ... 35 more fields]"
      ]
     },
     "execution_count": 32,
     "metadata": {},
     "output_type": "execute_result"
    }
   ],
   "source": [
    "val predicted = lrModel.transform(test)\n",
    "\n",
    "predicted.select(\"target\", \"rawPrediction\", \"probability\", \"prediction\").show(10, truncate = false)"
   ]
  },
  {
   "cell_type": "code",
   "execution_count": 33,
   "id": "6a63183b-e900-4502-8a09-3102d06ef3c7",
   "metadata": {},
   "outputs": [
    {
     "name": "stdout",
     "output_type": "stream",
     "text": [
      "areaUnderROC: 0.7466445253034425\n",
      "\n"
     ]
    },
    {
     "data": {
      "text/plain": [
       "\u001b[32mimport \u001b[39m\u001b[36morg.apache.spark.ml.evaluation.BinaryClassificationEvaluator\n",
       "\n",
       "\u001b[39m\n",
       "\u001b[36mevaluator\u001b[39m: \u001b[32mBinaryClassificationEvaluator\u001b[39m = BinaryClassificationEvaluator: uid=binEval_3c6655ef8c30, metricName=areaUnderROC, numBins=1000"
      ]
     },
     "execution_count": 33,
     "metadata": {},
     "output_type": "execute_result"
    }
   ],
   "source": [
    "import org.apache.spark.ml.evaluation.BinaryClassificationEvaluator\n",
    "\n",
    "val evaluator = new BinaryClassificationEvaluator().setLabelCol(\"target\")\n",
    "\n",
    "println(s\"areaUnderROC: ${evaluator.evaluate(predicted)}\\n\")"
   ]
  },
  {
   "cell_type": "markdown",
   "id": "95d6c913-426c-4198-8e06-05820721c753",
   "metadata": {},
   "source": [
    "#### Confusion Matrix (матрица ошибок)\n",
    "\n",
    "* True Positive (TP) - label is positive and prediction is also positive\n",
    "* True Negative (TN) - label is negative and prediction is also negative\n",
    "* False Positive (FP) - label is negative but prediction is positive\n",
    "* False Negative (FN) - label is positive but prediction is negative"
   ]
  },
  {
   "cell_type": "code",
   "execution_count": 34,
   "id": "aff1e1e3-157e-4b5e-9828-2aa5c886e612",
   "metadata": {},
   "outputs": [
    {
     "name": "stdout",
     "output_type": "stream",
     "text": [
      "Confusion Matrix:\n",
      "1297\t351\n",
      "1148\t2200\n",
      "\n"
     ]
    },
    {
     "data": {
      "text/plain": [
       "\u001b[36mtp\u001b[39m: \u001b[32mLong\u001b[39m = \u001b[32m1297L\u001b[39m\n",
       "\u001b[36mtn\u001b[39m: \u001b[32mLong\u001b[39m = \u001b[32m2200L\u001b[39m\n",
       "\u001b[36mfp\u001b[39m: \u001b[32mLong\u001b[39m = \u001b[32m351L\u001b[39m\n",
       "\u001b[36mfn\u001b[39m: \u001b[32mLong\u001b[39m = \u001b[32m1148L\u001b[39m"
      ]
     },
     "execution_count": 34,
     "metadata": {},
     "output_type": "execute_result"
    }
   ],
   "source": [
    "val tp = predicted.filter(($\"target\" === 1) and ($\"prediction\" === 1)).count\n",
    "val tn = predicted.filter(($\"target\" === 0) and ($\"prediction\" === 0)).count\n",
    "val fp = predicted.filter(($\"target\" === 0) and ($\"prediction\" === 1)).count\n",
    "val fn = predicted.filter(($\"target\" === 1) and ($\"prediction\" === 0)).count\n",
    "\n",
    "println(s\"Confusion Matrix:\\n$tp\\t$fp\\n$fn\\t$tn\\n\")"
   ]
  },
  {
   "cell_type": "markdown",
   "id": "c94ee248-bb40-48c4-bd2b-11ce80ce2468",
   "metadata": {},
   "source": [
    "#### Accuracy, Precision, Recall\n",
    "\n",
    "* Accuracy (доля правильных ответов) = TP + TN / TP + TN + FP + FN\n",
    "* Precision (точность) = TP / TP + FP\n",
    "* Recall (полнота) = TP / TP + FN"
   ]
  },
  {
   "cell_type": "code",
   "execution_count": 35,
   "id": "a8a96284-0f9d-42bb-8093-6bc2abf6905a",
   "metadata": {},
   "outputs": [
    {
     "name": "stdout",
     "output_type": "stream",
     "text": [
      "Accuracy = 0.6999599679743795\n",
      "Precision = 0.7870145631067961\n",
      "Recall = 0.5304703476482617\n",
      "\n"
     ]
    },
    {
     "data": {
      "text/plain": [
       "\u001b[36maccuracy\u001b[39m: \u001b[32mDouble\u001b[39m = \u001b[32m0.6999599679743795\u001b[39m\n",
       "\u001b[36mprecision\u001b[39m: \u001b[32mDouble\u001b[39m = \u001b[32m0.7870145631067961\u001b[39m\n",
       "\u001b[36mrecall\u001b[39m: \u001b[32mDouble\u001b[39m = \u001b[32m0.5304703476482617\u001b[39m"
      ]
     },
     "execution_count": 35,
     "metadata": {},
     "output_type": "execute_result"
    }
   ],
   "source": [
    "val accuracy = (tp + tn) / (tp + tn + fp + fn).toDouble\n",
    "val precision = tp / (tp + fp).toDouble\n",
    "val recall = tp / (tp + fn).toDouble\n",
    "\n",
    "println(s\"Accuracy = $accuracy\")\n",
    "println(s\"Precision = $precision\")\n",
    "println(s\"Recall = $recall\\n\")"
   ]
  },
  {
   "cell_type": "markdown",
   "id": "1c224c31-47c1-41ff-988c-759b4b21b1a2",
   "metadata": {},
   "source": [
    "## Настраиваем модель (подбираем гиперпараметры)"
   ]
  },
  {
   "cell_type": "code",
   "execution_count": 36,
   "id": "75151856-41e6-4147-ba78-1a05f9184579",
   "metadata": {},
   "outputs": [
    {
     "data": {
      "text/plain": [
       "\u001b[32mimport \u001b[39m\u001b[36morg.apache.spark.ml.tuning.{ParamGridBuilder, TrainValidationSplit}\n",
       "\n",
       "\u001b[39m\n",
       "\u001b[36mparamGrid\u001b[39m: \u001b[32mArray\u001b[39m[\u001b[32morg\u001b[39m.\u001b[32mapache\u001b[39m.\u001b[32mspark\u001b[39m.\u001b[32mml\u001b[39m.\u001b[32mparam\u001b[39m.\u001b[32mParamMap\u001b[39m] = \u001b[33mArray\u001b[39m(\n",
       "  {\n",
       "\tlogreg_b700fc9f3aa2-elasticNetParam: 0.0,\n",
       "\tlogreg_b700fc9f3aa2-fitIntercept: true,\n",
       "\tlogreg_b700fc9f3aa2-regParam: 0.01\n",
       "},\n",
       "  {\n",
       "\tlogreg_b700fc9f3aa2-elasticNetParam: 0.0,\n",
       "\tlogreg_b700fc9f3aa2-fitIntercept: false,\n",
       "\tlogreg_b700fc9f3aa2-regParam: 0.01\n",
       "},\n",
       "  {\n",
       "\tlogreg_b700fc9f3aa2-elasticNetParam: 0.0,\n",
       "\tlogreg_b700fc9f3aa2-fitIntercept: true,\n",
       "\tlogreg_b700fc9f3aa2-regParam: 0.1\n",
       "},\n",
       "  {\n",
       "\tlogreg_b700fc9f3aa2-elasticNetParam: 0.0,\n",
       "\tlogreg_b700fc9f3aa2-fitIntercept: false,\n",
       "\tlogreg_b700fc9f3aa2-regParam: 0.1\n",
       "},\n",
       "  {\n",
       "\tlogreg_b700fc9f3aa2-elasticNetParam: 0.0,\n",
       "\tlogreg_b700fc9f3aa2-fitIntercept: true,\n",
       "\tlogreg_b700fc9f3aa2-regParam: 0.5\n",
       "},\n",
       "  {\n",
       "\tlogreg_b700fc9f3aa2-elasticNetParam: 0.0,\n",
       "\tlogreg_b700fc9f3aa2-fitIntercept: false,\n",
       "\tlogreg_b700fc9f3aa2-regParam: 0.5\n",
       "},\n",
       "  {\n",
       "\tlogreg_b700fc9f3aa2-elasticNetParam: 0.5,\n",
       "\tlogreg_b700fc9f3aa2-fitIntercept: true,\n",
       "\tlogreg_b700fc9f3aa2-regParam: 0.01\n",
       "},\n",
       "  {\n",
       "\tlogreg_b700fc9f3aa2-elasticNetParam: 0.5,\n",
       "\tlogreg_b700fc9f3aa2-fitIntercept: false,\n",
       "...\n",
       "\u001b[36mtrainValidationSplit\u001b[39m: \u001b[32mTrainValidationSplit\u001b[39m = tvs_4b411afa02ae\n",
       "\u001b[36mmodel\u001b[39m: \u001b[32morg\u001b[39m.\u001b[32mapache\u001b[39m.\u001b[32mspark\u001b[39m.\u001b[32mml\u001b[39m.\u001b[32mtuning\u001b[39m.\u001b[32mTrainValidationSplitModel\u001b[39m = TrainValidationSplitModel: uid=tvs_4b411afa02ae, bestModel=LogisticRegressionModel: uid=logreg_b700fc9f3aa2, numClasses=2, numFeatures=21, trainRatio=0.7"
      ]
     },
     "execution_count": 36,
     "metadata": {},
     "output_type": "execute_result"
    }
   ],
   "source": [
    "import org.apache.spark.ml.tuning.{ParamGridBuilder, TrainValidationSplit}\n",
    "\n",
    "val paramGrid = new ParamGridBuilder()\n",
    "  .addGrid(lr.regParam, Array(0.01, 0.1, 0.5))\n",
    "  .addGrid(lr.fitIntercept)\n",
    "  .addGrid(lr.elasticNetParam, Array(0.0, 0.5, 1.0))\n",
    "  .build()\n",
    "\n",
    "val trainValidationSplit = new TrainValidationSplit()\n",
    "  .setEstimator(lr)\n",
    "  .setEvaluator(evaluator)\n",
    "  .setEstimatorParamMaps(paramGrid)\n",
    "  .setTrainRatio(0.7)\n",
    "  .setParallelism(2)\n",
    "\n",
    "val model = trainValidationSplit.fit(dataF)"
   ]
  },
  {
   "cell_type": "code",
   "execution_count": 37,
   "id": "2efc80a3-f16b-42be-ac17-0b38e6b41f79",
   "metadata": {},
   "outputs": [
    {
     "data": {
      "text/plain": [
       "\u001b[36mres36\u001b[39m: \u001b[32morg\u001b[39m.\u001b[32mapache\u001b[39m.\u001b[32mspark\u001b[39m.\u001b[32mml\u001b[39m.\u001b[32mparam\u001b[39m.\u001b[32mParamMap\u001b[39m = {\n",
       "\tlogreg_b700fc9f3aa2-aggregationDepth: 2,\n",
       "\tlogreg_b700fc9f3aa2-elasticNetParam: 0.0,\n",
       "\tlogreg_b700fc9f3aa2-family: binomial,\n",
       "\tlogreg_b700fc9f3aa2-featuresCol: selectedFeatures,\n",
       "\tlogreg_b700fc9f3aa2-fitIntercept: true,\n",
       "\tlogreg_b700fc9f3aa2-labelCol: target,\n",
       "\tlogreg_b700fc9f3aa2-maxBlockSizeInMB: 0.0,\n",
       "\tlogreg_b700fc9f3aa2-maxIter: 1000,\n",
       "\tlogreg_b700fc9f3aa2-predictionCol: prediction,\n",
       "\tlogreg_b700fc9f3aa2-probabilityCol: probability,\n",
       "\tlogreg_b700fc9f3aa2-rawPredictionCol: rawPrediction,\n",
       "\tlogreg_b700fc9f3aa2-regParam: 0.01,\n",
       "\tlogreg_b700fc9f3aa2-standardization: true,\n",
       "\tlogreg_b700fc9f3aa2-threshold: 0.5,\n",
       "\tlogreg_b700fc9f3aa2-tol: 1.0E-6\n",
       "}"
      ]
     },
     "execution_count": 37,
     "metadata": {},
     "output_type": "execute_result"
    }
   ],
   "source": [
    "model.bestModel.extractParamMap()"
   ]
  },
  {
   "cell_type": "markdown",
   "id": "b3fb4e5b-27e2-42f8-a644-d7375a221344",
   "metadata": {},
   "source": [
    "## Собираем всё вместе (Pipeline)\n",
    "\n",
    "1. Отобрали числовые признаки: numericColumnsFinal\n",
    "2. Проиндексировали строковые признаки: indexer\n",
    "3. Закодировали категориальные признки: encoder\n",
    "4. Собрали признаки в вектор: assembler\n",
    "5. Нормализовали признаки: scaler\n",
    "6. Провели отбор признаков: selector\n",
    "7. Рассчитали модель: bestML "
   ]
  },
  {
   "cell_type": "code",
   "execution_count": 38,
   "id": "40e15077-5834-404b-9e35-1bd71db981f0",
   "metadata": {},
   "outputs": [
    {
     "data": {
      "text/plain": [
       "\u001b[32mimport \u001b[39m\u001b[36morg.apache.spark.ml.Pipeline\n",
       "\n",
       "\u001b[39m\n",
       "\u001b[36mpipeline\u001b[39m: \u001b[32mPipeline\u001b[39m = pipeline_12508b6c18db"
      ]
     },
     "execution_count": 38,
     "metadata": {},
     "output_type": "execute_result"
    }
   ],
   "source": [
    "import org.apache.spark.ml.Pipeline\n",
    "\n",
    "val pipeline = new Pipeline().setStages(Array(indexer, encoder, assembler, scaler, selector, model.bestModel))"
   ]
  },
  {
   "cell_type": "code",
   "execution_count": 39,
   "id": "3ea3268f-db9a-49ad-b95f-e06e9ef7c841",
   "metadata": {},
   "outputs": [
    {
     "data": {
      "text/plain": [
       "\u001b[36mtrainingData\u001b[39m: \u001b[32mDataset\u001b[39m[\u001b[32mRow\u001b[39m] = [Attrition_Flag: string, Customer_Age: int ... 19 more fields]\n",
       "\u001b[36mtestData\u001b[39m: \u001b[32mDataset\u001b[39m[\u001b[32mRow\u001b[39m] = [Attrition_Flag: string, Customer_Age: int ... 19 more fields]\n",
       "\u001b[36mpipelineModel\u001b[39m: \u001b[32morg\u001b[39m.\u001b[32mapache\u001b[39m.\u001b[32mspark\u001b[39m.\u001b[32mml\u001b[39m.\u001b[32mPipelineModel\u001b[39m = pipeline_12508b6c18db"
      ]
     },
     "execution_count": 39,
     "metadata": {},
     "output_type": "execute_result"
    }
   ],
   "source": [
    "val Array(trainingData, testData) = data.randomSplit(Array(0.7, 0.3))\n",
    "\n",
    "val pipelineModel = pipeline.fit(trainingData)"
   ]
  },
  {
   "cell_type": "markdown",
   "id": "2650a672-b2c3-4c9b-8e77-de3035267d22",
   "metadata": {},
   "source": [
    "## Сохраняем модель"
   ]
  },
  {
   "cell_type": "code",
   "execution_count": 40,
   "id": "c8d4e858-94f3-4cda-aeaf-745691563efc",
   "metadata": {},
   "outputs": [],
   "source": [
    "pipelineModel.write.overwrite().save(s\"$basePath/Scala/pipelineModel\")"
   ]
  },
  {
   "cell_type": "code",
   "execution_count": null,
   "id": "865c12cf-5b41-4042-be6f-96cd0e89693f",
   "metadata": {},
   "outputs": [],
   "source": []
  }
 ],
 "metadata": {
  "kernelspec": {
   "display_name": "Scala",
   "language": "scala",
   "name": "scala"
  },
  "language_info": {
   "codemirror_mode": "text/x-scala",
   "file_extension": ".scala",
   "mimetype": "text/x-scala",
   "name": "scala",
   "nbconvert_exporter": "script",
   "version": "2.12.10"
  }
 },
 "nbformat": 4,
 "nbformat_minor": 5
}
